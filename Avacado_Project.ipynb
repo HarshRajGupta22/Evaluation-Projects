{
  "nbformat": 4,
  "nbformat_minor": 0,
  "metadata": {
    "colab": {
      "name": "Avacado Project.ipynb",
      "provenance": [],
      "collapsed_sections": []
    },
    "kernelspec": {
      "name": "python3",
      "display_name": "Python 3"
    },
    "language_info": {
      "name": "python"
    }
  },
  "cells": [
    {
      "cell_type": "markdown",
      "source": [
        "# AVACADO"
      ],
      "metadata": {
        "id": "Ot-SnOQhIEm7"
      }
    },
    {
      "cell_type": "markdown",
      "source": [
        "The avocado (Persea americana) is a tree originating in the Americas which is likely native to the highland regions of south-central Mexico to Guatemala. It is classified as a member of the flowering plant family Lauraceae.The fruit of the plant, also called an avocado (or avocado pear or alligator pear), is botanically a large berry containing a single large seed.Avocado trees are partially self-pollinating, and are often propagated through grafting to maintain predictable fruit quality and quantity.\n",
        "\n",
        "Avocados are cultivated in tropical and Mediterranean climates of many countries, with Mexico as the leading producer of avocados in 2019, supplying 32% of the world total.\n",
        "\n",
        "The fruit of domestic varieties has a buttery flesh when ripe. Depending on the variety, avocados have green, brown, purplish, or black skin when ripe, and may be pear-shaped, egg-shaped, or spherical. Commercially, the fruits are picked while immature, and ripened after harvesting."
      ],
      "metadata": {
        "id": "FRzzwT8HIwDe"
      }
    },
    {
      "cell_type": "markdown",
      "source": [
        "# Data Description"
      ],
      "metadata": {
        "id": "5khh0MCKI75U"
      }
    },
    {
      "cell_type": "markdown",
      "source": [
        "This data was downloaded from the Hass Avocado Board website in May of 2018 & compiled into a single CSV. \n",
        "\n",
        "The table below represents weekly 2018 retail scan data for National retail volume (units) and price. Retail scan data comes directly from retailers’ cash registers based on actual retail sales of Hass avocados. \n",
        "\n",
        "Starting in 2013, the table below reflects an expanded, multi-outlet retail data set. Multi-outlet reporting includes an aggregation of the following channels: grocery, mass, club, drug, dollar and military. The Average Price (of avocados) in the table reflects a per unit (per avocado) cost, even when multiple units (avocados) are sold in bags. \n",
        "\n",
        "The Product Lookup codes (PLU’s) in the table are only for Hass avocados. Other varieties of avocados (e.g. greenskins) are not included in this table."
      ],
      "metadata": {
        "id": "TYumCOE2JBZr"
      }
    },
    {
      "cell_type": "markdown",
      "source": [
        "# Loading The DataSet"
      ],
      "metadata": {
        "id": "SO3gs-GWJKUO"
      }
    },
    {
      "cell_type": "code",
      "source": [
        "import pandas as pd\n",
        "import numpy as np\n",
        "path ='https://raw.githubusercontent.com/HarshRajGupta22/DataSets-Repo/main/avocado.csv'\n",
        "df = pd.read_csv(path)"
      ],
      "metadata": {
        "id": "QGfctnx_IIYH"
      },
      "execution_count": 62,
      "outputs": []
    },
    {
      "cell_type": "code",
      "source": [
        "df"
      ],
      "metadata": {
        "colab": {
          "base_uri": "https://localhost:8080/",
          "height": 423
        },
        "id": "ixs2RfjJJVsw",
        "outputId": "5b6ed2d3-f94f-4cc8-d7f6-db4fe2fc3137"
      },
      "execution_count": 2,
      "outputs": [
        {
          "output_type": "execute_result",
          "data": {
            "text/plain": [
              "       Unnamed: 0        Date  AveragePrice  Total Volume     4046       4225  \\\n",
              "0               0  2015-12-27          1.33      64236.62  1036.74   54454.85   \n",
              "1               1  2015-12-20          1.35      54876.98   674.28   44638.81   \n",
              "2               2  2015-12-13          0.93     118220.22   794.70  109149.67   \n",
              "3               3  2015-12-06          1.08      78992.15  1132.00   71976.41   \n",
              "4               4  2015-11-29          1.28      51039.60   941.48   43838.39   \n",
              "...           ...         ...           ...           ...      ...        ...   \n",
              "18244           7  2018-02-04          1.63      17074.83  2046.96    1529.20   \n",
              "18245           8  2018-01-28          1.71      13888.04  1191.70    3431.50   \n",
              "18246           9  2018-01-21          1.87      13766.76  1191.92    2452.79   \n",
              "18247          10  2018-01-14          1.93      16205.22  1527.63    2981.04   \n",
              "18248          11  2018-01-07          1.62      17489.58  2894.77    2356.13   \n",
              "\n",
              "         4770  Total Bags  Small Bags  Large Bags  XLarge Bags          type  \\\n",
              "0       48.16     8696.87     8603.62       93.25          0.0  conventional   \n",
              "1       58.33     9505.56     9408.07       97.49          0.0  conventional   \n",
              "2      130.50     8145.35     8042.21      103.14          0.0  conventional   \n",
              "3       72.58     5811.16     5677.40      133.76          0.0  conventional   \n",
              "4       75.78     6183.95     5986.26      197.69          0.0  conventional   \n",
              "...       ...         ...         ...         ...          ...           ...   \n",
              "18244    0.00    13498.67    13066.82      431.85          0.0       organic   \n",
              "18245    0.00     9264.84     8940.04      324.80          0.0       organic   \n",
              "18246  727.94     9394.11     9351.80       42.31          0.0       organic   \n",
              "18247  727.01    10969.54    10919.54       50.00          0.0       organic   \n",
              "18248  224.53    12014.15    11988.14       26.01          0.0       organic   \n",
              "\n",
              "       year            region  \n",
              "0      2015            Albany  \n",
              "1      2015            Albany  \n",
              "2      2015            Albany  \n",
              "3      2015            Albany  \n",
              "4      2015            Albany  \n",
              "...     ...               ...  \n",
              "18244  2018  WestTexNewMexico  \n",
              "18245  2018  WestTexNewMexico  \n",
              "18246  2018  WestTexNewMexico  \n",
              "18247  2018  WestTexNewMexico  \n",
              "18248  2018  WestTexNewMexico  \n",
              "\n",
              "[18249 rows x 14 columns]"
            ],
            "text/html": [
              "\n",
              "  <div id=\"df-727c6a35-ff1f-4492-8044-f2a72d742ea9\">\n",
              "    <div class=\"colab-df-container\">\n",
              "      <div>\n",
              "<style scoped>\n",
              "    .dataframe tbody tr th:only-of-type {\n",
              "        vertical-align: middle;\n",
              "    }\n",
              "\n",
              "    .dataframe tbody tr th {\n",
              "        vertical-align: top;\n",
              "    }\n",
              "\n",
              "    .dataframe thead th {\n",
              "        text-align: right;\n",
              "    }\n",
              "</style>\n",
              "<table border=\"1\" class=\"dataframe\">\n",
              "  <thead>\n",
              "    <tr style=\"text-align: right;\">\n",
              "      <th></th>\n",
              "      <th>Unnamed: 0</th>\n",
              "      <th>Date</th>\n",
              "      <th>AveragePrice</th>\n",
              "      <th>Total Volume</th>\n",
              "      <th>4046</th>\n",
              "      <th>4225</th>\n",
              "      <th>4770</th>\n",
              "      <th>Total Bags</th>\n",
              "      <th>Small Bags</th>\n",
              "      <th>Large Bags</th>\n",
              "      <th>XLarge Bags</th>\n",
              "      <th>type</th>\n",
              "      <th>year</th>\n",
              "      <th>region</th>\n",
              "    </tr>\n",
              "  </thead>\n",
              "  <tbody>\n",
              "    <tr>\n",
              "      <th>0</th>\n",
              "      <td>0</td>\n",
              "      <td>2015-12-27</td>\n",
              "      <td>1.33</td>\n",
              "      <td>64236.62</td>\n",
              "      <td>1036.74</td>\n",
              "      <td>54454.85</td>\n",
              "      <td>48.16</td>\n",
              "      <td>8696.87</td>\n",
              "      <td>8603.62</td>\n",
              "      <td>93.25</td>\n",
              "      <td>0.0</td>\n",
              "      <td>conventional</td>\n",
              "      <td>2015</td>\n",
              "      <td>Albany</td>\n",
              "    </tr>\n",
              "    <tr>\n",
              "      <th>1</th>\n",
              "      <td>1</td>\n",
              "      <td>2015-12-20</td>\n",
              "      <td>1.35</td>\n",
              "      <td>54876.98</td>\n",
              "      <td>674.28</td>\n",
              "      <td>44638.81</td>\n",
              "      <td>58.33</td>\n",
              "      <td>9505.56</td>\n",
              "      <td>9408.07</td>\n",
              "      <td>97.49</td>\n",
              "      <td>0.0</td>\n",
              "      <td>conventional</td>\n",
              "      <td>2015</td>\n",
              "      <td>Albany</td>\n",
              "    </tr>\n",
              "    <tr>\n",
              "      <th>2</th>\n",
              "      <td>2</td>\n",
              "      <td>2015-12-13</td>\n",
              "      <td>0.93</td>\n",
              "      <td>118220.22</td>\n",
              "      <td>794.70</td>\n",
              "      <td>109149.67</td>\n",
              "      <td>130.50</td>\n",
              "      <td>8145.35</td>\n",
              "      <td>8042.21</td>\n",
              "      <td>103.14</td>\n",
              "      <td>0.0</td>\n",
              "      <td>conventional</td>\n",
              "      <td>2015</td>\n",
              "      <td>Albany</td>\n",
              "    </tr>\n",
              "    <tr>\n",
              "      <th>3</th>\n",
              "      <td>3</td>\n",
              "      <td>2015-12-06</td>\n",
              "      <td>1.08</td>\n",
              "      <td>78992.15</td>\n",
              "      <td>1132.00</td>\n",
              "      <td>71976.41</td>\n",
              "      <td>72.58</td>\n",
              "      <td>5811.16</td>\n",
              "      <td>5677.40</td>\n",
              "      <td>133.76</td>\n",
              "      <td>0.0</td>\n",
              "      <td>conventional</td>\n",
              "      <td>2015</td>\n",
              "      <td>Albany</td>\n",
              "    </tr>\n",
              "    <tr>\n",
              "      <th>4</th>\n",
              "      <td>4</td>\n",
              "      <td>2015-11-29</td>\n",
              "      <td>1.28</td>\n",
              "      <td>51039.60</td>\n",
              "      <td>941.48</td>\n",
              "      <td>43838.39</td>\n",
              "      <td>75.78</td>\n",
              "      <td>6183.95</td>\n",
              "      <td>5986.26</td>\n",
              "      <td>197.69</td>\n",
              "      <td>0.0</td>\n",
              "      <td>conventional</td>\n",
              "      <td>2015</td>\n",
              "      <td>Albany</td>\n",
              "    </tr>\n",
              "    <tr>\n",
              "      <th>...</th>\n",
              "      <td>...</td>\n",
              "      <td>...</td>\n",
              "      <td>...</td>\n",
              "      <td>...</td>\n",
              "      <td>...</td>\n",
              "      <td>...</td>\n",
              "      <td>...</td>\n",
              "      <td>...</td>\n",
              "      <td>...</td>\n",
              "      <td>...</td>\n",
              "      <td>...</td>\n",
              "      <td>...</td>\n",
              "      <td>...</td>\n",
              "      <td>...</td>\n",
              "    </tr>\n",
              "    <tr>\n",
              "      <th>18244</th>\n",
              "      <td>7</td>\n",
              "      <td>2018-02-04</td>\n",
              "      <td>1.63</td>\n",
              "      <td>17074.83</td>\n",
              "      <td>2046.96</td>\n",
              "      <td>1529.20</td>\n",
              "      <td>0.00</td>\n",
              "      <td>13498.67</td>\n",
              "      <td>13066.82</td>\n",
              "      <td>431.85</td>\n",
              "      <td>0.0</td>\n",
              "      <td>organic</td>\n",
              "      <td>2018</td>\n",
              "      <td>WestTexNewMexico</td>\n",
              "    </tr>\n",
              "    <tr>\n",
              "      <th>18245</th>\n",
              "      <td>8</td>\n",
              "      <td>2018-01-28</td>\n",
              "      <td>1.71</td>\n",
              "      <td>13888.04</td>\n",
              "      <td>1191.70</td>\n",
              "      <td>3431.50</td>\n",
              "      <td>0.00</td>\n",
              "      <td>9264.84</td>\n",
              "      <td>8940.04</td>\n",
              "      <td>324.80</td>\n",
              "      <td>0.0</td>\n",
              "      <td>organic</td>\n",
              "      <td>2018</td>\n",
              "      <td>WestTexNewMexico</td>\n",
              "    </tr>\n",
              "    <tr>\n",
              "      <th>18246</th>\n",
              "      <td>9</td>\n",
              "      <td>2018-01-21</td>\n",
              "      <td>1.87</td>\n",
              "      <td>13766.76</td>\n",
              "      <td>1191.92</td>\n",
              "      <td>2452.79</td>\n",
              "      <td>727.94</td>\n",
              "      <td>9394.11</td>\n",
              "      <td>9351.80</td>\n",
              "      <td>42.31</td>\n",
              "      <td>0.0</td>\n",
              "      <td>organic</td>\n",
              "      <td>2018</td>\n",
              "      <td>WestTexNewMexico</td>\n",
              "    </tr>\n",
              "    <tr>\n",
              "      <th>18247</th>\n",
              "      <td>10</td>\n",
              "      <td>2018-01-14</td>\n",
              "      <td>1.93</td>\n",
              "      <td>16205.22</td>\n",
              "      <td>1527.63</td>\n",
              "      <td>2981.04</td>\n",
              "      <td>727.01</td>\n",
              "      <td>10969.54</td>\n",
              "      <td>10919.54</td>\n",
              "      <td>50.00</td>\n",
              "      <td>0.0</td>\n",
              "      <td>organic</td>\n",
              "      <td>2018</td>\n",
              "      <td>WestTexNewMexico</td>\n",
              "    </tr>\n",
              "    <tr>\n",
              "      <th>18248</th>\n",
              "      <td>11</td>\n",
              "      <td>2018-01-07</td>\n",
              "      <td>1.62</td>\n",
              "      <td>17489.58</td>\n",
              "      <td>2894.77</td>\n",
              "      <td>2356.13</td>\n",
              "      <td>224.53</td>\n",
              "      <td>12014.15</td>\n",
              "      <td>11988.14</td>\n",
              "      <td>26.01</td>\n",
              "      <td>0.0</td>\n",
              "      <td>organic</td>\n",
              "      <td>2018</td>\n",
              "      <td>WestTexNewMexico</td>\n",
              "    </tr>\n",
              "  </tbody>\n",
              "</table>\n",
              "<p>18249 rows × 14 columns</p>\n",
              "</div>\n",
              "      <button class=\"colab-df-convert\" onclick=\"convertToInteractive('df-727c6a35-ff1f-4492-8044-f2a72d742ea9')\"\n",
              "              title=\"Convert this dataframe to an interactive table.\"\n",
              "              style=\"display:none;\">\n",
              "        \n",
              "  <svg xmlns=\"http://www.w3.org/2000/svg\" height=\"24px\"viewBox=\"0 0 24 24\"\n",
              "       width=\"24px\">\n",
              "    <path d=\"M0 0h24v24H0V0z\" fill=\"none\"/>\n",
              "    <path d=\"M18.56 5.44l.94 2.06.94-2.06 2.06-.94-2.06-.94-.94-2.06-.94 2.06-2.06.94zm-11 1L8.5 8.5l.94-2.06 2.06-.94-2.06-.94L8.5 2.5l-.94 2.06-2.06.94zm10 10l.94 2.06.94-2.06 2.06-.94-2.06-.94-.94-2.06-.94 2.06-2.06.94z\"/><path d=\"M17.41 7.96l-1.37-1.37c-.4-.4-.92-.59-1.43-.59-.52 0-1.04.2-1.43.59L10.3 9.45l-7.72 7.72c-.78.78-.78 2.05 0 2.83L4 21.41c.39.39.9.59 1.41.59.51 0 1.02-.2 1.41-.59l7.78-7.78 2.81-2.81c.8-.78.8-2.07 0-2.86zM5.41 20L4 18.59l7.72-7.72 1.47 1.35L5.41 20z\"/>\n",
              "  </svg>\n",
              "      </button>\n",
              "      \n",
              "  <style>\n",
              "    .colab-df-container {\n",
              "      display:flex;\n",
              "      flex-wrap:wrap;\n",
              "      gap: 12px;\n",
              "    }\n",
              "\n",
              "    .colab-df-convert {\n",
              "      background-color: #E8F0FE;\n",
              "      border: none;\n",
              "      border-radius: 50%;\n",
              "      cursor: pointer;\n",
              "      display: none;\n",
              "      fill: #1967D2;\n",
              "      height: 32px;\n",
              "      padding: 0 0 0 0;\n",
              "      width: 32px;\n",
              "    }\n",
              "\n",
              "    .colab-df-convert:hover {\n",
              "      background-color: #E2EBFA;\n",
              "      box-shadow: 0px 1px 2px rgba(60, 64, 67, 0.3), 0px 1px 3px 1px rgba(60, 64, 67, 0.15);\n",
              "      fill: #174EA6;\n",
              "    }\n",
              "\n",
              "    [theme=dark] .colab-df-convert {\n",
              "      background-color: #3B4455;\n",
              "      fill: #D2E3FC;\n",
              "    }\n",
              "\n",
              "    [theme=dark] .colab-df-convert:hover {\n",
              "      background-color: #434B5C;\n",
              "      box-shadow: 0px 1px 3px 1px rgba(0, 0, 0, 0.15);\n",
              "      filter: drop-shadow(0px 1px 2px rgba(0, 0, 0, 0.3));\n",
              "      fill: #FFFFFF;\n",
              "    }\n",
              "  </style>\n",
              "\n",
              "      <script>\n",
              "        const buttonEl =\n",
              "          document.querySelector('#df-727c6a35-ff1f-4492-8044-f2a72d742ea9 button.colab-df-convert');\n",
              "        buttonEl.style.display =\n",
              "          google.colab.kernel.accessAllowed ? 'block' : 'none';\n",
              "\n",
              "        async function convertToInteractive(key) {\n",
              "          const element = document.querySelector('#df-727c6a35-ff1f-4492-8044-f2a72d742ea9');\n",
              "          const dataTable =\n",
              "            await google.colab.kernel.invokeFunction('convertToInteractive',\n",
              "                                                     [key], {});\n",
              "          if (!dataTable) return;\n",
              "\n",
              "          const docLinkHtml = 'Like what you see? Visit the ' +\n",
              "            '<a target=\"_blank\" href=https://colab.research.google.com/notebooks/data_table.ipynb>data table notebook</a>'\n",
              "            + ' to learn more about interactive tables.';\n",
              "          element.innerHTML = '';\n",
              "          dataTable['output_type'] = 'display_data';\n",
              "          await google.colab.output.renderOutput(dataTable, element);\n",
              "          const docLink = document.createElement('div');\n",
              "          docLink.innerHTML = docLinkHtml;\n",
              "          element.appendChild(docLink);\n",
              "        }\n",
              "      </script>\n",
              "    </div>\n",
              "  </div>\n",
              "  "
            ]
          },
          "metadata": {},
          "execution_count": 2
        }
      ]
    },
    {
      "cell_type": "code",
      "source": [
        "df.head()"
      ],
      "metadata": {
        "colab": {
          "base_uri": "https://localhost:8080/",
          "height": 206
        },
        "id": "k4wCkxLwJaZp",
        "outputId": "67b6661a-5856-4a23-8862-dbd6e26371e0"
      },
      "execution_count": 3,
      "outputs": [
        {
          "output_type": "execute_result",
          "data": {
            "text/plain": [
              "   Unnamed: 0        Date  AveragePrice  Total Volume     4046       4225  \\\n",
              "0           0  2015-12-27          1.33      64236.62  1036.74   54454.85   \n",
              "1           1  2015-12-20          1.35      54876.98   674.28   44638.81   \n",
              "2           2  2015-12-13          0.93     118220.22   794.70  109149.67   \n",
              "3           3  2015-12-06          1.08      78992.15  1132.00   71976.41   \n",
              "4           4  2015-11-29          1.28      51039.60   941.48   43838.39   \n",
              "\n",
              "     4770  Total Bags  Small Bags  Large Bags  XLarge Bags          type  \\\n",
              "0   48.16     8696.87     8603.62       93.25          0.0  conventional   \n",
              "1   58.33     9505.56     9408.07       97.49          0.0  conventional   \n",
              "2  130.50     8145.35     8042.21      103.14          0.0  conventional   \n",
              "3   72.58     5811.16     5677.40      133.76          0.0  conventional   \n",
              "4   75.78     6183.95     5986.26      197.69          0.0  conventional   \n",
              "\n",
              "   year  region  \n",
              "0  2015  Albany  \n",
              "1  2015  Albany  \n",
              "2  2015  Albany  \n",
              "3  2015  Albany  \n",
              "4  2015  Albany  "
            ],
            "text/html": [
              "\n",
              "  <div id=\"df-1454266a-b707-448f-bbb8-f79142e9afdf\">\n",
              "    <div class=\"colab-df-container\">\n",
              "      <div>\n",
              "<style scoped>\n",
              "    .dataframe tbody tr th:only-of-type {\n",
              "        vertical-align: middle;\n",
              "    }\n",
              "\n",
              "    .dataframe tbody tr th {\n",
              "        vertical-align: top;\n",
              "    }\n",
              "\n",
              "    .dataframe thead th {\n",
              "        text-align: right;\n",
              "    }\n",
              "</style>\n",
              "<table border=\"1\" class=\"dataframe\">\n",
              "  <thead>\n",
              "    <tr style=\"text-align: right;\">\n",
              "      <th></th>\n",
              "      <th>Unnamed: 0</th>\n",
              "      <th>Date</th>\n",
              "      <th>AveragePrice</th>\n",
              "      <th>Total Volume</th>\n",
              "      <th>4046</th>\n",
              "      <th>4225</th>\n",
              "      <th>4770</th>\n",
              "      <th>Total Bags</th>\n",
              "      <th>Small Bags</th>\n",
              "      <th>Large Bags</th>\n",
              "      <th>XLarge Bags</th>\n",
              "      <th>type</th>\n",
              "      <th>year</th>\n",
              "      <th>region</th>\n",
              "    </tr>\n",
              "  </thead>\n",
              "  <tbody>\n",
              "    <tr>\n",
              "      <th>0</th>\n",
              "      <td>0</td>\n",
              "      <td>2015-12-27</td>\n",
              "      <td>1.33</td>\n",
              "      <td>64236.62</td>\n",
              "      <td>1036.74</td>\n",
              "      <td>54454.85</td>\n",
              "      <td>48.16</td>\n",
              "      <td>8696.87</td>\n",
              "      <td>8603.62</td>\n",
              "      <td>93.25</td>\n",
              "      <td>0.0</td>\n",
              "      <td>conventional</td>\n",
              "      <td>2015</td>\n",
              "      <td>Albany</td>\n",
              "    </tr>\n",
              "    <tr>\n",
              "      <th>1</th>\n",
              "      <td>1</td>\n",
              "      <td>2015-12-20</td>\n",
              "      <td>1.35</td>\n",
              "      <td>54876.98</td>\n",
              "      <td>674.28</td>\n",
              "      <td>44638.81</td>\n",
              "      <td>58.33</td>\n",
              "      <td>9505.56</td>\n",
              "      <td>9408.07</td>\n",
              "      <td>97.49</td>\n",
              "      <td>0.0</td>\n",
              "      <td>conventional</td>\n",
              "      <td>2015</td>\n",
              "      <td>Albany</td>\n",
              "    </tr>\n",
              "    <tr>\n",
              "      <th>2</th>\n",
              "      <td>2</td>\n",
              "      <td>2015-12-13</td>\n",
              "      <td>0.93</td>\n",
              "      <td>118220.22</td>\n",
              "      <td>794.70</td>\n",
              "      <td>109149.67</td>\n",
              "      <td>130.50</td>\n",
              "      <td>8145.35</td>\n",
              "      <td>8042.21</td>\n",
              "      <td>103.14</td>\n",
              "      <td>0.0</td>\n",
              "      <td>conventional</td>\n",
              "      <td>2015</td>\n",
              "      <td>Albany</td>\n",
              "    </tr>\n",
              "    <tr>\n",
              "      <th>3</th>\n",
              "      <td>3</td>\n",
              "      <td>2015-12-06</td>\n",
              "      <td>1.08</td>\n",
              "      <td>78992.15</td>\n",
              "      <td>1132.00</td>\n",
              "      <td>71976.41</td>\n",
              "      <td>72.58</td>\n",
              "      <td>5811.16</td>\n",
              "      <td>5677.40</td>\n",
              "      <td>133.76</td>\n",
              "      <td>0.0</td>\n",
              "      <td>conventional</td>\n",
              "      <td>2015</td>\n",
              "      <td>Albany</td>\n",
              "    </tr>\n",
              "    <tr>\n",
              "      <th>4</th>\n",
              "      <td>4</td>\n",
              "      <td>2015-11-29</td>\n",
              "      <td>1.28</td>\n",
              "      <td>51039.60</td>\n",
              "      <td>941.48</td>\n",
              "      <td>43838.39</td>\n",
              "      <td>75.78</td>\n",
              "      <td>6183.95</td>\n",
              "      <td>5986.26</td>\n",
              "      <td>197.69</td>\n",
              "      <td>0.0</td>\n",
              "      <td>conventional</td>\n",
              "      <td>2015</td>\n",
              "      <td>Albany</td>\n",
              "    </tr>\n",
              "  </tbody>\n",
              "</table>\n",
              "</div>\n",
              "      <button class=\"colab-df-convert\" onclick=\"convertToInteractive('df-1454266a-b707-448f-bbb8-f79142e9afdf')\"\n",
              "              title=\"Convert this dataframe to an interactive table.\"\n",
              "              style=\"display:none;\">\n",
              "        \n",
              "  <svg xmlns=\"http://www.w3.org/2000/svg\" height=\"24px\"viewBox=\"0 0 24 24\"\n",
              "       width=\"24px\">\n",
              "    <path d=\"M0 0h24v24H0V0z\" fill=\"none\"/>\n",
              "    <path d=\"M18.56 5.44l.94 2.06.94-2.06 2.06-.94-2.06-.94-.94-2.06-.94 2.06-2.06.94zm-11 1L8.5 8.5l.94-2.06 2.06-.94-2.06-.94L8.5 2.5l-.94 2.06-2.06.94zm10 10l.94 2.06.94-2.06 2.06-.94-2.06-.94-.94-2.06-.94 2.06-2.06.94z\"/><path d=\"M17.41 7.96l-1.37-1.37c-.4-.4-.92-.59-1.43-.59-.52 0-1.04.2-1.43.59L10.3 9.45l-7.72 7.72c-.78.78-.78 2.05 0 2.83L4 21.41c.39.39.9.59 1.41.59.51 0 1.02-.2 1.41-.59l7.78-7.78 2.81-2.81c.8-.78.8-2.07 0-2.86zM5.41 20L4 18.59l7.72-7.72 1.47 1.35L5.41 20z\"/>\n",
              "  </svg>\n",
              "      </button>\n",
              "      \n",
              "  <style>\n",
              "    .colab-df-container {\n",
              "      display:flex;\n",
              "      flex-wrap:wrap;\n",
              "      gap: 12px;\n",
              "    }\n",
              "\n",
              "    .colab-df-convert {\n",
              "      background-color: #E8F0FE;\n",
              "      border: none;\n",
              "      border-radius: 50%;\n",
              "      cursor: pointer;\n",
              "      display: none;\n",
              "      fill: #1967D2;\n",
              "      height: 32px;\n",
              "      padding: 0 0 0 0;\n",
              "      width: 32px;\n",
              "    }\n",
              "\n",
              "    .colab-df-convert:hover {\n",
              "      background-color: #E2EBFA;\n",
              "      box-shadow: 0px 1px 2px rgba(60, 64, 67, 0.3), 0px 1px 3px 1px rgba(60, 64, 67, 0.15);\n",
              "      fill: #174EA6;\n",
              "    }\n",
              "\n",
              "    [theme=dark] .colab-df-convert {\n",
              "      background-color: #3B4455;\n",
              "      fill: #D2E3FC;\n",
              "    }\n",
              "\n",
              "    [theme=dark] .colab-df-convert:hover {\n",
              "      background-color: #434B5C;\n",
              "      box-shadow: 0px 1px 3px 1px rgba(0, 0, 0, 0.15);\n",
              "      filter: drop-shadow(0px 1px 2px rgba(0, 0, 0, 0.3));\n",
              "      fill: #FFFFFF;\n",
              "    }\n",
              "  </style>\n",
              "\n",
              "      <script>\n",
              "        const buttonEl =\n",
              "          document.querySelector('#df-1454266a-b707-448f-bbb8-f79142e9afdf button.colab-df-convert');\n",
              "        buttonEl.style.display =\n",
              "          google.colab.kernel.accessAllowed ? 'block' : 'none';\n",
              "\n",
              "        async function convertToInteractive(key) {\n",
              "          const element = document.querySelector('#df-1454266a-b707-448f-bbb8-f79142e9afdf');\n",
              "          const dataTable =\n",
              "            await google.colab.kernel.invokeFunction('convertToInteractive',\n",
              "                                                     [key], {});\n",
              "          if (!dataTable) return;\n",
              "\n",
              "          const docLinkHtml = 'Like what you see? Visit the ' +\n",
              "            '<a target=\"_blank\" href=https://colab.research.google.com/notebooks/data_table.ipynb>data table notebook</a>'\n",
              "            + ' to learn more about interactive tables.';\n",
              "          element.innerHTML = '';\n",
              "          dataTable['output_type'] = 'display_data';\n",
              "          await google.colab.output.renderOutput(dataTable, element);\n",
              "          const docLink = document.createElement('div');\n",
              "          docLink.innerHTML = docLinkHtml;\n",
              "          element.appendChild(docLink);\n",
              "        }\n",
              "      </script>\n",
              "    </div>\n",
              "  </div>\n",
              "  "
            ]
          },
          "metadata": {},
          "execution_count": 3
        }
      ]
    },
    {
      "cell_type": "code",
      "source": [
        "df.tail()"
      ],
      "metadata": {
        "colab": {
          "base_uri": "https://localhost:8080/",
          "height": 206
        },
        "id": "ivVri13gJgPB",
        "outputId": "fd8ecaa3-e833-4f75-cb50-527e7f314772"
      },
      "execution_count": 4,
      "outputs": [
        {
          "output_type": "execute_result",
          "data": {
            "text/plain": [
              "       Unnamed: 0        Date  AveragePrice  Total Volume     4046     4225  \\\n",
              "18244           7  2018-02-04          1.63      17074.83  2046.96  1529.20   \n",
              "18245           8  2018-01-28          1.71      13888.04  1191.70  3431.50   \n",
              "18246           9  2018-01-21          1.87      13766.76  1191.92  2452.79   \n",
              "18247          10  2018-01-14          1.93      16205.22  1527.63  2981.04   \n",
              "18248          11  2018-01-07          1.62      17489.58  2894.77  2356.13   \n",
              "\n",
              "         4770  Total Bags  Small Bags  Large Bags  XLarge Bags     type  year  \\\n",
              "18244    0.00    13498.67    13066.82      431.85          0.0  organic  2018   \n",
              "18245    0.00     9264.84     8940.04      324.80          0.0  organic  2018   \n",
              "18246  727.94     9394.11     9351.80       42.31          0.0  organic  2018   \n",
              "18247  727.01    10969.54    10919.54       50.00          0.0  organic  2018   \n",
              "18248  224.53    12014.15    11988.14       26.01          0.0  organic  2018   \n",
              "\n",
              "                 region  \n",
              "18244  WestTexNewMexico  \n",
              "18245  WestTexNewMexico  \n",
              "18246  WestTexNewMexico  \n",
              "18247  WestTexNewMexico  \n",
              "18248  WestTexNewMexico  "
            ],
            "text/html": [
              "\n",
              "  <div id=\"df-86d2f060-45af-4ae7-b403-aa7121356473\">\n",
              "    <div class=\"colab-df-container\">\n",
              "      <div>\n",
              "<style scoped>\n",
              "    .dataframe tbody tr th:only-of-type {\n",
              "        vertical-align: middle;\n",
              "    }\n",
              "\n",
              "    .dataframe tbody tr th {\n",
              "        vertical-align: top;\n",
              "    }\n",
              "\n",
              "    .dataframe thead th {\n",
              "        text-align: right;\n",
              "    }\n",
              "</style>\n",
              "<table border=\"1\" class=\"dataframe\">\n",
              "  <thead>\n",
              "    <tr style=\"text-align: right;\">\n",
              "      <th></th>\n",
              "      <th>Unnamed: 0</th>\n",
              "      <th>Date</th>\n",
              "      <th>AveragePrice</th>\n",
              "      <th>Total Volume</th>\n",
              "      <th>4046</th>\n",
              "      <th>4225</th>\n",
              "      <th>4770</th>\n",
              "      <th>Total Bags</th>\n",
              "      <th>Small Bags</th>\n",
              "      <th>Large Bags</th>\n",
              "      <th>XLarge Bags</th>\n",
              "      <th>type</th>\n",
              "      <th>year</th>\n",
              "      <th>region</th>\n",
              "    </tr>\n",
              "  </thead>\n",
              "  <tbody>\n",
              "    <tr>\n",
              "      <th>18244</th>\n",
              "      <td>7</td>\n",
              "      <td>2018-02-04</td>\n",
              "      <td>1.63</td>\n",
              "      <td>17074.83</td>\n",
              "      <td>2046.96</td>\n",
              "      <td>1529.20</td>\n",
              "      <td>0.00</td>\n",
              "      <td>13498.67</td>\n",
              "      <td>13066.82</td>\n",
              "      <td>431.85</td>\n",
              "      <td>0.0</td>\n",
              "      <td>organic</td>\n",
              "      <td>2018</td>\n",
              "      <td>WestTexNewMexico</td>\n",
              "    </tr>\n",
              "    <tr>\n",
              "      <th>18245</th>\n",
              "      <td>8</td>\n",
              "      <td>2018-01-28</td>\n",
              "      <td>1.71</td>\n",
              "      <td>13888.04</td>\n",
              "      <td>1191.70</td>\n",
              "      <td>3431.50</td>\n",
              "      <td>0.00</td>\n",
              "      <td>9264.84</td>\n",
              "      <td>8940.04</td>\n",
              "      <td>324.80</td>\n",
              "      <td>0.0</td>\n",
              "      <td>organic</td>\n",
              "      <td>2018</td>\n",
              "      <td>WestTexNewMexico</td>\n",
              "    </tr>\n",
              "    <tr>\n",
              "      <th>18246</th>\n",
              "      <td>9</td>\n",
              "      <td>2018-01-21</td>\n",
              "      <td>1.87</td>\n",
              "      <td>13766.76</td>\n",
              "      <td>1191.92</td>\n",
              "      <td>2452.79</td>\n",
              "      <td>727.94</td>\n",
              "      <td>9394.11</td>\n",
              "      <td>9351.80</td>\n",
              "      <td>42.31</td>\n",
              "      <td>0.0</td>\n",
              "      <td>organic</td>\n",
              "      <td>2018</td>\n",
              "      <td>WestTexNewMexico</td>\n",
              "    </tr>\n",
              "    <tr>\n",
              "      <th>18247</th>\n",
              "      <td>10</td>\n",
              "      <td>2018-01-14</td>\n",
              "      <td>1.93</td>\n",
              "      <td>16205.22</td>\n",
              "      <td>1527.63</td>\n",
              "      <td>2981.04</td>\n",
              "      <td>727.01</td>\n",
              "      <td>10969.54</td>\n",
              "      <td>10919.54</td>\n",
              "      <td>50.00</td>\n",
              "      <td>0.0</td>\n",
              "      <td>organic</td>\n",
              "      <td>2018</td>\n",
              "      <td>WestTexNewMexico</td>\n",
              "    </tr>\n",
              "    <tr>\n",
              "      <th>18248</th>\n",
              "      <td>11</td>\n",
              "      <td>2018-01-07</td>\n",
              "      <td>1.62</td>\n",
              "      <td>17489.58</td>\n",
              "      <td>2894.77</td>\n",
              "      <td>2356.13</td>\n",
              "      <td>224.53</td>\n",
              "      <td>12014.15</td>\n",
              "      <td>11988.14</td>\n",
              "      <td>26.01</td>\n",
              "      <td>0.0</td>\n",
              "      <td>organic</td>\n",
              "      <td>2018</td>\n",
              "      <td>WestTexNewMexico</td>\n",
              "    </tr>\n",
              "  </tbody>\n",
              "</table>\n",
              "</div>\n",
              "      <button class=\"colab-df-convert\" onclick=\"convertToInteractive('df-86d2f060-45af-4ae7-b403-aa7121356473')\"\n",
              "              title=\"Convert this dataframe to an interactive table.\"\n",
              "              style=\"display:none;\">\n",
              "        \n",
              "  <svg xmlns=\"http://www.w3.org/2000/svg\" height=\"24px\"viewBox=\"0 0 24 24\"\n",
              "       width=\"24px\">\n",
              "    <path d=\"M0 0h24v24H0V0z\" fill=\"none\"/>\n",
              "    <path d=\"M18.56 5.44l.94 2.06.94-2.06 2.06-.94-2.06-.94-.94-2.06-.94 2.06-2.06.94zm-11 1L8.5 8.5l.94-2.06 2.06-.94-2.06-.94L8.5 2.5l-.94 2.06-2.06.94zm10 10l.94 2.06.94-2.06 2.06-.94-2.06-.94-.94-2.06-.94 2.06-2.06.94z\"/><path d=\"M17.41 7.96l-1.37-1.37c-.4-.4-.92-.59-1.43-.59-.52 0-1.04.2-1.43.59L10.3 9.45l-7.72 7.72c-.78.78-.78 2.05 0 2.83L4 21.41c.39.39.9.59 1.41.59.51 0 1.02-.2 1.41-.59l7.78-7.78 2.81-2.81c.8-.78.8-2.07 0-2.86zM5.41 20L4 18.59l7.72-7.72 1.47 1.35L5.41 20z\"/>\n",
              "  </svg>\n",
              "      </button>\n",
              "      \n",
              "  <style>\n",
              "    .colab-df-container {\n",
              "      display:flex;\n",
              "      flex-wrap:wrap;\n",
              "      gap: 12px;\n",
              "    }\n",
              "\n",
              "    .colab-df-convert {\n",
              "      background-color: #E8F0FE;\n",
              "      border: none;\n",
              "      border-radius: 50%;\n",
              "      cursor: pointer;\n",
              "      display: none;\n",
              "      fill: #1967D2;\n",
              "      height: 32px;\n",
              "      padding: 0 0 0 0;\n",
              "      width: 32px;\n",
              "    }\n",
              "\n",
              "    .colab-df-convert:hover {\n",
              "      background-color: #E2EBFA;\n",
              "      box-shadow: 0px 1px 2px rgba(60, 64, 67, 0.3), 0px 1px 3px 1px rgba(60, 64, 67, 0.15);\n",
              "      fill: #174EA6;\n",
              "    }\n",
              "\n",
              "    [theme=dark] .colab-df-convert {\n",
              "      background-color: #3B4455;\n",
              "      fill: #D2E3FC;\n",
              "    }\n",
              "\n",
              "    [theme=dark] .colab-df-convert:hover {\n",
              "      background-color: #434B5C;\n",
              "      box-shadow: 0px 1px 3px 1px rgba(0, 0, 0, 0.15);\n",
              "      filter: drop-shadow(0px 1px 2px rgba(0, 0, 0, 0.3));\n",
              "      fill: #FFFFFF;\n",
              "    }\n",
              "  </style>\n",
              "\n",
              "      <script>\n",
              "        const buttonEl =\n",
              "          document.querySelector('#df-86d2f060-45af-4ae7-b403-aa7121356473 button.colab-df-convert');\n",
              "        buttonEl.style.display =\n",
              "          google.colab.kernel.accessAllowed ? 'block' : 'none';\n",
              "\n",
              "        async function convertToInteractive(key) {\n",
              "          const element = document.querySelector('#df-86d2f060-45af-4ae7-b403-aa7121356473');\n",
              "          const dataTable =\n",
              "            await google.colab.kernel.invokeFunction('convertToInteractive',\n",
              "                                                     [key], {});\n",
              "          if (!dataTable) return;\n",
              "\n",
              "          const docLinkHtml = 'Like what you see? Visit the ' +\n",
              "            '<a target=\"_blank\" href=https://colab.research.google.com/notebooks/data_table.ipynb>data table notebook</a>'\n",
              "            + ' to learn more about interactive tables.';\n",
              "          element.innerHTML = '';\n",
              "          dataTable['output_type'] = 'display_data';\n",
              "          await google.colab.output.renderOutput(dataTable, element);\n",
              "          const docLink = document.createElement('div');\n",
              "          docLink.innerHTML = docLinkHtml;\n",
              "          element.appendChild(docLink);\n",
              "        }\n",
              "      </script>\n",
              "    </div>\n",
              "  </div>\n",
              "  "
            ]
          },
          "metadata": {},
          "execution_count": 4
        }
      ]
    },
    {
      "cell_type": "code",
      "source": [
        "df.columns"
      ],
      "metadata": {
        "colab": {
          "base_uri": "https://localhost:8080/"
        },
        "id": "E78JJTAqJiTQ",
        "outputId": "402f3b91-9ae7-479e-8bab-abb9655484bf"
      },
      "execution_count": 5,
      "outputs": [
        {
          "output_type": "execute_result",
          "data": {
            "text/plain": [
              "Index(['Unnamed: 0', 'Date', 'AveragePrice', 'Total Volume', '4046', '4225',\n",
              "       '4770', 'Total Bags', 'Small Bags', 'Large Bags', 'XLarge Bags', 'type',\n",
              "       'year', 'region'],\n",
              "      dtype='object')"
            ]
          },
          "metadata": {},
          "execution_count": 5
        }
      ]
    },
    {
      "cell_type": "markdown",
      "source": [
        "Dropping the unnamed column"
      ],
      "metadata": {
        "id": "TGo27MoeSMFv"
      }
    },
    {
      "cell_type": "code",
      "source": [
        "df.drop('Unnamed: 0',axis=1,inplace=True)"
      ],
      "metadata": {
        "id": "m4jD9-o-SKGT"
      },
      "execution_count": 63,
      "outputs": []
    },
    {
      "cell_type": "markdown",
      "source": [
        "# Details About the Columns "
      ],
      "metadata": {
        "id": "HGCTZ6t-Kf_F"
      }
    },
    {
      "cell_type": "markdown",
      "source": [
        "1. Date\n",
        "\n",
        "This Column shows the The date of the observation\n",
        "\n",
        "2. Average Price\n",
        "\n",
        "This Column shows the the average price of a single avocado\n",
        "\n",
        "3. Total Volume\n",
        "\n",
        "This Column shows the  Total number of avocados sold\n",
        "\n",
        "4. 4046\n",
        "\n",
        "This Column shows the Total number of avocados with PLU 4046 sold\n",
        "\n",
        "5. 4225\n",
        "\n",
        "This Column shows the Total number of avocados with PLU 4225 sold\n",
        "\n",
        "6. 4770\n",
        "\n",
        "This Column shows the Total number of avocados with PLU 4770 sold\n",
        "\n",
        "7. Total Bags\n",
        "\n",
        "This Column shows the no of total bags \n",
        "\n",
        "8. Small Bags\n",
        "\n",
        "This Column shows the no of total small bags \n",
        "\n",
        "9. Large Bags\n",
        "\n",
        "This Column shows the no. of total large bags\n",
        "\n",
        "10. XLarge Bags\n",
        "\n",
        "This Column shows the no. of total Xlarge bags\n",
        "\n",
        "11. Type\n",
        "\n",
        "This Column shows the  conventional or organic\n",
        "\n",
        "12. Year\n",
        "\n",
        "This Column shows the the year of the observation\n",
        "\n",
        "13. Region\n",
        "\n",
        "This Column shows the Place \n"
      ],
      "metadata": {
        "id": "QJyCTexZKlg4"
      }
    },
    {
      "cell_type": "markdown",
      "source": [
        "# Checking For Null And Empty Values in DataSet"
      ],
      "metadata": {
        "id": "K1kxdpAOOndw"
      }
    },
    {
      "cell_type": "code",
      "source": [
        "df.isnull().sum()"
      ],
      "metadata": {
        "colab": {
          "base_uri": "https://localhost:8080/"
        },
        "id": "gpfYJKP_KIVp",
        "outputId": "bb4618ca-5d62-4b5d-ea32-b9c4afaa726f"
      },
      "execution_count": null,
      "outputs": [
        {
          "output_type": "execute_result",
          "data": {
            "text/plain": [
              "Unnamed: 0      0\n",
              "Date            0\n",
              "AveragePrice    0\n",
              "Total Volume    0\n",
              "4046            0\n",
              "4225            0\n",
              "4770            0\n",
              "Total Bags      0\n",
              "Small Bags      0\n",
              "Large Bags      0\n",
              "XLarge Bags     0\n",
              "type            0\n",
              "year            0\n",
              "region          0\n",
              "dtype: int64"
            ]
          },
          "metadata": {},
          "execution_count": 6
        }
      ]
    },
    {
      "cell_type": "code",
      "source": [
        "import seaborn as sns\n",
        "import matplotlib.pyplot as plt\n",
        "\n",
        "sns.heatmap(df.isnull())\n",
        "plt.title(\"Null Values\")\n",
        "plt.show()"
      ],
      "metadata": {
        "colab": {
          "base_uri": "https://localhost:8080/",
          "height": 337
        },
        "id": "wD3FbSNQO1SA",
        "outputId": "4989b5bc-4356-4a64-90d5-7044f678675e"
      },
      "execution_count": null,
      "outputs": [
        {
          "output_type": "display_data",
          "data": {
            "text/plain": [
              "<Figure size 432x288 with 2 Axes>"
            ],
            "image/png": "[encoded data removed]"
          },
          "metadata": {
            "needs_background": "light"
          }
        }
      ]
    },
    {
      "cell_type": "markdown",
      "source": [
        "We can see that there are No Null Blank or Empty Values are Present in the Datset"
      ],
      "metadata": {
        "id": "1xlZ-mMGQZJy"
      }
    },
    {
      "cell_type": "markdown",
      "source": [
        "# Checking and Transforming the Data types of the Columns To Same DataTypes for Better Analysis"
      ],
      "metadata": {
        "id": "dSphnt7PQoi4"
      }
    },
    {
      "cell_type": "code",
      "source": [
        "df.info()"
      ],
      "metadata": {
        "colab": {
          "base_uri": "https://localhost:8080/"
        },
        "id": "dXqJ7nD8Q480",
        "outputId": "7279d403-f33f-4eef-d4c6-0b34a870d719"
      },
      "execution_count": null,
      "outputs": [
        {
          "output_type": "stream",
          "name": "stdout",
          "text": [
            "<class 'pandas.core.frame.DataFrame'>\n",
            "RangeIndex: 18249 entries, 0 to 18248\n",
            "Data columns (total 14 columns):\n",
            " #   Column        Non-Null Count  Dtype  \n",
            "---  ------        --------------  -----  \n",
            " 0   Unnamed: 0    18249 non-null  int64  \n",
            " 1   Date          18249 non-null  object \n",
            " 2   AveragePrice  18249 non-null  float64\n",
            " 3   Total Volume  18249 non-null  float64\n",
            " 4   4046          18249 non-null  float64\n",
            " 5   4225          18249 non-null  float64\n",
            " 6   4770          18249 non-null  float64\n",
            " 7   Total Bags    18249 non-null  float64\n",
            " 8   Small Bags    18249 non-null  float64\n",
            " 9   Large Bags    18249 non-null  float64\n",
            " 10  XLarge Bags   18249 non-null  float64\n",
            " 11  type          18249 non-null  object \n",
            " 12  year          18249 non-null  int64  \n",
            " 13  region        18249 non-null  object \n",
            "dtypes: float64(9), int64(2), object(3)\n",
            "memory usage: 1.9+ MB\n"
          ]
        }
      ]
    },
    {
      "cell_type": "code",
      "source": [
        "df.describe(include=['O'])"
      ],
      "metadata": {
        "colab": {
          "base_uri": "https://localhost:8080/",
          "height": 174
        },
        "id": "S5VKjfE4PqeX",
        "outputId": "d170226a-db45-463b-c7de-43b64ebac867"
      },
      "execution_count": null,
      "outputs": [
        {
          "output_type": "execute_result",
          "data": {
            "text/plain": [
              "              Date          type  region\n",
              "count        18249         18249   18249\n",
              "unique         169             2      54\n",
              "top     2015-12-27  conventional  Albany\n",
              "freq           108          9126     338"
            ],
            "text/html": [
              "\n",
              "  <div id=\"df-0d67d76e-a2ee-42da-bc63-1dcce336169e\">\n",
              "    <div class=\"colab-df-container\">\n",
              "      <div>\n",
              "<style scoped>\n",
              "    .dataframe tbody tr th:only-of-type {\n",
              "        vertical-align: middle;\n",
              "    }\n",
              "\n",
              "    .dataframe tbody tr th {\n",
              "        vertical-align: top;\n",
              "    }\n",
              "\n",
              "    .dataframe thead th {\n",
              "        text-align: right;\n",
              "    }\n",
              "</style>\n",
              "<table border=\"1\" class=\"dataframe\">\n",
              "  <thead>\n",
              "    <tr style=\"text-align: right;\">\n",
              "      <th></th>\n",
              "      <th>Date</th>\n",
              "      <th>type</th>\n",
              "      <th>region</th>\n",
              "    </tr>\n",
              "  </thead>\n",
              "  <tbody>\n",
              "    <tr>\n",
              "      <th>count</th>\n",
              "      <td>18249</td>\n",
              "      <td>18249</td>\n",
              "      <td>18249</td>\n",
              "    </tr>\n",
              "    <tr>\n",
              "      <th>unique</th>\n",
              "      <td>169</td>\n",
              "      <td>2</td>\n",
              "      <td>54</td>\n",
              "    </tr>\n",
              "    <tr>\n",
              "      <th>top</th>\n",
              "      <td>2015-12-27</td>\n",
              "      <td>conventional</td>\n",
              "      <td>Albany</td>\n",
              "    </tr>\n",
              "    <tr>\n",
              "      <th>freq</th>\n",
              "      <td>108</td>\n",
              "      <td>9126</td>\n",
              "      <td>338</td>\n",
              "    </tr>\n",
              "  </tbody>\n",
              "</table>\n",
              "</div>\n",
              "      <button class=\"colab-df-convert\" onclick=\"convertToInteractive('df-0d67d76e-a2ee-42da-bc63-1dcce336169e')\"\n",
              "              title=\"Convert this dataframe to an interactive table.\"\n",
              "              style=\"display:none;\">\n",
              "        \n",
              "  <svg xmlns=\"http://www.w3.org/2000/svg\" height=\"24px\"viewBox=\"0 0 24 24\"\n",
              "       width=\"24px\">\n",
              "    <path d=\"M0 0h24v24H0V0z\" fill=\"none\"/>\n",
              "    <path d=\"M18.56 5.44l.94 2.06.94-2.06 2.06-.94-2.06-.94-.94-2.06-.94 2.06-2.06.94zm-11 1L8.5 8.5l.94-2.06 2.06-.94-2.06-.94L8.5 2.5l-.94 2.06-2.06.94zm10 10l.94 2.06.94-2.06 2.06-.94-2.06-.94-.94-2.06-.94 2.06-2.06.94z\"/><path d=\"M17.41 7.96l-1.37-1.37c-.4-.4-.92-.59-1.43-.59-.52 0-1.04.2-1.43.59L10.3 9.45l-7.72 7.72c-.78.78-.78 2.05 0 2.83L4 21.41c.39.39.9.59 1.41.59.51 0 1.02-.2 1.41-.59l7.78-7.78 2.81-2.81c.8-.78.8-2.07 0-2.86zM5.41 20L4 18.59l7.72-7.72 1.47 1.35L5.41 20z\"/>\n",
              "  </svg>\n",
              "      </button>\n",
              "      \n",
              "  <style>\n",
              "    .colab-df-container {\n",
              "      display:flex;\n",
              "      flex-wrap:wrap;\n",
              "      gap: 12px;\n",
              "    }\n",
              "\n",
              "    .colab-df-convert {\n",
              "      background-color: #E8F0FE;\n",
              "      border: none;\n",
              "      border-radius: 50%;\n",
              "      cursor: pointer;\n",
              "      display: none;\n",
              "      fill: #1967D2;\n",
              "      height: 32px;\n",
              "      padding: 0 0 0 0;\n",
              "      width: 32px;\n",
              "    }\n",
              "\n",
              "    .colab-df-convert:hover {\n",
              "      background-color: #E2EBFA;\n",
              "      box-shadow: 0px 1px 2px rgba(60, 64, 67, 0.3), 0px 1px 3px 1px rgba(60, 64, 67, 0.15);\n",
              "      fill: #174EA6;\n",
              "    }\n",
              "\n",
              "    [theme=dark] .colab-df-convert {\n",
              "      background-color: #3B4455;\n",
              "      fill: #D2E3FC;\n",
              "    }\n",
              "\n",
              "    [theme=dark] .colab-df-convert:hover {\n",
              "      background-color: #434B5C;\n",
              "      box-shadow: 0px 1px 3px 1px rgba(0, 0, 0, 0.15);\n",
              "      filter: drop-shadow(0px 1px 2px rgba(0, 0, 0, 0.3));\n",
              "      fill: #FFFFFF;\n",
              "    }\n",
              "  </style>\n",
              "\n",
              "      <script>\n",
              "        const buttonEl =\n",
              "          document.querySelector('#df-0d67d76e-a2ee-42da-bc63-1dcce336169e button.colab-df-convert');\n",
              "        buttonEl.style.display =\n",
              "          google.colab.kernel.accessAllowed ? 'block' : 'none';\n",
              "\n",
              "        async function convertToInteractive(key) {\n",
              "          const element = document.querySelector('#df-0d67d76e-a2ee-42da-bc63-1dcce336169e');\n",
              "          const dataTable =\n",
              "            await google.colab.kernel.invokeFunction('convertToInteractive',\n",
              "                                                     [key], {});\n",
              "          if (!dataTable) return;\n",
              "\n",
              "          const docLinkHtml = 'Like what you see? Visit the ' +\n",
              "            '<a target=\"_blank\" href=https://colab.research.google.com/notebooks/data_table.ipynb>data table notebook</a>'\n",
              "            + ' to learn more about interactive tables.';\n",
              "          element.innerHTML = '';\n",
              "          dataTable['output_type'] = 'display_data';\n",
              "          await google.colab.output.renderOutput(dataTable, element);\n",
              "          const docLink = document.createElement('div');\n",
              "          docLink.innerHTML = docLinkHtml;\n",
              "          element.appendChild(docLink);\n",
              "        }\n",
              "      </script>\n",
              "    </div>\n",
              "  </div>\n",
              "  "
            ]
          },
          "metadata": {},
          "execution_count": 8
        }
      ]
    },
    {
      "cell_type": "code",
      "source": [
        "from sklearn.preprocessing import LabelEncoder\n",
        "le =LabelEncoder()\n",
        "\n",
        "list1=['type','region']\n",
        "for val in list1:\n",
        "  df[val]=le.fit_transform(df[val].astype(str))"
      ],
      "metadata": {
        "id": "OW7orVI1Qu6W"
      },
      "execution_count": 64,
      "outputs": []
    },
    {
      "cell_type": "code",
      "source": [
        "da=pd.to_datetime(df['Date'],errors='coerce')\n",
        "df['Date']=da.dt.strftime(\"%Y%m%d\").astype(int)"
      ],
      "metadata": {
        "id": "cua4PLKfkebV"
      },
      "execution_count": 65,
      "outputs": []
    },
    {
      "cell_type": "code",
      "source": [
        "df"
      ],
      "metadata": {
        "colab": {
          "base_uri": "https://localhost:8080/",
          "height": 423
        },
        "id": "zW0IbWl2YkHN",
        "outputId": "2fe6b36d-26a9-45d9-d92b-8f507ae43ab9"
      },
      "execution_count": null,
      "outputs": [
        {
          "output_type": "execute_result",
          "data": {
            "text/plain": [
              "             Date  AveragePrice  Total Volume     4046       4225    4770  \\\n",
              "0      2015-12-27          1.33      64236.62  1036.74   54454.85   48.16   \n",
              "1      2015-12-20          1.35      54876.98   674.28   44638.81   58.33   \n",
              "2      2015-12-13          0.93     118220.22   794.70  109149.67  130.50   \n",
              "3      2015-12-06          1.08      78992.15  1132.00   71976.41   72.58   \n",
              "4      2015-11-29          1.28      51039.60   941.48   43838.39   75.78   \n",
              "...           ...           ...           ...      ...        ...     ...   \n",
              "18244  2018-02-04          1.63      17074.83  2046.96    1529.20    0.00   \n",
              "18245  2018-01-28          1.71      13888.04  1191.70    3431.50    0.00   \n",
              "18246  2018-01-21          1.87      13766.76  1191.92    2452.79  727.94   \n",
              "18247  2018-01-14          1.93      16205.22  1527.63    2981.04  727.01   \n",
              "18248  2018-01-07          1.62      17489.58  2894.77    2356.13  224.53   \n",
              "\n",
              "       Total Bags  Small Bags  Large Bags  XLarge Bags  type  year  region  \n",
              "0         8696.87     8603.62       93.25          0.0     0  2015       0  \n",
              "1         9505.56     9408.07       97.49          0.0     0  2015       0  \n",
              "2         8145.35     8042.21      103.14          0.0     0  2015       0  \n",
              "3         5811.16     5677.40      133.76          0.0     0  2015       0  \n",
              "4         6183.95     5986.26      197.69          0.0     0  2015       0  \n",
              "...           ...         ...         ...          ...   ...   ...     ...  \n",
              "18244    13498.67    13066.82      431.85          0.0     1  2018      53  \n",
              "18245     9264.84     8940.04      324.80          0.0     1  2018      53  \n",
              "18246     9394.11     9351.80       42.31          0.0     1  2018      53  \n",
              "18247    10969.54    10919.54       50.00          0.0     1  2018      53  \n",
              "18248    12014.15    11988.14       26.01          0.0     1  2018      53  \n",
              "\n",
              "[18249 rows x 13 columns]"
            ],
            "text/html": [
              "\n",
              "  <div id=\"df-bfb1f278-5344-495b-8486-0c0cb7d66fdb\">\n",
              "    <div class=\"colab-df-container\">\n",
              "      <div>\n",
              "<style scoped>\n",
              "    .dataframe tbody tr th:only-of-type {\n",
              "        vertical-align: middle;\n",
              "    }\n",
              "\n",
              "    .dataframe tbody tr th {\n",
              "        vertical-align: top;\n",
              "    }\n",
              "\n",
              "    .dataframe thead th {\n",
              "        text-align: right;\n",
              "    }\n",
              "</style>\n",
              "<table border=\"1\" class=\"dataframe\">\n",
              "  <thead>\n",
              "    <tr style=\"text-align: right;\">\n",
              "      <th></th>\n",
              "      <th>Date</th>\n",
              "      <th>AveragePrice</th>\n",
              "      <th>Total Volume</th>\n",
              "      <th>4046</th>\n",
              "      <th>4225</th>\n",
              "      <th>4770</th>\n",
              "      <th>Total Bags</th>\n",
              "      <th>Small Bags</th>\n",
              "      <th>Large Bags</th>\n",
              "      <th>XLarge Bags</th>\n",
              "      <th>type</th>\n",
              "      <th>year</th>\n",
              "      <th>region</th>\n",
              "    </tr>\n",
              "  </thead>\n",
              "  <tbody>\n",
              "    <tr>\n",
              "      <th>0</th>\n",
              "      <td>2015-12-27</td>\n",
              "      <td>1.33</td>\n",
              "      <td>64236.62</td>\n",
              "      <td>1036.74</td>\n",
              "      <td>54454.85</td>\n",
              "      <td>48.16</td>\n",
              "      <td>8696.87</td>\n",
              "      <td>8603.62</td>\n",
              "      <td>93.25</td>\n",
              "      <td>0.0</td>\n",
              "      <td>0</td>\n",
              "      <td>2015</td>\n",
              "      <td>0</td>\n",
              "    </tr>\n",
              "    <tr>\n",
              "      <th>1</th>\n",
              "      <td>2015-12-20</td>\n",
              "      <td>1.35</td>\n",
              "      <td>54876.98</td>\n",
              "      <td>674.28</td>\n",
              "      <td>44638.81</td>\n",
              "      <td>58.33</td>\n",
              "      <td>9505.56</td>\n",
              "      <td>9408.07</td>\n",
              "      <td>97.49</td>\n",
              "      <td>0.0</td>\n",
              "      <td>0</td>\n",
              "      <td>2015</td>\n",
              "      <td>0</td>\n",
              "    </tr>\n",
              "    <tr>\n",
              "      <th>2</th>\n",
              "      <td>2015-12-13</td>\n",
              "      <td>0.93</td>\n",
              "      <td>118220.22</td>\n",
              "      <td>794.70</td>\n",
              "      <td>109149.67</td>\n",
              "      <td>130.50</td>\n",
              "      <td>8145.35</td>\n",
              "      <td>8042.21</td>\n",
              "      <td>103.14</td>\n",
              "      <td>0.0</td>\n",
              "      <td>0</td>\n",
              "      <td>2015</td>\n",
              "      <td>0</td>\n",
              "    </tr>\n",
              "    <tr>\n",
              "      <th>3</th>\n",
              "      <td>2015-12-06</td>\n",
              "      <td>1.08</td>\n",
              "      <td>78992.15</td>\n",
              "      <td>1132.00</td>\n",
              "      <td>71976.41</td>\n",
              "      <td>72.58</td>\n",
              "      <td>5811.16</td>\n",
              "      <td>5677.40</td>\n",
              "      <td>133.76</td>\n",
              "      <td>0.0</td>\n",
              "      <td>0</td>\n",
              "      <td>2015</td>\n",
              "      <td>0</td>\n",
              "    </tr>\n",
              "    <tr>\n",
              "      <th>4</th>\n",
              "      <td>2015-11-29</td>\n",
              "      <td>1.28</td>\n",
              "      <td>51039.60</td>\n",
              "      <td>941.48</td>\n",
              "      <td>43838.39</td>\n",
              "      <td>75.78</td>\n",
              "      <td>6183.95</td>\n",
              "      <td>5986.26</td>\n",
              "      <td>197.69</td>\n",
              "      <td>0.0</td>\n",
              "      <td>0</td>\n",
              "      <td>2015</td>\n",
              "      <td>0</td>\n",
              "    </tr>\n",
              "    <tr>\n",
              "      <th>...</th>\n",
              "      <td>...</td>\n",
              "      <td>...</td>\n",
              "      <td>...</td>\n",
              "      <td>...</td>\n",
              "      <td>...</td>\n",
              "      <td>...</td>\n",
              "      <td>...</td>\n",
              "      <td>...</td>\n",
              "      <td>...</td>\n",
              "      <td>...</td>\n",
              "      <td>...</td>\n",
              "      <td>...</td>\n",
              "      <td>...</td>\n",
              "    </tr>\n",
              "    <tr>\n",
              "      <th>18244</th>\n",
              "      <td>2018-02-04</td>\n",
              "      <td>1.63</td>\n",
              "      <td>17074.83</td>\n",
              "      <td>2046.96</td>\n",
              "      <td>1529.20</td>\n",
              "      <td>0.00</td>\n",
              "      <td>13498.67</td>\n",
              "      <td>13066.82</td>\n",
              "      <td>431.85</td>\n",
              "      <td>0.0</td>\n",
              "      <td>1</td>\n",
              "      <td>2018</td>\n",
              "      <td>53</td>\n",
              "    </tr>\n",
              "    <tr>\n",
              "      <th>18245</th>\n",
              "      <td>2018-01-28</td>\n",
              "      <td>1.71</td>\n",
              "      <td>13888.04</td>\n",
              "      <td>1191.70</td>\n",
              "      <td>3431.50</td>\n",
              "      <td>0.00</td>\n",
              "      <td>9264.84</td>\n",
              "      <td>8940.04</td>\n",
              "      <td>324.80</td>\n",
              "      <td>0.0</td>\n",
              "      <td>1</td>\n",
              "      <td>2018</td>\n",
              "      <td>53</td>\n",
              "    </tr>\n",
              "    <tr>\n",
              "      <th>18246</th>\n",
              "      <td>2018-01-21</td>\n",
              "      <td>1.87</td>\n",
              "      <td>13766.76</td>\n",
              "      <td>1191.92</td>\n",
              "      <td>2452.79</td>\n",
              "      <td>727.94</td>\n",
              "      <td>9394.11</td>\n",
              "      <td>9351.80</td>\n",
              "      <td>42.31</td>\n",
              "      <td>0.0</td>\n",
              "      <td>1</td>\n",
              "      <td>2018</td>\n",
              "      <td>53</td>\n",
              "    </tr>\n",
              "    <tr>\n",
              "      <th>18247</th>\n",
              "      <td>2018-01-14</td>\n",
              "      <td>1.93</td>\n",
              "      <td>16205.22</td>\n",
              "      <td>1527.63</td>\n",
              "      <td>2981.04</td>\n",
              "      <td>727.01</td>\n",
              "      <td>10969.54</td>\n",
              "      <td>10919.54</td>\n",
              "      <td>50.00</td>\n",
              "      <td>0.0</td>\n",
              "      <td>1</td>\n",
              "      <td>2018</td>\n",
              "      <td>53</td>\n",
              "    </tr>\n",
              "    <tr>\n",
              "      <th>18248</th>\n",
              "      <td>2018-01-07</td>\n",
              "      <td>1.62</td>\n",
              "      <td>17489.58</td>\n",
              "      <td>2894.77</td>\n",
              "      <td>2356.13</td>\n",
              "      <td>224.53</td>\n",
              "      <td>12014.15</td>\n",
              "      <td>11988.14</td>\n",
              "      <td>26.01</td>\n",
              "      <td>0.0</td>\n",
              "      <td>1</td>\n",
              "      <td>2018</td>\n",
              "      <td>53</td>\n",
              "    </tr>\n",
              "  </tbody>\n",
              "</table>\n",
              "<p>18249 rows × 13 columns</p>\n",
              "</div>\n",
              "      <button class=\"colab-df-convert\" onclick=\"convertToInteractive('df-bfb1f278-5344-495b-8486-0c0cb7d66fdb')\"\n",
              "              title=\"Convert this dataframe to an interactive table.\"\n",
              "              style=\"display:none;\">\n",
              "        \n",
              "  <svg xmlns=\"http://www.w3.org/2000/svg\" height=\"24px\"viewBox=\"0 0 24 24\"\n",
              "       width=\"24px\">\n",
              "    <path d=\"M0 0h24v24H0V0z\" fill=\"none\"/>\n",
              "    <path d=\"M18.56 5.44l.94 2.06.94-2.06 2.06-.94-2.06-.94-.94-2.06-.94 2.06-2.06.94zm-11 1L8.5 8.5l.94-2.06 2.06-.94-2.06-.94L8.5 2.5l-.94 2.06-2.06.94zm10 10l.94 2.06.94-2.06 2.06-.94-2.06-.94-.94-2.06-.94 2.06-2.06.94z\"/><path d=\"M17.41 7.96l-1.37-1.37c-.4-.4-.92-.59-1.43-.59-.52 0-1.04.2-1.43.59L10.3 9.45l-7.72 7.72c-.78.78-.78 2.05 0 2.83L4 21.41c.39.39.9.59 1.41.59.51 0 1.02-.2 1.41-.59l7.78-7.78 2.81-2.81c.8-.78.8-2.07 0-2.86zM5.41 20L4 18.59l7.72-7.72 1.47 1.35L5.41 20z\"/>\n",
              "  </svg>\n",
              "      </button>\n",
              "      \n",
              "  <style>\n",
              "    .colab-df-container {\n",
              "      display:flex;\n",
              "      flex-wrap:wrap;\n",
              "      gap: 12px;\n",
              "    }\n",
              "\n",
              "    .colab-df-convert {\n",
              "      background-color: #E8F0FE;\n",
              "      border: none;\n",
              "      border-radius: 50%;\n",
              "      cursor: pointer;\n",
              "      display: none;\n",
              "      fill: #1967D2;\n",
              "      height: 32px;\n",
              "      padding: 0 0 0 0;\n",
              "      width: 32px;\n",
              "    }\n",
              "\n",
              "    .colab-df-convert:hover {\n",
              "      background-color: #E2EBFA;\n",
              "      box-shadow: 0px 1px 2px rgba(60, 64, 67, 0.3), 0px 1px 3px 1px rgba(60, 64, 67, 0.15);\n",
              "      fill: #174EA6;\n",
              "    }\n",
              "\n",
              "    [theme=dark] .colab-df-convert {\n",
              "      background-color: #3B4455;\n",
              "      fill: #D2E3FC;\n",
              "    }\n",
              "\n",
              "    [theme=dark] .colab-df-convert:hover {\n",
              "      background-color: #434B5C;\n",
              "      box-shadow: 0px 1px 3px 1px rgba(0, 0, 0, 0.15);\n",
              "      filter: drop-shadow(0px 1px 2px rgba(0, 0, 0, 0.3));\n",
              "      fill: #FFFFFF;\n",
              "    }\n",
              "  </style>\n",
              "\n",
              "      <script>\n",
              "        const buttonEl =\n",
              "          document.querySelector('#df-bfb1f278-5344-495b-8486-0c0cb7d66fdb button.colab-df-convert');\n",
              "        buttonEl.style.display =\n",
              "          google.colab.kernel.accessAllowed ? 'block' : 'none';\n",
              "\n",
              "        async function convertToInteractive(key) {\n",
              "          const element = document.querySelector('#df-bfb1f278-5344-495b-8486-0c0cb7d66fdb');\n",
              "          const dataTable =\n",
              "            await google.colab.kernel.invokeFunction('convertToInteractive',\n",
              "                                                     [key], {});\n",
              "          if (!dataTable) return;\n",
              "\n",
              "          const docLinkHtml = 'Like what you see? Visit the ' +\n",
              "            '<a target=\"_blank\" href=https://colab.research.google.com/notebooks/data_table.ipynb>data table notebook</a>'\n",
              "            + ' to learn more about interactive tables.';\n",
              "          element.innerHTML = '';\n",
              "          dataTable['output_type'] = 'display_data';\n",
              "          await google.colab.output.renderOutput(dataTable, element);\n",
              "          const docLink = document.createElement('div');\n",
              "          docLink.innerHTML = docLinkHtml;\n",
              "          element.appendChild(docLink);\n",
              "        }\n",
              "      </script>\n",
              "    </div>\n",
              "  </div>\n",
              "  "
            ]
          },
          "metadata": {},
          "execution_count": 12
        }
      ]
    },
    {
      "cell_type": "markdown",
      "source": [
        "#EDA"
      ],
      "metadata": {
        "id": "y313uwCwYxxs"
      }
    },
    {
      "cell_type": "code",
      "source": [
        "df.plot.scatter(x='AveragePrice',y='region')"
      ],
      "metadata": {
        "colab": {
          "base_uri": "https://localhost:8080/",
          "height": 296
        },
        "id": "Sd-AACeog-Vw",
        "outputId": "167501a5-5294-4a5d-b66e-1e74259a9f38"
      },
      "execution_count": null,
      "outputs": [
        {
          "output_type": "execute_result",
          "data": {
            "text/plain": [
              "<matplotlib.axes._subplots.AxesSubplot at 0x7f15a26614d0>"
            ]
          },
          "metadata": {},
          "execution_count": 28
        },
        {
          "output_type": "display_data",
          "data": {
            "text/plain": [
              "<Figure size 432x288 with 1 Axes>"
            ],
            "image/png": "[encoded data removed]"
          },
          "metadata": {
            "needs_background": "light"
          }
        }
      ]
    },
    {
      "cell_type": "code",
      "source": [
        "plt.figure(figsize=(5,5))\n",
        "sns.countplot(df.type)"
      ],
      "metadata": {
        "colab": {
          "base_uri": "https://localhost:8080/",
          "height": 406
        },
        "id": "pPk9-u0Mjqlz",
        "outputId": "628f9412-92d1-401e-ca02-0bc988a8ed85"
      },
      "execution_count": null,
      "outputs": [
        {
          "output_type": "stream",
          "name": "stderr",
          "text": [
            "/usr/local/lib/python3.7/dist-packages/seaborn/_decorators.py:43: FutureWarning: Pass the following variable as a keyword arg: x. From version 0.12, the only valid positional argument will be `data`, and passing other arguments without an explicit keyword will result in an error or misinterpretation.\n",
            "  FutureWarning\n"
          ]
        },
        {
          "output_type": "execute_result",
          "data": {
            "text/plain": [
              "<matplotlib.axes._subplots.AxesSubplot at 0x7f15a767e210>"
            ]
          },
          "metadata": {},
          "execution_count": 41
        },
        {
          "output_type": "display_data",
          "data": {
            "text/plain": [
              "<Figure size 360x360 with 1 Axes>"
            ],
            "image/png": "[encoded data removed]"
          },
          "metadata": {
            "needs_background": "light"
          }
        }
      ]
    },
    {
      "cell_type": "code",
      "source": [
        "df.type.value_counts()"
      ],
      "metadata": {
        "colab": {
          "base_uri": "https://localhost:8080/"
        },
        "id": "7p0WanNQjuki",
        "outputId": "85ae55c2-7bbb-4806-cd86-10cf1a5a6c0a"
      },
      "execution_count": null,
      "outputs": [
        {
          "output_type": "execute_result",
          "data": {
            "text/plain": [
              "0    9126\n",
              "1    9123\n",
              "Name: type, dtype: int64"
            ]
          },
          "metadata": {},
          "execution_count": 42
        }
      ]
    },
    {
      "cell_type": "code",
      "source": [
        "sns.barplot(data=df, x=\"AveragePrice\", y=\"region\")"
      ],
      "metadata": {
        "colab": {
          "base_uri": "https://localhost:8080/",
          "height": 296
        },
        "id": "ZhQCpFKJhMGS",
        "outputId": "90bb01da-1766-483f-b824-c32e1627d6f1"
      },
      "execution_count": null,
      "outputs": [
        {
          "output_type": "execute_result",
          "data": {
            "text/plain": [
              "<matplotlib.axes._subplots.AxesSubplot at 0x7f15a3ce67d0>"
            ]
          },
          "metadata": {},
          "execution_count": 29
        },
        {
          "output_type": "display_data",
          "data": {
            "text/plain": [
              "<Figure size 432x288 with 1 Axes>"
            ],
            "image/png": "[encoded data removed]"
          },
          "metadata": {
            "needs_background": "light"
          }
        }
      ]
    },
    {
      "cell_type": "code",
      "source": [
        "df.region.value_counts()"
      ],
      "metadata": {
        "colab": {
          "base_uri": "https://localhost:8080/"
        },
        "id": "grCONAsuj0OF",
        "outputId": "7ed7f59d-c8a7-4f59-8ac7-c0abcaefedf1"
      },
      "execution_count": null,
      "outputs": [
        {
          "output_type": "execute_result",
          "data": {
            "text/plain": [
              "0     338\n",
              "40    338\n",
              "29    338\n",
              "30    338\n",
              "31    338\n",
              "32    338\n",
              "33    338\n",
              "34    338\n",
              "35    338\n",
              "36    338\n",
              "37    338\n",
              "38    338\n",
              "39    338\n",
              "41    338\n",
              "1     338\n",
              "42    338\n",
              "43    338\n",
              "44    338\n",
              "45    338\n",
              "46    338\n",
              "47    338\n",
              "48    338\n",
              "49    338\n",
              "50    338\n",
              "51    338\n",
              "52    338\n",
              "28    338\n",
              "27    338\n",
              "26    338\n",
              "25    338\n",
              "2     338\n",
              "3     338\n",
              "4     338\n",
              "5     338\n",
              "6     338\n",
              "7     338\n",
              "8     338\n",
              "9     338\n",
              "10    338\n",
              "11    338\n",
              "12    338\n",
              "13    338\n",
              "14    338\n",
              "15    338\n",
              "16    338\n",
              "17    338\n",
              "18    338\n",
              "19    338\n",
              "20    338\n",
              "21    338\n",
              "22    338\n",
              "23    338\n",
              "24    338\n",
              "53    335\n",
              "Name: region, dtype: int64"
            ]
          },
          "metadata": {},
          "execution_count": 43
        }
      ]
    },
    {
      "cell_type": "code",
      "source": [
        "sns.lineplot(x='AveragePrice',y='Total Volume',data=df)"
      ],
      "metadata": {
        "colab": {
          "base_uri": "https://localhost:8080/",
          "height": 307
        },
        "id": "OwmUmMh9YonE",
        "outputId": "95a6bc35-2f4c-47c7-ced6-ea39d5851db6"
      },
      "execution_count": null,
      "outputs": [
        {
          "output_type": "execute_result",
          "data": {
            "text/plain": [
              "<matplotlib.axes._subplots.AxesSubplot at 0x7f1720383e10>"
            ]
          },
          "metadata": {},
          "execution_count": 13
        },
        {
          "output_type": "display_data",
          "data": {
            "text/plain": [
              "<Figure size 432x288 with 1 Axes>"
            ],
            "image/png": "[encoded data removed]"
          },
          "metadata": {
            "needs_background": "light"
          }
        }
      ]
    },
    {
      "cell_type": "code",
      "source": [
        "sns.barplot(data=df, x=\"AveragePrice\", y=\"4046\")"
      ],
      "metadata": {
        "colab": {
          "base_uri": "https://localhost:8080/",
          "height": 307
        },
        "id": "VALVbUaUZIg9",
        "outputId": "527bb7ff-6af4-4ee6-8824-f1bb43a9caf4"
      },
      "execution_count": null,
      "outputs": [
        {
          "output_type": "execute_result",
          "data": {
            "text/plain": [
              "<matplotlib.axes._subplots.AxesSubplot at 0x7f171f676e50>"
            ]
          },
          "metadata": {},
          "execution_count": 14
        },
        {
          "output_type": "display_data",
          "data": {
            "text/plain": [
              "<Figure size 432x288 with 1 Axes>"
            ],
            "image/png": "[encoded data removed]"
          },
          "metadata": {
            "needs_background": "light"
          }
        }
      ]
    },
    {
      "cell_type": "code",
      "source": [
        "df.plot.hexbin(x='AveragePrice', y='4225', gridsize=15)"
      ],
      "metadata": {
        "colab": {
          "base_uri": "https://localhost:8080/",
          "height": 282
        },
        "id": "MpSnBb5vZWS8",
        "outputId": "ec066adc-3eb1-451c-e1eb-e38a3168d15d"
      },
      "execution_count": null,
      "outputs": [
        {
          "output_type": "execute_result",
          "data": {
            "text/plain": [
              "<matplotlib.axes._subplots.AxesSubplot at 0x7f1732a7cf50>"
            ]
          },
          "metadata": {},
          "execution_count": 15
        },
        {
          "output_type": "display_data",
          "data": {
            "text/plain": [
              "<Figure size 432x288 with 2 Axes>"
            ],
            "image/png": "[encoded data removed]"
          },
          "metadata": {
            "needs_background": "light"
          }
        }
      ]
    },
    {
      "cell_type": "code",
      "source": [
        "df.plot.scatter(x='AveragePrice',y='4770')"
      ],
      "metadata": {
        "colab": {
          "base_uri": "https://localhost:8080/",
          "height": 307
        },
        "id": "B9aS9uLFZne0",
        "outputId": "435c71bb-b2fd-4be1-c036-385e56df7d25"
      },
      "execution_count": null,
      "outputs": [
        {
          "output_type": "execute_result",
          "data": {
            "text/plain": [
              "<matplotlib.axes._subplots.AxesSubplot at 0x7f171ecf8350>"
            ]
          },
          "metadata": {},
          "execution_count": 16
        },
        {
          "output_type": "display_data",
          "data": {
            "text/plain": [
              "<Figure size 432x288 with 1 Axes>"
            ],
            "image/png": "[encoded data removed]"
          },
          "metadata": {
            "needs_background": "light"
          }
        }
      ]
    },
    {
      "cell_type": "code",
      "source": [
        "sns.barplot(data=df, x=\"AveragePrice\", y=\"Total Bags\")"
      ],
      "metadata": {
        "colab": {
          "base_uri": "https://localhost:8080/",
          "height": 307
        },
        "id": "6OLCMosWac8w",
        "outputId": "b0312e4f-d024-47b4-aa55-93ee1413134c"
      },
      "execution_count": null,
      "outputs": [
        {
          "output_type": "execute_result",
          "data": {
            "text/plain": [
              "<matplotlib.axes._subplots.AxesSubplot at 0x7f15a4f81fd0>"
            ]
          },
          "metadata": {},
          "execution_count": 22
        },
        {
          "output_type": "display_data",
          "data": {
            "text/plain": [
              "<Figure size 432x288 with 1 Axes>"
            ],
            "image/png": "[encoded data removed]"
          },
          "metadata": {
            "needs_background": "light"
          }
        }
      ]
    },
    {
      "cell_type": "code",
      "source": [
        "sns.lineplot(x='AveragePrice',y='Small Bags',data=df)"
      ],
      "metadata": {
        "colab": {
          "base_uri": "https://localhost:8080/",
          "height": 307
        },
        "id": "Wm9eXdbEadAw",
        "outputId": "bf6e2867-a81b-4f20-d8b9-f9a7228e3492"
      },
      "execution_count": null,
      "outputs": [
        {
          "output_type": "execute_result",
          "data": {
            "text/plain": [
              "<matplotlib.axes._subplots.AxesSubplot at 0x7f15aac9eb90>"
            ]
          },
          "metadata": {},
          "execution_count": 23
        },
        {
          "output_type": "display_data",
          "data": {
            "text/plain": [
              "<Figure size 432x288 with 1 Axes>"
            ],
            "image/png": "[encoded data removed]"
          },
          "metadata": {
            "needs_background": "light"
          }
        }
      ]
    },
    {
      "cell_type": "code",
      "source": [
        "sns.lineplot(x='year',y='type',data=df)"
      ],
      "metadata": {
        "colab": {
          "base_uri": "https://localhost:8080/",
          "height": 296
        },
        "id": "Z-d9UvSdkCTH",
        "outputId": "67f9ca04-d022-47f3-809f-d6aa3f3ed15f"
      },
      "execution_count": null,
      "outputs": [
        {
          "output_type": "execute_result",
          "data": {
            "text/plain": [
              "<matplotlib.axes._subplots.AxesSubplot at 0x7f15a2874190>"
            ]
          },
          "metadata": {},
          "execution_count": 44
        },
        {
          "output_type": "display_data",
          "data": {
            "text/plain": [
              "<Figure size 432x288 with 1 Axes>"
            ],
            "image/png": "[encoded data removed]"
          },
          "metadata": {
            "needs_background": "light"
          }
        }
      ]
    },
    {
      "cell_type": "code",
      "source": [
        "df.groupby('year')['type'].value_counts()"
      ],
      "metadata": {
        "colab": {
          "base_uri": "https://localhost:8080/"
        },
        "id": "Snrrkmdzj_8w",
        "outputId": "e3ee4945-4c56-4e5c-bf53-ea57504cf7f0"
      },
      "execution_count": null,
      "outputs": [
        {
          "output_type": "execute_result",
          "data": {
            "text/plain": [
              "year  type\n",
              "2015  0       2808\n",
              "      1       2807\n",
              "2016  0       2808\n",
              "      1       2808\n",
              "2017  0       2862\n",
              "      1       2860\n",
              "2018  0        648\n",
              "      1        648\n",
              "Name: type, dtype: int64"
            ]
          },
          "metadata": {},
          "execution_count": 45
        }
      ]
    },
    {
      "cell_type": "code",
      "source": [
        "df.plot.hexbin(x='AveragePrice', y='Large Bags', gridsize=15)"
      ],
      "metadata": {
        "colab": {
          "base_uri": "https://localhost:8080/",
          "height": 282
        },
        "id": "b3NK9hFnadEn",
        "outputId": "891b338a-b332-45ef-8e80-c81197017b6d"
      },
      "execution_count": null,
      "outputs": [
        {
          "output_type": "execute_result",
          "data": {
            "text/plain": [
              "<matplotlib.axes._subplots.AxesSubplot at 0x7f15aa959d10>"
            ]
          },
          "metadata": {},
          "execution_count": 24
        },
        {
          "output_type": "display_data",
          "data": {
            "text/plain": [
              "<Figure size 432x288 with 2 Axes>"
            ],
            "image/png": "[encoded data removed]"
          },
          "metadata": {
            "needs_background": "light"
          }
        }
      ]
    },
    {
      "cell_type": "code",
      "source": [
        "sns.countplot(df['year'])"
      ],
      "metadata": {
        "colab": {
          "base_uri": "https://localhost:8080/",
          "height": 355
        },
        "id": "pHHl63pmadJL",
        "outputId": "112fcfe4-b20a-4b0a-f411-b914e9509404"
      },
      "execution_count": null,
      "outputs": [
        {
          "output_type": "stream",
          "name": "stderr",
          "text": [
            "/usr/local/lib/python3.7/dist-packages/seaborn/_decorators.py:43: FutureWarning: Pass the following variable as a keyword arg: x. From version 0.12, the only valid positional argument will be `data`, and passing other arguments without an explicit keyword will result in an error or misinterpretation.\n",
            "  FutureWarning\n"
          ]
        },
        {
          "output_type": "execute_result",
          "data": {
            "text/plain": [
              "<matplotlib.axes._subplots.AxesSubplot at 0x7f15a5396d90>"
            ]
          },
          "metadata": {},
          "execution_count": 25
        },
        {
          "output_type": "display_data",
          "data": {
            "text/plain": [
              "<Figure size 432x288 with 1 Axes>"
            ],
            "image/png": "[encoded data removed]"
          },
          "metadata": {
            "needs_background": "light"
          }
        }
      ]
    },
    {
      "cell_type": "code",
      "source": [
        "df.year.value_counts()"
      ],
      "metadata": {
        "colab": {
          "base_uri": "https://localhost:8080/"
        },
        "id": "H1sghnoajePq",
        "outputId": "11e561a1-24b1-46d2-91bc-1007a600ad08"
      },
      "execution_count": null,
      "outputs": [
        {
          "output_type": "execute_result",
          "data": {
            "text/plain": [
              "2017    5722\n",
              "2016    5616\n",
              "2015    5615\n",
              "2018    1296\n",
              "Name: year, dtype: int64"
            ]
          },
          "metadata": {},
          "execution_count": 40
        }
      ]
    },
    {
      "cell_type": "code",
      "source": [
        "sns.displot(df['region'])"
      ],
      "metadata": {
        "colab": {
          "base_uri": "https://localhost:8080/",
          "height": 386
        },
        "id": "xo-8L_TsbV-9",
        "outputId": "42aa2b74-fc58-4bba-f126-afffe44ca111"
      },
      "execution_count": null,
      "outputs": [
        {
          "output_type": "execute_result",
          "data": {
            "text/plain": [
              "<seaborn.axisgrid.FacetGrid at 0x7f15aa4203d0>"
            ]
          },
          "metadata": {},
          "execution_count": 26
        },
        {
          "output_type": "display_data",
          "data": {
            "text/plain": [
              "<Figure size 360x360 with 1 Axes>"
            ],
            "image/png": "[encoded data removed]"
          },
          "metadata": {
            "needs_background": "light"
          }
        }
      ]
    },
    {
      "cell_type": "code",
      "source": [
        "sns.displot(df['type'])"
      ],
      "metadata": {
        "colab": {
          "base_uri": "https://localhost:8080/",
          "height": 386
        },
        "id": "UJMcyumXbWCx",
        "outputId": "615af327-fd82-4519-86c4-8426f3371839"
      },
      "execution_count": null,
      "outputs": [
        {
          "output_type": "execute_result",
          "data": {
            "text/plain": [
              "<seaborn.axisgrid.FacetGrid at 0x7f15a1e30090>"
            ]
          },
          "metadata": {},
          "execution_count": 27
        },
        {
          "output_type": "display_data",
          "data": {
            "text/plain": [
              "<Figure size 360x360 with 1 Axes>"
            ],
            "image/png": "[encoded data removed]"
          },
          "metadata": {
            "needs_background": "light"
          }
        }
      ]
    },
    {
      "cell_type": "code",
      "source": [
        "df.hist(figsize=(15,30),edgecolor='red',layout=(9,4),bins=15,legend=True)\n",
        "plt.show()"
      ],
      "metadata": {
        "colab": {
          "base_uri": "https://localhost:8080/",
          "height": 579
        },
        "id": "NlzIybpHaLCN",
        "outputId": "3c952723-3820-4c2d-8502-0f5d29e4b657"
      },
      "execution_count": null,
      "outputs": [
        {
          "output_type": "display_data",
          "data": {
            "text/plain": [
              "<Figure size 1080x2160 with 36 Axes>"
            ],
            "image/png": "[encoded data removed]"
          },
          "metadata": {
            "needs_background": "light"
          }
        }
      ]
    },
    {
      "cell_type": "markdown",
      "source": [
        "# Coorelation"
      ],
      "metadata": {
        "id": "SgEKMeZ8b_k9"
      }
    },
    {
      "cell_type": "code",
      "source": [
        "df.corr()"
      ],
      "metadata": {
        "colab": {
          "base_uri": "https://localhost:8080/",
          "height": 457
        },
        "id": "qLvzxI08cDEV",
        "outputId": "1c5af860-63ba-4698-c41d-61724d66bb20"
      },
      "execution_count": 66,
      "outputs": [
        {
          "output_type": "execute_result",
          "data": {
            "text/plain": [
              "                  Date  AveragePrice  Total Volume      4046      4225  \\\n",
              "Date          1.000000      0.099925      0.016353  0.002388 -0.010464   \n",
              "AveragePrice  0.099925      1.000000     -0.192752 -0.208317 -0.172928   \n",
              "Total Volume  0.016353     -0.192752      1.000000  0.977863  0.974181   \n",
              "4046          0.002388     -0.208317      0.977863  1.000000  0.926110   \n",
              "4225         -0.010464     -0.172928      0.974181  0.926110  1.000000   \n",
              "4770         -0.038023     -0.179446      0.872202  0.833389  0.887855   \n",
              "Total Bags    0.071117     -0.177088      0.963047  0.920057  0.905787   \n",
              "Small Bags    0.063420     -0.174730      0.967238  0.925280  0.916031   \n",
              "Large Bags    0.087647     -0.172940      0.880640  0.838645  0.810015   \n",
              "XLarge Bags   0.081029     -0.117592      0.747157  0.699377  0.688809   \n",
              "type         -0.000036      0.615845     -0.232434 -0.225819 -0.232289   \n",
              "year          0.999306      0.093197      0.017193  0.003353 -0.009559   \n",
              "region       -0.000061     -0.011716      0.174176  0.192073  0.145726   \n",
              "\n",
              "                  4770  Total Bags  Small Bags  Large Bags  XLarge Bags  \\\n",
              "Date         -0.038023    0.071117    0.063420    0.087647     0.081029   \n",
              "AveragePrice -0.179446   -0.177088   -0.174730   -0.172940    -0.117592   \n",
              "Total Volume  0.872202    0.963047    0.967238    0.880640     0.747157   \n",
              "4046          0.833389    0.920057    0.925280    0.838645     0.699377   \n",
              "4225          0.887855    0.905787    0.916031    0.810015     0.688809   \n",
              "4770          1.000000    0.792314    0.802733    0.698471     0.679861   \n",
              "Total Bags    0.792314    1.000000    0.994335    0.943009     0.804233   \n",
              "Small Bags    0.802733    0.994335    1.000000    0.902589     0.806845   \n",
              "Large Bags    0.698471    0.943009    0.902589    1.000000     0.710858   \n",
              "XLarge Bags   0.679861    0.804233    0.806845    0.710858     1.000000   \n",
              "type         -0.210027   -0.217788   -0.220535   -0.193177    -0.175483   \n",
              "year         -0.036531    0.071552    0.063915    0.087891     0.081033   \n",
              "region        0.095252    0.175256    0.164702    0.198768     0.082281   \n",
              "\n",
              "                  type      year    region  \n",
              "Date         -0.000036  0.999306 -0.000061  \n",
              "AveragePrice  0.615845  0.093197 -0.011716  \n",
              "Total Volume -0.232434  0.017193  0.174176  \n",
              "4046         -0.225819  0.003353  0.192073  \n",
              "4225         -0.232289 -0.009559  0.145726  \n",
              "4770         -0.210027 -0.036531  0.095252  \n",
              "Total Bags   -0.217788  0.071552  0.175256  \n",
              "Small Bags   -0.220535  0.063915  0.164702  \n",
              "Large Bags   -0.193177  0.087891  0.198768  \n",
              "XLarge Bags  -0.175483  0.081033  0.082281  \n",
              "type          1.000000 -0.000032 -0.000280  \n",
              "year         -0.000032  1.000000 -0.000055  \n",
              "region       -0.000280 -0.000055  1.000000  "
            ],
            "text/html": [
              "\n",
              "  <div id=\"df-a27ac82f-5810-40fb-85ac-4c03efb57bfb\">\n",
              "    <div class=\"colab-df-container\">\n",
              "      <div>\n",
              "<style scoped>\n",
              "    .dataframe tbody tr th:only-of-type {\n",
              "        vertical-align: middle;\n",
              "    }\n",
              "\n",
              "    .dataframe tbody tr th {\n",
              "        vertical-align: top;\n",
              "    }\n",
              "\n",
              "    .dataframe thead th {\n",
              "        text-align: right;\n",
              "    }\n",
              "</style>\n",
              "<table border=\"1\" class=\"dataframe\">\n",
              "  <thead>\n",
              "    <tr style=\"text-align: right;\">\n",
              "      <th></th>\n",
              "      <th>Date</th>\n",
              "      <th>AveragePrice</th>\n",
              "      <th>Total Volume</th>\n",
              "      <th>4046</th>\n",
              "      <th>4225</th>\n",
              "      <th>4770</th>\n",
              "      <th>Total Bags</th>\n",
              "      <th>Small Bags</th>\n",
              "      <th>Large Bags</th>\n",
              "      <th>XLarge Bags</th>\n",
              "      <th>type</th>\n",
              "      <th>year</th>\n",
              "      <th>region</th>\n",
              "    </tr>\n",
              "  </thead>\n",
              "  <tbody>\n",
              "    <tr>\n",
              "      <th>Date</th>\n",
              "      <td>1.000000</td>\n",
              "      <td>0.099925</td>\n",
              "      <td>0.016353</td>\n",
              "      <td>0.002388</td>\n",
              "      <td>-0.010464</td>\n",
              "      <td>-0.038023</td>\n",
              "      <td>0.071117</td>\n",
              "      <td>0.063420</td>\n",
              "      <td>0.087647</td>\n",
              "      <td>0.081029</td>\n",
              "      <td>-0.000036</td>\n",
              "      <td>0.999306</td>\n",
              "      <td>-0.000061</td>\n",
              "    </tr>\n",
              "    <tr>\n",
              "      <th>AveragePrice</th>\n",
              "      <td>0.099925</td>\n",
              "      <td>1.000000</td>\n",
              "      <td>-0.192752</td>\n",
              "      <td>-0.208317</td>\n",
              "      <td>-0.172928</td>\n",
              "      <td>-0.179446</td>\n",
              "      <td>-0.177088</td>\n",
              "      <td>-0.174730</td>\n",
              "      <td>-0.172940</td>\n",
              "      <td>-0.117592</td>\n",
              "      <td>0.615845</td>\n",
              "      <td>0.093197</td>\n",
              "      <td>-0.011716</td>\n",
              "    </tr>\n",
              "    <tr>\n",
              "      <th>Total Volume</th>\n",
              "      <td>0.016353</td>\n",
              "      <td>-0.192752</td>\n",
              "      <td>1.000000</td>\n",
              "      <td>0.977863</td>\n",
              "      <td>0.974181</td>\n",
              "      <td>0.872202</td>\n",
              "      <td>0.963047</td>\n",
              "      <td>0.967238</td>\n",
              "      <td>0.880640</td>\n",
              "      <td>0.747157</td>\n",
              "      <td>-0.232434</td>\n",
              "      <td>0.017193</td>\n",
              "      <td>0.174176</td>\n",
              "    </tr>\n",
              "    <tr>\n",
              "      <th>4046</th>\n",
              "      <td>0.002388</td>\n",
              "      <td>-0.208317</td>\n",
              "      <td>0.977863</td>\n",
              "      <td>1.000000</td>\n",
              "      <td>0.926110</td>\n",
              "      <td>0.833389</td>\n",
              "      <td>0.920057</td>\n",
              "      <td>0.925280</td>\n",
              "      <td>0.838645</td>\n",
              "      <td>0.699377</td>\n",
              "      <td>-0.225819</td>\n",
              "      <td>0.003353</td>\n",
              "      <td>0.192073</td>\n",
              "    </tr>\n",
              "    <tr>\n",
              "      <th>4225</th>\n",
              "      <td>-0.010464</td>\n",
              "      <td>-0.172928</td>\n",
              "      <td>0.974181</td>\n",
              "      <td>0.926110</td>\n",
              "      <td>1.000000</td>\n",
              "      <td>0.887855</td>\n",
              "      <td>0.905787</td>\n",
              "      <td>0.916031</td>\n",
              "      <td>0.810015</td>\n",
              "      <td>0.688809</td>\n",
              "      <td>-0.232289</td>\n",
              "      <td>-0.009559</td>\n",
              "      <td>0.145726</td>\n",
              "    </tr>\n",
              "    <tr>\n",
              "      <th>4770</th>\n",
              "      <td>-0.038023</td>\n",
              "      <td>-0.179446</td>\n",
              "      <td>0.872202</td>\n",
              "      <td>0.833389</td>\n",
              "      <td>0.887855</td>\n",
              "      <td>1.000000</td>\n",
              "      <td>0.792314</td>\n",
              "      <td>0.802733</td>\n",
              "      <td>0.698471</td>\n",
              "      <td>0.679861</td>\n",
              "      <td>-0.210027</td>\n",
              "      <td>-0.036531</td>\n",
              "      <td>0.095252</td>\n",
              "    </tr>\n",
              "    <tr>\n",
              "      <th>Total Bags</th>\n",
              "      <td>0.071117</td>\n",
              "      <td>-0.177088</td>\n",
              "      <td>0.963047</td>\n",
              "      <td>0.920057</td>\n",
              "      <td>0.905787</td>\n",
              "      <td>0.792314</td>\n",
              "      <td>1.000000</td>\n",
              "      <td>0.994335</td>\n",
              "      <td>0.943009</td>\n",
              "      <td>0.804233</td>\n",
              "      <td>-0.217788</td>\n",
              "      <td>0.071552</td>\n",
              "      <td>0.175256</td>\n",
              "    </tr>\n",
              "    <tr>\n",
              "      <th>Small Bags</th>\n",
              "      <td>0.063420</td>\n",
              "      <td>-0.174730</td>\n",
              "      <td>0.967238</td>\n",
              "      <td>0.925280</td>\n",
              "      <td>0.916031</td>\n",
              "      <td>0.802733</td>\n",
              "      <td>0.994335</td>\n",
              "      <td>1.000000</td>\n",
              "      <td>0.902589</td>\n",
              "      <td>0.806845</td>\n",
              "      <td>-0.220535</td>\n",
              "      <td>0.063915</td>\n",
              "      <td>0.164702</td>\n",
              "    </tr>\n",
              "    <tr>\n",
              "      <th>Large Bags</th>\n",
              "      <td>0.087647</td>\n",
              "      <td>-0.172940</td>\n",
              "      <td>0.880640</td>\n",
              "      <td>0.838645</td>\n",
              "      <td>0.810015</td>\n",
              "      <td>0.698471</td>\n",
              "      <td>0.943009</td>\n",
              "      <td>0.902589</td>\n",
              "      <td>1.000000</td>\n",
              "      <td>0.710858</td>\n",
              "      <td>-0.193177</td>\n",
              "      <td>0.087891</td>\n",
              "      <td>0.198768</td>\n",
              "    </tr>\n",
              "    <tr>\n",
              "      <th>XLarge Bags</th>\n",
              "      <td>0.081029</td>\n",
              "      <td>-0.117592</td>\n",
              "      <td>0.747157</td>\n",
              "      <td>0.699377</td>\n",
              "      <td>0.688809</td>\n",
              "      <td>0.679861</td>\n",
              "      <td>0.804233</td>\n",
              "      <td>0.806845</td>\n",
              "      <td>0.710858</td>\n",
              "      <td>1.000000</td>\n",
              "      <td>-0.175483</td>\n",
              "      <td>0.081033</td>\n",
              "      <td>0.082281</td>\n",
              "    </tr>\n",
              "    <tr>\n",
              "      <th>type</th>\n",
              "      <td>-0.000036</td>\n",
              "      <td>0.615845</td>\n",
              "      <td>-0.232434</td>\n",
              "      <td>-0.225819</td>\n",
              "      <td>-0.232289</td>\n",
              "      <td>-0.210027</td>\n",
              "      <td>-0.217788</td>\n",
              "      <td>-0.220535</td>\n",
              "      <td>-0.193177</td>\n",
              "      <td>-0.175483</td>\n",
              "      <td>1.000000</td>\n",
              "      <td>-0.000032</td>\n",
              "      <td>-0.000280</td>\n",
              "    </tr>\n",
              "    <tr>\n",
              "      <th>year</th>\n",
              "      <td>0.999306</td>\n",
              "      <td>0.093197</td>\n",
              "      <td>0.017193</td>\n",
              "      <td>0.003353</td>\n",
              "      <td>-0.009559</td>\n",
              "      <td>-0.036531</td>\n",
              "      <td>0.071552</td>\n",
              "      <td>0.063915</td>\n",
              "      <td>0.087891</td>\n",
              "      <td>0.081033</td>\n",
              "      <td>-0.000032</td>\n",
              "      <td>1.000000</td>\n",
              "      <td>-0.000055</td>\n",
              "    </tr>\n",
              "    <tr>\n",
              "      <th>region</th>\n",
              "      <td>-0.000061</td>\n",
              "      <td>-0.011716</td>\n",
              "      <td>0.174176</td>\n",
              "      <td>0.192073</td>\n",
              "      <td>0.145726</td>\n",
              "      <td>0.095252</td>\n",
              "      <td>0.175256</td>\n",
              "      <td>0.164702</td>\n",
              "      <td>0.198768</td>\n",
              "      <td>0.082281</td>\n",
              "      <td>-0.000280</td>\n",
              "      <td>-0.000055</td>\n",
              "      <td>1.000000</td>\n",
              "    </tr>\n",
              "  </tbody>\n",
              "</table>\n",
              "</div>\n",
              "      <button class=\"colab-df-convert\" onclick=\"convertToInteractive('df-a27ac82f-5810-40fb-85ac-4c03efb57bfb')\"\n",
              "              title=\"Convert this dataframe to an interactive table.\"\n",
              "              style=\"display:none;\">\n",
              "        \n",
              "  <svg xmlns=\"http://www.w3.org/2000/svg\" height=\"24px\"viewBox=\"0 0 24 24\"\n",
              "       width=\"24px\">\n",
              "    <path d=\"M0 0h24v24H0V0z\" fill=\"none\"/>\n",
              "    <path d=\"M18.56 5.44l.94 2.06.94-2.06 2.06-.94-2.06-.94-.94-2.06-.94 2.06-2.06.94zm-11 1L8.5 8.5l.94-2.06 2.06-.94-2.06-.94L8.5 2.5l-.94 2.06-2.06.94zm10 10l.94 2.06.94-2.06 2.06-.94-2.06-.94-.94-2.06-.94 2.06-2.06.94z\"/><path d=\"M17.41 7.96l-1.37-1.37c-.4-.4-.92-.59-1.43-.59-.52 0-1.04.2-1.43.59L10.3 9.45l-7.72 7.72c-.78.78-.78 2.05 0 2.83L4 21.41c.39.39.9.59 1.41.59.51 0 1.02-.2 1.41-.59l7.78-7.78 2.81-2.81c.8-.78.8-2.07 0-2.86zM5.41 20L4 18.59l7.72-7.72 1.47 1.35L5.41 20z\"/>\n",
              "  </svg>\n",
              "      </button>\n",
              "      \n",
              "  <style>\n",
              "    .colab-df-container {\n",
              "      display:flex;\n",
              "      flex-wrap:wrap;\n",
              "      gap: 12px;\n",
              "    }\n",
              "\n",
              "    .colab-df-convert {\n",
              "      background-color: #E8F0FE;\n",
              "      border: none;\n",
              "      border-radius: 50%;\n",
              "      cursor: pointer;\n",
              "      display: none;\n",
              "      fill: #1967D2;\n",
              "      height: 32px;\n",
              "      padding: 0 0 0 0;\n",
              "      width: 32px;\n",
              "    }\n",
              "\n",
              "    .colab-df-convert:hover {\n",
              "      background-color: #E2EBFA;\n",
              "      box-shadow: 0px 1px 2px rgba(60, 64, 67, 0.3), 0px 1px 3px 1px rgba(60, 64, 67, 0.15);\n",
              "      fill: #174EA6;\n",
              "    }\n",
              "\n",
              "    [theme=dark] .colab-df-convert {\n",
              "      background-color: #3B4455;\n",
              "      fill: #D2E3FC;\n",
              "    }\n",
              "\n",
              "    [theme=dark] .colab-df-convert:hover {\n",
              "      background-color: #434B5C;\n",
              "      box-shadow: 0px 1px 3px 1px rgba(0, 0, 0, 0.15);\n",
              "      filter: drop-shadow(0px 1px 2px rgba(0, 0, 0, 0.3));\n",
              "      fill: #FFFFFF;\n",
              "    }\n",
              "  </style>\n",
              "\n",
              "      <script>\n",
              "        const buttonEl =\n",
              "          document.querySelector('#df-a27ac82f-5810-40fb-85ac-4c03efb57bfb button.colab-df-convert');\n",
              "        buttonEl.style.display =\n",
              "          google.colab.kernel.accessAllowed ? 'block' : 'none';\n",
              "\n",
              "        async function convertToInteractive(key) {\n",
              "          const element = document.querySelector('#df-a27ac82f-5810-40fb-85ac-4c03efb57bfb');\n",
              "          const dataTable =\n",
              "            await google.colab.kernel.invokeFunction('convertToInteractive',\n",
              "                                                     [key], {});\n",
              "          if (!dataTable) return;\n",
              "\n",
              "          const docLinkHtml = 'Like what you see? Visit the ' +\n",
              "            '<a target=\"_blank\" href=https://colab.research.google.com/notebooks/data_table.ipynb>data table notebook</a>'\n",
              "            + ' to learn more about interactive tables.';\n",
              "          element.innerHTML = '';\n",
              "          dataTable['output_type'] = 'display_data';\n",
              "          await google.colab.output.renderOutput(dataTable, element);\n",
              "          const docLink = document.createElement('div');\n",
              "          docLink.innerHTML = docLinkHtml;\n",
              "          element.appendChild(docLink);\n",
              "        }\n",
              "      </script>\n",
              "    </div>\n",
              "  </div>\n",
              "  "
            ]
          },
          "metadata": {},
          "execution_count": 66
        }
      ]
    },
    {
      "cell_type": "code",
      "source": [
        "df.corr()['AveragePrice'].sort_values()"
      ],
      "metadata": {
        "colab": {
          "base_uri": "https://localhost:8080/"
        },
        "id": "vge6l_u5cF01",
        "outputId": "73dc997c-6f0a-4f6a-a0fd-135b84a4f44e"
      },
      "execution_count": null,
      "outputs": [
        {
          "output_type": "execute_result",
          "data": {
            "text/plain": [
              "4046           -0.208317\n",
              "Total Volume   -0.192752\n",
              "4770           -0.179446\n",
              "Total Bags     -0.177088\n",
              "Small Bags     -0.174730\n",
              "Large Bags     -0.172940\n",
              "4225           -0.172928\n",
              "XLarge Bags    -0.117592\n",
              "region         -0.011716\n",
              "year            0.093197\n",
              "type            0.615845\n",
              "AveragePrice    1.000000\n",
              "Name: AveragePrice, dtype: float64"
            ]
          },
          "metadata": {},
          "execution_count": 30
        }
      ]
    },
    {
      "cell_type": "code",
      "source": [
        "df.corr()['region'].sort_values()"
      ],
      "metadata": {
        "colab": {
          "base_uri": "https://localhost:8080/"
        },
        "id": "8nUgoolwcQwx",
        "outputId": "ff410445-48fd-4c55-aedc-57fdfa690fc0"
      },
      "execution_count": null,
      "outputs": [
        {
          "output_type": "execute_result",
          "data": {
            "text/plain": [
              "AveragePrice   -0.011716\n",
              "type           -0.000280\n",
              "year           -0.000055\n",
              "XLarge Bags     0.082281\n",
              "4770            0.095252\n",
              "4225            0.145726\n",
              "Small Bags      0.164702\n",
              "Total Volume    0.174176\n",
              "Total Bags      0.175256\n",
              "4046            0.192073\n",
              "Large Bags      0.198768\n",
              "region          1.000000\n",
              "Name: region, dtype: float64"
            ]
          },
          "metadata": {},
          "execution_count": 31
        }
      ]
    },
    {
      "cell_type": "code",
      "source": [
        "import matplotlib.pyplot as plt\n",
        "import seaborn as sns\n",
        "plt.figure(figsize=(15,7))\n",
        "sns.heatmap(df.corr(), annot=True, linewidths=0.5,linecolor=\"black\", fmt='.2f')"
      ],
      "metadata": {
        "colab": {
          "base_uri": "https://localhost:8080/",
          "height": 506
        },
        "id": "ZPtfotE8cgDp",
        "outputId": "37826e49-935c-49b1-d760-224d1b7200d3"
      },
      "execution_count": null,
      "outputs": [
        {
          "output_type": "execute_result",
          "data": {
            "text/plain": [
              "<matplotlib.axes._subplots.AxesSubplot at 0x7f15a3a71d10>"
            ]
          },
          "metadata": {},
          "execution_count": 32
        },
        {
          "output_type": "display_data",
          "data": {
            "text/plain": [
              "<Figure size 1080x504 with 2 Axes>"
            ],
            "image/png": "[encoded data removed]"
          },
          "metadata": {
            "needs_background": "light"
          }
        }
      ]
    },
    {
      "cell_type": "markdown",
      "source": [
        "# Descriptive Statistics"
      ],
      "metadata": {
        "id": "cvC1RhyRgGN2"
      }
    },
    {
      "cell_type": "code",
      "source": [
        "df.describe()"
      ],
      "metadata": {
        "colab": {
          "base_uri": "https://localhost:8080/",
          "height": 300
        },
        "id": "aMADdUdWgKe7",
        "outputId": "49c37efb-743a-4a46-b708-e53480330d9b"
      },
      "execution_count": null,
      "outputs": [
        {
          "output_type": "execute_result",
          "data": {
            "text/plain": [
              "       AveragePrice  Total Volume          4046          4225          4770  \\\n",
              "count  18249.000000  1.824900e+04  1.824900e+04  1.824900e+04  1.824900e+04   \n",
              "mean       1.405978  8.506440e+05  2.930084e+05  2.951546e+05  2.283974e+04   \n",
              "std        0.402677  3.453545e+06  1.264989e+06  1.204120e+06  1.074641e+05   \n",
              "min        0.440000  8.456000e+01  0.000000e+00  0.000000e+00  0.000000e+00   \n",
              "25%        1.100000  1.083858e+04  8.540700e+02  3.008780e+03  0.000000e+00   \n",
              "50%        1.370000  1.073768e+05  8.645300e+03  2.906102e+04  1.849900e+02   \n",
              "75%        1.660000  4.329623e+05  1.110202e+05  1.502069e+05  6.243420e+03   \n",
              "max        3.250000  6.250565e+07  2.274362e+07  2.047057e+07  2.546439e+06   \n",
              "\n",
              "         Total Bags    Small Bags    Large Bags    XLarge Bags          type  \\\n",
              "count  1.824900e+04  1.824900e+04  1.824900e+04   18249.000000  18249.000000   \n",
              "mean   2.396392e+05  1.821947e+05  5.433809e+04    3106.426507      0.499918   \n",
              "std    9.862424e+05  7.461785e+05  2.439660e+05   17692.894652      0.500014   \n",
              "min    0.000000e+00  0.000000e+00  0.000000e+00       0.000000      0.000000   \n",
              "25%    5.088640e+03  2.849420e+03  1.274700e+02       0.000000      0.000000   \n",
              "50%    3.974383e+04  2.636282e+04  2.647710e+03       0.000000      0.000000   \n",
              "75%    1.107834e+05  8.333767e+04  2.202925e+04     132.500000      1.000000   \n",
              "max    1.937313e+07  1.338459e+07  5.719097e+06  551693.650000      1.000000   \n",
              "\n",
              "               year        region  \n",
              "count  18249.000000  18249.000000  \n",
              "mean    2016.147899     26.495644  \n",
              "std        0.939938     15.583788  \n",
              "min     2015.000000      0.000000  \n",
              "25%     2015.000000     13.000000  \n",
              "50%     2016.000000     26.000000  \n",
              "75%     2017.000000     40.000000  \n",
              "max     2018.000000     53.000000  "
            ],
            "text/html": [
              "\n",
              "  <div id=\"df-680c4274-19e8-413d-8b90-50016114f9b9\">\n",
              "    <div class=\"colab-df-container\">\n",
              "      <div>\n",
              "<style scoped>\n",
              "    .dataframe tbody tr th:only-of-type {\n",
              "        vertical-align: middle;\n",
              "    }\n",
              "\n",
              "    .dataframe tbody tr th {\n",
              "        vertical-align: top;\n",
              "    }\n",
              "\n",
              "    .dataframe thead th {\n",
              "        text-align: right;\n",
              "    }\n",
              "</style>\n",
              "<table border=\"1\" class=\"dataframe\">\n",
              "  <thead>\n",
              "    <tr style=\"text-align: right;\">\n",
              "      <th></th>\n",
              "      <th>AveragePrice</th>\n",
              "      <th>Total Volume</th>\n",
              "      <th>4046</th>\n",
              "      <th>4225</th>\n",
              "      <th>4770</th>\n",
              "      <th>Total Bags</th>\n",
              "      <th>Small Bags</th>\n",
              "      <th>Large Bags</th>\n",
              "      <th>XLarge Bags</th>\n",
              "      <th>type</th>\n",
              "      <th>year</th>\n",
              "      <th>region</th>\n",
              "    </tr>\n",
              "  </thead>\n",
              "  <tbody>\n",
              "    <tr>\n",
              "      <th>count</th>\n",
              "      <td>18249.000000</td>\n",
              "      <td>1.824900e+04</td>\n",
              "      <td>1.824900e+04</td>\n",
              "      <td>1.824900e+04</td>\n",
              "      <td>1.824900e+04</td>\n",
              "      <td>1.824900e+04</td>\n",
              "      <td>1.824900e+04</td>\n",
              "      <td>1.824900e+04</td>\n",
              "      <td>18249.000000</td>\n",
              "      <td>18249.000000</td>\n",
              "      <td>18249.000000</td>\n",
              "      <td>18249.000000</td>\n",
              "    </tr>\n",
              "    <tr>\n",
              "      <th>mean</th>\n",
              "      <td>1.405978</td>\n",
              "      <td>8.506440e+05</td>\n",
              "      <td>2.930084e+05</td>\n",
              "      <td>2.951546e+05</td>\n",
              "      <td>2.283974e+04</td>\n",
              "      <td>2.396392e+05</td>\n",
              "      <td>1.821947e+05</td>\n",
              "      <td>5.433809e+04</td>\n",
              "      <td>3106.426507</td>\n",
              "      <td>0.499918</td>\n",
              "      <td>2016.147899</td>\n",
              "      <td>26.495644</td>\n",
              "    </tr>\n",
              "    <tr>\n",
              "      <th>std</th>\n",
              "      <td>0.402677</td>\n",
              "      <td>3.453545e+06</td>\n",
              "      <td>1.264989e+06</td>\n",
              "      <td>1.204120e+06</td>\n",
              "      <td>1.074641e+05</td>\n",
              "      <td>9.862424e+05</td>\n",
              "      <td>7.461785e+05</td>\n",
              "      <td>2.439660e+05</td>\n",
              "      <td>17692.894652</td>\n",
              "      <td>0.500014</td>\n",
              "      <td>0.939938</td>\n",
              "      <td>15.583788</td>\n",
              "    </tr>\n",
              "    <tr>\n",
              "      <th>min</th>\n",
              "      <td>0.440000</td>\n",
              "      <td>8.456000e+01</td>\n",
              "      <td>0.000000e+00</td>\n",
              "      <td>0.000000e+00</td>\n",
              "      <td>0.000000e+00</td>\n",
              "      <td>0.000000e+00</td>\n",
              "      <td>0.000000e+00</td>\n",
              "      <td>0.000000e+00</td>\n",
              "      <td>0.000000</td>\n",
              "      <td>0.000000</td>\n",
              "      <td>2015.000000</td>\n",
              "      <td>0.000000</td>\n",
              "    </tr>\n",
              "    <tr>\n",
              "      <th>25%</th>\n",
              "      <td>1.100000</td>\n",
              "      <td>1.083858e+04</td>\n",
              "      <td>8.540700e+02</td>\n",
              "      <td>3.008780e+03</td>\n",
              "      <td>0.000000e+00</td>\n",
              "      <td>5.088640e+03</td>\n",
              "      <td>2.849420e+03</td>\n",
              "      <td>1.274700e+02</td>\n",
              "      <td>0.000000</td>\n",
              "      <td>0.000000</td>\n",
              "      <td>2015.000000</td>\n",
              "      <td>13.000000</td>\n",
              "    </tr>\n",
              "    <tr>\n",
              "      <th>50%</th>\n",
              "      <td>1.370000</td>\n",
              "      <td>1.073768e+05</td>\n",
              "      <td>8.645300e+03</td>\n",
              "      <td>2.906102e+04</td>\n",
              "      <td>1.849900e+02</td>\n",
              "      <td>3.974383e+04</td>\n",
              "      <td>2.636282e+04</td>\n",
              "      <td>2.647710e+03</td>\n",
              "      <td>0.000000</td>\n",
              "      <td>0.000000</td>\n",
              "      <td>2016.000000</td>\n",
              "      <td>26.000000</td>\n",
              "    </tr>\n",
              "    <tr>\n",
              "      <th>75%</th>\n",
              "      <td>1.660000</td>\n",
              "      <td>4.329623e+05</td>\n",
              "      <td>1.110202e+05</td>\n",
              "      <td>1.502069e+05</td>\n",
              "      <td>6.243420e+03</td>\n",
              "      <td>1.107834e+05</td>\n",
              "      <td>8.333767e+04</td>\n",
              "      <td>2.202925e+04</td>\n",
              "      <td>132.500000</td>\n",
              "      <td>1.000000</td>\n",
              "      <td>2017.000000</td>\n",
              "      <td>40.000000</td>\n",
              "    </tr>\n",
              "    <tr>\n",
              "      <th>max</th>\n",
              "      <td>3.250000</td>\n",
              "      <td>6.250565e+07</td>\n",
              "      <td>2.274362e+07</td>\n",
              "      <td>2.047057e+07</td>\n",
              "      <td>2.546439e+06</td>\n",
              "      <td>1.937313e+07</td>\n",
              "      <td>1.338459e+07</td>\n",
              "      <td>5.719097e+06</td>\n",
              "      <td>551693.650000</td>\n",
              "      <td>1.000000</td>\n",
              "      <td>2018.000000</td>\n",
              "      <td>53.000000</td>\n",
              "    </tr>\n",
              "  </tbody>\n",
              "</table>\n",
              "</div>\n",
              "      <button class=\"colab-df-convert\" onclick=\"convertToInteractive('df-680c4274-19e8-413d-8b90-50016114f9b9')\"\n",
              "              title=\"Convert this dataframe to an interactive table.\"\n",
              "              style=\"display:none;\">\n",
              "        \n",
              "  <svg xmlns=\"http://www.w3.org/2000/svg\" height=\"24px\"viewBox=\"0 0 24 24\"\n",
              "       width=\"24px\">\n",
              "    <path d=\"M0 0h24v24H0V0z\" fill=\"none\"/>\n",
              "    <path d=\"M18.56 5.44l.94 2.06.94-2.06 2.06-.94-2.06-.94-.94-2.06-.94 2.06-2.06.94zm-11 1L8.5 8.5l.94-2.06 2.06-.94-2.06-.94L8.5 2.5l-.94 2.06-2.06.94zm10 10l.94 2.06.94-2.06 2.06-.94-2.06-.94-.94-2.06-.94 2.06-2.06.94z\"/><path d=\"M17.41 7.96l-1.37-1.37c-.4-.4-.92-.59-1.43-.59-.52 0-1.04.2-1.43.59L10.3 9.45l-7.72 7.72c-.78.78-.78 2.05 0 2.83L4 21.41c.39.39.9.59 1.41.59.51 0 1.02-.2 1.41-.59l7.78-7.78 2.81-2.81c.8-.78.8-2.07 0-2.86zM5.41 20L4 18.59l7.72-7.72 1.47 1.35L5.41 20z\"/>\n",
              "  </svg>\n",
              "      </button>\n",
              "      \n",
              "  <style>\n",
              "    .colab-df-container {\n",
              "      display:flex;\n",
              "      flex-wrap:wrap;\n",
              "      gap: 12px;\n",
              "    }\n",
              "\n",
              "    .colab-df-convert {\n",
              "      background-color: #E8F0FE;\n",
              "      border: none;\n",
              "      border-radius: 50%;\n",
              "      cursor: pointer;\n",
              "      display: none;\n",
              "      fill: #1967D2;\n",
              "      height: 32px;\n",
              "      padding: 0 0 0 0;\n",
              "      width: 32px;\n",
              "    }\n",
              "\n",
              "    .colab-df-convert:hover {\n",
              "      background-color: #E2EBFA;\n",
              "      box-shadow: 0px 1px 2px rgba(60, 64, 67, 0.3), 0px 1px 3px 1px rgba(60, 64, 67, 0.15);\n",
              "      fill: #174EA6;\n",
              "    }\n",
              "\n",
              "    [theme=dark] .colab-df-convert {\n",
              "      background-color: #3B4455;\n",
              "      fill: #D2E3FC;\n",
              "    }\n",
              "\n",
              "    [theme=dark] .colab-df-convert:hover {\n",
              "      background-color: #434B5C;\n",
              "      box-shadow: 0px 1px 3px 1px rgba(0, 0, 0, 0.15);\n",
              "      filter: drop-shadow(0px 1px 2px rgba(0, 0, 0, 0.3));\n",
              "      fill: #FFFFFF;\n",
              "    }\n",
              "  </style>\n",
              "\n",
              "      <script>\n",
              "        const buttonEl =\n",
              "          document.querySelector('#df-680c4274-19e8-413d-8b90-50016114f9b9 button.colab-df-convert');\n",
              "        buttonEl.style.display =\n",
              "          google.colab.kernel.accessAllowed ? 'block' : 'none';\n",
              "\n",
              "        async function convertToInteractive(key) {\n",
              "          const element = document.querySelector('#df-680c4274-19e8-413d-8b90-50016114f9b9');\n",
              "          const dataTable =\n",
              "            await google.colab.kernel.invokeFunction('convertToInteractive',\n",
              "                                                     [key], {});\n",
              "          if (!dataTable) return;\n",
              "\n",
              "          const docLinkHtml = 'Like what you see? Visit the ' +\n",
              "            '<a target=\"_blank\" href=https://colab.research.google.com/notebooks/data_table.ipynb>data table notebook</a>'\n",
              "            + ' to learn more about interactive tables.';\n",
              "          element.innerHTML = '';\n",
              "          dataTable['output_type'] = 'display_data';\n",
              "          await google.colab.output.renderOutput(dataTable, element);\n",
              "          const docLink = document.createElement('div');\n",
              "          docLink.innerHTML = docLinkHtml;\n",
              "          element.appendChild(docLink);\n",
              "        }\n",
              "      </script>\n",
              "    </div>\n",
              "  </div>\n",
              "  "
            ]
          },
          "metadata": {},
          "execution_count": 33
        }
      ]
    },
    {
      "cell_type": "code",
      "source": [
        "plt.figure(figsize=(15,7))\n",
        "sns.heatmap(round(df.describe()[1:].transpose(),2), annot=True, linewidths=0.5,linecolor=\"black\", fmt='f')"
      ],
      "metadata": {
        "colab": {
          "base_uri": "https://localhost:8080/",
          "height": 456
        },
        "id": "E748q3KXgM5h",
        "outputId": "1c15f41f-0c9a-4e35-fce0-09f26a00d24d"
      },
      "execution_count": null,
      "outputs": [
        {
          "output_type": "execute_result",
          "data": {
            "text/plain": [
              "<matplotlib.axes._subplots.AxesSubplot at 0x7f15a9558ed0>"
            ]
          },
          "metadata": {},
          "execution_count": 34
        },
        {
          "output_type": "display_data",
          "data": {
            "text/plain": [
              "<Figure size 1080x504 with 2 Axes>"
            ],
            "image/png": "[encoded data removed]"
          },
          "metadata": {
            "needs_background": "light"
          }
        }
      ]
    },
    {
      "cell_type": "code",
      "source": [
        "df.info()"
      ],
      "metadata": {
        "colab": {
          "base_uri": "https://localhost:8080/"
        },
        "id": "5hFr_SR6gM-8",
        "outputId": "7f95ba43-7f1a-4c55-f5fa-29c382d773dc"
      },
      "execution_count": null,
      "outputs": [
        {
          "output_type": "stream",
          "name": "stdout",
          "text": [
            "<class 'pandas.core.frame.DataFrame'>\n",
            "RangeIndex: 18249 entries, 0 to 18248\n",
            "Data columns (total 13 columns):\n",
            " #   Column        Non-Null Count  Dtype  \n",
            "---  ------        --------------  -----  \n",
            " 0   Date          18249 non-null  object \n",
            " 1   AveragePrice  18249 non-null  float64\n",
            " 2   Total Volume  18249 non-null  float64\n",
            " 3   4046          18249 non-null  float64\n",
            " 4   4225          18249 non-null  float64\n",
            " 5   4770          18249 non-null  float64\n",
            " 6   Total Bags    18249 non-null  float64\n",
            " 7   Small Bags    18249 non-null  float64\n",
            " 8   Large Bags    18249 non-null  float64\n",
            " 9   XLarge Bags   18249 non-null  float64\n",
            " 10  type          18249 non-null  int64  \n",
            " 11  year          18249 non-null  int64  \n",
            " 12  region        18249 non-null  int64  \n",
            "dtypes: float64(9), int64(3), object(1)\n",
            "memory usage: 1.8+ MB\n"
          ]
        }
      ]
    },
    {
      "cell_type": "markdown",
      "source": [
        "# Checking Data To Remove Skewness"
      ],
      "metadata": {
        "id": "U3Yuq1kYgXDV"
      }
    },
    {
      "cell_type": "code",
      "source": [
        "df.iloc[:,:-1].skew()"
      ],
      "metadata": {
        "colab": {
          "base_uri": "https://localhost:8080/"
        },
        "id": "Fuml4DA9gYHp",
        "outputId": "35fbb20f-bc5e-4c09-d3b8-c6eed0757498"
      },
      "execution_count": 67,
      "outputs": [
        {
          "output_type": "execute_result",
          "data": {
            "text/plain": [
              "Date             0.190211\n",
              "AveragePrice     0.580303\n",
              "Total Volume     9.007687\n",
              "4046             8.648220\n",
              "4225             8.942466\n",
              "4770            10.159396\n",
              "Total Bags       9.756072\n",
              "Small Bags       9.540660\n",
              "Large Bags       9.796455\n",
              "XLarge Bags     13.139751\n",
              "type             0.000329\n",
              "year             0.215339\n",
              "dtype: float64"
            ]
          },
          "metadata": {},
          "execution_count": 67
        }
      ]
    },
    {
      "cell_type": "code",
      "source": [
        "from sklearn.preprocessing import power_transform\n",
        "x_new=power_transform(df.iloc[:,:-1],method='yeo-johnson')\n",
        "\n",
        "df.iloc[:,:-1]=pd.DataFrame(x_new,columns=df.iloc[:,:-1].columns)"
      ],
      "metadata": {
        "id": "6hNYNsdwgrzY"
      },
      "execution_count": 68,
      "outputs": []
    },
    {
      "cell_type": "code",
      "source": [
        "df.iloc[:,:-1].skew()"
      ],
      "metadata": {
        "colab": {
          "base_uri": "https://localhost:8080/"
        },
        "id": "4aiz9tYohrQI",
        "outputId": "d197595b-0001-425f-e635-51b81f92234a"
      },
      "execution_count": 69,
      "outputs": [
        {
          "output_type": "execute_result",
          "data": {
            "text/plain": [
              "Date            0.000000\n",
              "AveragePrice    0.005596\n",
              "Total Volume    0.011171\n",
              "4046           -0.022679\n",
              "4225           -0.017740\n",
              "4770            0.032184\n",
              "Total Bags     -0.001626\n",
              "Small Bags      0.007058\n",
              "Large Bags     -0.073809\n",
              "XLarge Bags     0.793520\n",
              "type            0.000329\n",
              "year            0.213156\n",
              "dtype: float64"
            ]
          },
          "metadata": {},
          "execution_count": 69
        }
      ]
    },
    {
      "cell_type": "markdown",
      "source": [
        "# Outliers Checking"
      ],
      "metadata": {
        "id": "hqEwN_EHkrN5"
      }
    },
    {
      "cell_type": "code",
      "source": [
        "import warnings\n",
        "warnings.filterwarnings('ignore')\n",
        "df.plot(kind='box',subplots=True, layout=(3,5), figsize=[20,8])"
      ],
      "metadata": {
        "colab": {
          "base_uri": "https://localhost:8080/",
          "height": 737
        },
        "id": "eJ_Cm10skmxA",
        "outputId": "1dd28745-5b24-42e1-ebfe-ab55506f485d"
      },
      "execution_count": 70,
      "outputs": [
        {
          "output_type": "execute_result",
          "data": {
            "text/plain": [
              "Date               AxesSubplot(0.125,0.657941;0.133621x0.222059)\n",
              "AveragePrice    AxesSubplot(0.285345,0.657941;0.133621x0.222059)\n",
              "Total Volume     AxesSubplot(0.44569,0.657941;0.133621x0.222059)\n",
              "4046            AxesSubplot(0.606034,0.657941;0.133621x0.222059)\n",
              "4225            AxesSubplot(0.766379,0.657941;0.133621x0.222059)\n",
              "4770               AxesSubplot(0.125,0.391471;0.133621x0.222059)\n",
              "Total Bags      AxesSubplot(0.285345,0.391471;0.133621x0.222059)\n",
              "Small Bags       AxesSubplot(0.44569,0.391471;0.133621x0.222059)\n",
              "Large Bags      AxesSubplot(0.606034,0.391471;0.133621x0.222059)\n",
              "XLarge Bags     AxesSubplot(0.766379,0.391471;0.133621x0.222059)\n",
              "type                  AxesSubplot(0.125,0.125;0.133621x0.222059)\n",
              "year               AxesSubplot(0.285345,0.125;0.133621x0.222059)\n",
              "region              AxesSubplot(0.44569,0.125;0.133621x0.222059)\n",
              "dtype: object"
            ]
          },
          "metadata": {},
          "execution_count": 70
        },
        {
          "output_type": "display_data",
          "data": {
            "text/plain": [
              "<Figure size 1440x576 with 15 Axes>"
            ],
            "image/png": "[encoded data removed]"
          },
          "metadata": {
            "needs_background": "light"
          }
        }
      ]
    },
    {
      "cell_type": "markdown",
      "source": [
        "# IQR Proximity Rule\n",
        "Z - Score Technique"
      ],
      "metadata": {
        "id": "e90voWgkk2Q6"
      }
    },
    {
      "cell_type": "code",
      "source": [
        "from scipy.stats import zscore\n",
        "import numpy as np\n",
        "z=np.abs(zscore(df))\n",
        "z.shape"
      ],
      "metadata": {
        "colab": {
          "base_uri": "https://localhost:8080/"
        },
        "id": "wAFeSCEmkvUZ",
        "outputId": "3e3ccf49-b737-4216-c292-260629f2c90c"
      },
      "execution_count": 71,
      "outputs": [
        {
          "output_type": "execute_result",
          "data": {
            "text/plain": [
              "(18249, 13)"
            ]
          },
          "metadata": {},
          "execution_count": 71
        }
      ]
    },
    {
      "cell_type": "code",
      "source": [
        "threshold=3\n",
        "print(np.where(z>3))"
      ],
      "metadata": {
        "colab": {
          "base_uri": "https://localhost:8080/"
        },
        "id": "Uy7XQwZ2k5yg",
        "outputId": "8a4326d7-50ca-488b-8fe6-c166262d661d"
      },
      "execution_count": 72,
      "outputs": [
        {
          "output_type": "stream",
          "name": "stdout",
          "text": [
            "(array([ 1716,  2699,  5462,  5475,  5476,  5477,  5478,  5479,  5480,\n",
            "        5481,  5482,  5483,  5484,  5485,  5486,  5487,  5488,  5489,\n",
            "        5490,  5491,  5492,  5493,  5494,  5495,  5496,  5497,  5506,\n",
            "        5506,  7412,  8319,  8322,  8344,  8344,  8345,  8345,  8346,\n",
            "        8346,  8347,  8347,  8348,  8348,  8349,  8349,  8350,  8351,\n",
            "        8352,  8352,  8353,  8353,  8354,  8354,  8355,  8356,  8357,\n",
            "        8358,  8359,  8360,  8361,  8362,  8363,  8364,  8365,  8365,\n",
            "        8366,  8366,  8366,  8367,  8367,  8368,  8369,  8370,  8371,\n",
            "        9090,  9090,  9091,  9091,  9092,  9092,  9093,  9093,  9094,\n",
            "        9094,  9095,  9096,  9096,  9097,  9097,  9097,  9097,  9098,\n",
            "        9098,  9099,  9099,  9100,  9101,  9212,  9894, 10381, 11024,\n",
            "       11320, 11321, 11322, 11325, 11326, 11332, 11333, 11336, 11338,\n",
            "       11340, 11342, 11347, 11348, 11349, 11350, 11354, 11387, 11388,\n",
            "       11594, 11595, 11596, 11597, 11614, 11662, 12132, 14124, 14125,\n",
            "       14404, 15261, 15262, 15473, 16055, 16720, 17428]), array([1, 4, 7, 7, 7, 7, 7, 7, 7, 7, 7, 7, 7, 7, 7, 7, 7, 7, 7, 7, 7, 7,\n",
            "       7, 7, 7, 7, 4, 7, 1, 7, 7, 6, 7, 6, 7, 6, 7, 6, 7, 6, 7, 6, 7, 7,\n",
            "       7, 6, 7, 6, 7, 6, 7, 7, 7, 7, 7, 7, 7, 7, 7, 7, 7, 6, 7, 4, 6, 7,\n",
            "       6, 7, 7, 7, 7, 7, 6, 7, 6, 7, 6, 7, 6, 7, 6, 7, 7, 6, 7, 4, 6, 7,\n",
            "       8, 6, 7, 6, 7, 7, 7, 6, 6, 2, 6, 6, 6, 6, 6, 6, 6, 6, 6, 6, 6, 6,\n",
            "       6, 6, 6, 6, 6, 6, 6, 6, 6, 6, 6, 6, 6, 6, 1, 1, 6, 1, 1, 1, 1, 1,\n",
            "       1]))\n"
          ]
        }
      ]
    },
    {
      "cell_type": "code",
      "source": [
        "len(np.where(z>3)[0])"
      ],
      "metadata": {
        "colab": {
          "base_uri": "https://localhost:8080/"
        },
        "id": "t_UWcTnzk_5p",
        "outputId": "8c01da74-72f9-4044-996d-64d6349b377e"
      },
      "execution_count": 73,
      "outputs": [
        {
          "output_type": "execute_result",
          "data": {
            "text/plain": [
              "133"
            ]
          },
          "metadata": {},
          "execution_count": 73
        }
      ]
    },
    {
      "cell_type": "code",
      "source": [
        "df.drop([ 1716,  2699,  5462,  5475,  5476,  5477,  5478,  5479,  5480,\n",
        "        5481,  5482,  5483,  5484,  5485,  5486,  5487,  5488,  5489,\n",
        "        5490,  5491,  5492,  5493,  5494,  5495,  5496,  5497,  5506,\n",
        "        5506,  7412,  8319,  8322,  8344,  8344,  8345,  8345,  8346,\n",
        "        8346,  8347,  8347,  8348,  8348,  8349,  8349,  8350,  8351,\n",
        "        8352,  8352,  8353,  8353,  8354,  8354,  8355,  8356,  8357,\n",
        "        8358,  8359,  8360,  8361,  8362,  8363,  8364,  8365,  8365,\n",
        "        8366,  8366,  8366,  8367,  8367,  8368,  8369,  8370,  8371,\n",
        "        9090,  9090,  9091,  9091,  9092,  9092,  9093,  9093,  9094,\n",
        "        9094,  9095,  9096,  9096,  9097,  9097,  9097,  9097,  9098,\n",
        "        9098,  9099,  9099,  9100,  9101,  9212,  9894, 10381, 11024,\n",
        "       11320, 11321, 11322, 11325, 11326, 11332, 11333, 11336, 11338,\n",
        "       11340, 11342, 11347, 11348, 11349, 11350, 11354, 11387, 11388,\n",
        "       11594, 11595, 11596, 11597, 11614, 11662, 12132, 14124, 14125,\n",
        "       14404, 15261, 15262, 15473, 16055, 16720, 17428],axis=0)"
      ],
      "metadata": {
        "colab": {
          "base_uri": "https://localhost:8080/",
          "height": 423
        },
        "id": "QWthpOfklDpC",
        "outputId": "a12fab31-06af-4c83-e71b-b9dc8c296aaa"
      },
      "execution_count": 74,
      "outputs": [
        {
          "output_type": "execute_result",
          "data": {
            "text/plain": [
              "               Date  AveragePrice  Total Volume      4046      4225      4770  \\\n",
              "0     -2.674527e-13     -0.086248     -0.086605 -0.658619  0.307313 -0.247250   \n",
              "1     -2.674527e-13     -0.034022     -0.155746 -0.776870  0.231647 -0.201041   \n",
              "2     -2.676748e-13     -1.273938      0.179327 -0.731947  0.579503 -0.007072   \n",
              "3     -2.677858e-13     -0.793421      0.003876 -0.634200  0.415100 -0.148322   \n",
              "4     -2.697842e-13     -0.219440     -0.187640 -0.685293  0.224806 -0.137918   \n",
              "...             ...           ...           ...       ...       ...       ...   \n",
              "18244  4.438672e-13      0.640729     -0.674587 -0.467366 -0.919470 -1.238310   \n",
              "18245  4.419798e-13      0.816307     -0.767550 -0.619883 -0.665372 -1.238310   \n",
              "18246  4.418688e-13      1.147790     -0.771505 -0.619831 -0.772496  0.401546   \n",
              "18247  4.416467e-13      1.265876     -0.698077 -0.550282 -0.710543  0.401246   \n",
              "18248  4.414247e-13      0.618287     -0.663809 -0.367908 -0.785173  0.122919   \n",
              "\n",
              "       Total Bags  Small Bags  Large Bags  XLarge Bags      type      year  \\\n",
              "0       -0.524004   -0.340627   -0.773351    -0.699849 -0.999836 -1.221895   \n",
              "1       -0.485890   -0.306425   -0.763435    -0.699849 -0.999836 -1.221895   \n",
              "2       -0.552018   -0.366303   -0.750820    -0.699849 -0.999836 -1.221895   \n",
              "3       -0.695449   -0.496853   -0.691865    -0.699849 -0.999836 -1.221895   \n",
              "4       -0.669157   -0.477201   -0.600975    -0.699849 -0.999836 -1.221895   \n",
              "...           ...         ...         ...          ...       ...       ...   \n",
              "18244   -0.334466   -0.178839   -0.410859    -0.699849  1.000164  1.968548   \n",
              "18245   -0.496897   -0.325977   -0.481465    -0.699849  1.000164  1.968548   \n",
              "18246   -0.490952   -0.308728   -0.943486    -0.699849  1.000164  1.968548   \n",
              "18247   -0.424252   -0.248932   -0.908510    -0.699849  1.000164  1.968548   \n",
              "18248   -0.384961   -0.212590   -1.042250    -0.699849  1.000164  1.968548   \n",
              "\n",
              "       region  \n",
              "0           0  \n",
              "1           0  \n",
              "2           0  \n",
              "3           0  \n",
              "4           0  \n",
              "...       ...  \n",
              "18244      53  \n",
              "18245      53  \n",
              "18246      53  \n",
              "18247      53  \n",
              "18248      53  \n",
              "\n",
              "[18141 rows x 13 columns]"
            ],
            "text/html": [
              "\n",
              "  <div id=\"df-f9b2eb4f-74a8-4409-b0d4-ee0d6aa25b29\">\n",
              "    <div class=\"colab-df-container\">\n",
              "      <div>\n",
              "<style scoped>\n",
              "    .dataframe tbody tr th:only-of-type {\n",
              "        vertical-align: middle;\n",
              "    }\n",
              "\n",
              "    .dataframe tbody tr th {\n",
              "        vertical-align: top;\n",
              "    }\n",
              "\n",
              "    .dataframe thead th {\n",
              "        text-align: right;\n",
              "    }\n",
              "</style>\n",
              "<table border=\"1\" class=\"dataframe\">\n",
              "  <thead>\n",
              "    <tr style=\"text-align: right;\">\n",
              "      <th></th>\n",
              "      <th>Date</th>\n",
              "      <th>AveragePrice</th>\n",
              "      <th>Total Volume</th>\n",
              "      <th>4046</th>\n",
              "      <th>4225</th>\n",
              "      <th>4770</th>\n",
              "      <th>Total Bags</th>\n",
              "      <th>Small Bags</th>\n",
              "      <th>Large Bags</th>\n",
              "      <th>XLarge Bags</th>\n",
              "      <th>type</th>\n",
              "      <th>year</th>\n",
              "      <th>region</th>\n",
              "    </tr>\n",
              "  </thead>\n",
              "  <tbody>\n",
              "    <tr>\n",
              "      <th>0</th>\n",
              "      <td>-2.674527e-13</td>\n",
              "      <td>-0.086248</td>\n",
              "      <td>-0.086605</td>\n",
              "      <td>-0.658619</td>\n",
              "      <td>0.307313</td>\n",
              "      <td>-0.247250</td>\n",
              "      <td>-0.524004</td>\n",
              "      <td>-0.340627</td>\n",
              "      <td>-0.773351</td>\n",
              "      <td>-0.699849</td>\n",
              "      <td>-0.999836</td>\n",
              "      <td>-1.221895</td>\n",
              "      <td>0</td>\n",
              "    </tr>\n",
              "    <tr>\n",
              "      <th>1</th>\n",
              "      <td>-2.674527e-13</td>\n",
              "      <td>-0.034022</td>\n",
              "      <td>-0.155746</td>\n",
              "      <td>-0.776870</td>\n",
              "      <td>0.231647</td>\n",
              "      <td>-0.201041</td>\n",
              "      <td>-0.485890</td>\n",
              "      <td>-0.306425</td>\n",
              "      <td>-0.763435</td>\n",
              "      <td>-0.699849</td>\n",
              "      <td>-0.999836</td>\n",
              "      <td>-1.221895</td>\n",
              "      <td>0</td>\n",
              "    </tr>\n",
              "    <tr>\n",
              "      <th>2</th>\n",
              "      <td>-2.676748e-13</td>\n",
              "      <td>-1.273938</td>\n",
              "      <td>0.179327</td>\n",
              "      <td>-0.731947</td>\n",
              "      <td>0.579503</td>\n",
              "      <td>-0.007072</td>\n",
              "      <td>-0.552018</td>\n",
              "      <td>-0.366303</td>\n",
              "      <td>-0.750820</td>\n",
              "      <td>-0.699849</td>\n",
              "      <td>-0.999836</td>\n",
              "      <td>-1.221895</td>\n",
              "      <td>0</td>\n",
              "    </tr>\n",
              "    <tr>\n",
              "      <th>3</th>\n",
              "      <td>-2.677858e-13</td>\n",
              "      <td>-0.793421</td>\n",
              "      <td>0.003876</td>\n",
              "      <td>-0.634200</td>\n",
              "      <td>0.415100</td>\n",
              "      <td>-0.148322</td>\n",
              "      <td>-0.695449</td>\n",
              "      <td>-0.496853</td>\n",
              "      <td>-0.691865</td>\n",
              "      <td>-0.699849</td>\n",
              "      <td>-0.999836</td>\n",
              "      <td>-1.221895</td>\n",
              "      <td>0</td>\n",
              "    </tr>\n",
              "    <tr>\n",
              "      <th>4</th>\n",
              "      <td>-2.697842e-13</td>\n",
              "      <td>-0.219440</td>\n",
              "      <td>-0.187640</td>\n",
              "      <td>-0.685293</td>\n",
              "      <td>0.224806</td>\n",
              "      <td>-0.137918</td>\n",
              "      <td>-0.669157</td>\n",
              "      <td>-0.477201</td>\n",
              "      <td>-0.600975</td>\n",
              "      <td>-0.699849</td>\n",
              "      <td>-0.999836</td>\n",
              "      <td>-1.221895</td>\n",
              "      <td>0</td>\n",
              "    </tr>\n",
              "    <tr>\n",
              "      <th>...</th>\n",
              "      <td>...</td>\n",
              "      <td>...</td>\n",
              "      <td>...</td>\n",
              "      <td>...</td>\n",
              "      <td>...</td>\n",
              "      <td>...</td>\n",
              "      <td>...</td>\n",
              "      <td>...</td>\n",
              "      <td>...</td>\n",
              "      <td>...</td>\n",
              "      <td>...</td>\n",
              "      <td>...</td>\n",
              "      <td>...</td>\n",
              "    </tr>\n",
              "    <tr>\n",
              "      <th>18244</th>\n",
              "      <td>4.438672e-13</td>\n",
              "      <td>0.640729</td>\n",
              "      <td>-0.674587</td>\n",
              "      <td>-0.467366</td>\n",
              "      <td>-0.919470</td>\n",
              "      <td>-1.238310</td>\n",
              "      <td>-0.334466</td>\n",
              "      <td>-0.178839</td>\n",
              "      <td>-0.410859</td>\n",
              "      <td>-0.699849</td>\n",
              "      <td>1.000164</td>\n",
              "      <td>1.968548</td>\n",
              "      <td>53</td>\n",
              "    </tr>\n",
              "    <tr>\n",
              "      <th>18245</th>\n",
              "      <td>4.419798e-13</td>\n",
              "      <td>0.816307</td>\n",
              "      <td>-0.767550</td>\n",
              "      <td>-0.619883</td>\n",
              "      <td>-0.665372</td>\n",
              "      <td>-1.238310</td>\n",
              "      <td>-0.496897</td>\n",
              "      <td>-0.325977</td>\n",
              "      <td>-0.481465</td>\n",
              "      <td>-0.699849</td>\n",
              "      <td>1.000164</td>\n",
              "      <td>1.968548</td>\n",
              "      <td>53</td>\n",
              "    </tr>\n",
              "    <tr>\n",
              "      <th>18246</th>\n",
              "      <td>4.418688e-13</td>\n",
              "      <td>1.147790</td>\n",
              "      <td>-0.771505</td>\n",
              "      <td>-0.619831</td>\n",
              "      <td>-0.772496</td>\n",
              "      <td>0.401546</td>\n",
              "      <td>-0.490952</td>\n",
              "      <td>-0.308728</td>\n",
              "      <td>-0.943486</td>\n",
              "      <td>-0.699849</td>\n",
              "      <td>1.000164</td>\n",
              "      <td>1.968548</td>\n",
              "      <td>53</td>\n",
              "    </tr>\n",
              "    <tr>\n",
              "      <th>18247</th>\n",
              "      <td>4.416467e-13</td>\n",
              "      <td>1.265876</td>\n",
              "      <td>-0.698077</td>\n",
              "      <td>-0.550282</td>\n",
              "      <td>-0.710543</td>\n",
              "      <td>0.401246</td>\n",
              "      <td>-0.424252</td>\n",
              "      <td>-0.248932</td>\n",
              "      <td>-0.908510</td>\n",
              "      <td>-0.699849</td>\n",
              "      <td>1.000164</td>\n",
              "      <td>1.968548</td>\n",
              "      <td>53</td>\n",
              "    </tr>\n",
              "    <tr>\n",
              "      <th>18248</th>\n",
              "      <td>4.414247e-13</td>\n",
              "      <td>0.618287</td>\n",
              "      <td>-0.663809</td>\n",
              "      <td>-0.367908</td>\n",
              "      <td>-0.785173</td>\n",
              "      <td>0.122919</td>\n",
              "      <td>-0.384961</td>\n",
              "      <td>-0.212590</td>\n",
              "      <td>-1.042250</td>\n",
              "      <td>-0.699849</td>\n",
              "      <td>1.000164</td>\n",
              "      <td>1.968548</td>\n",
              "      <td>53</td>\n",
              "    </tr>\n",
              "  </tbody>\n",
              "</table>\n",
              "<p>18141 rows × 13 columns</p>\n",
              "</div>\n",
              "      <button class=\"colab-df-convert\" onclick=\"convertToInteractive('df-f9b2eb4f-74a8-4409-b0d4-ee0d6aa25b29')\"\n",
              "              title=\"Convert this dataframe to an interactive table.\"\n",
              "              style=\"display:none;\">\n",
              "        \n",
              "  <svg xmlns=\"http://www.w3.org/2000/svg\" height=\"24px\"viewBox=\"0 0 24 24\"\n",
              "       width=\"24px\">\n",
              "    <path d=\"M0 0h24v24H0V0z\" fill=\"none\"/>\n",
              "    <path d=\"M18.56 5.44l.94 2.06.94-2.06 2.06-.94-2.06-.94-.94-2.06-.94 2.06-2.06.94zm-11 1L8.5 8.5l.94-2.06 2.06-.94-2.06-.94L8.5 2.5l-.94 2.06-2.06.94zm10 10l.94 2.06.94-2.06 2.06-.94-2.06-.94-.94-2.06-.94 2.06-2.06.94z\"/><path d=\"M17.41 7.96l-1.37-1.37c-.4-.4-.92-.59-1.43-.59-.52 0-1.04.2-1.43.59L10.3 9.45l-7.72 7.72c-.78.78-.78 2.05 0 2.83L4 21.41c.39.39.9.59 1.41.59.51 0 1.02-.2 1.41-.59l7.78-7.78 2.81-2.81c.8-.78.8-2.07 0-2.86zM5.41 20L4 18.59l7.72-7.72 1.47 1.35L5.41 20z\"/>\n",
              "  </svg>\n",
              "      </button>\n",
              "      \n",
              "  <style>\n",
              "    .colab-df-container {\n",
              "      display:flex;\n",
              "      flex-wrap:wrap;\n",
              "      gap: 12px;\n",
              "    }\n",
              "\n",
              "    .colab-df-convert {\n",
              "      background-color: #E8F0FE;\n",
              "      border: none;\n",
              "      border-radius: 50%;\n",
              "      cursor: pointer;\n",
              "      display: none;\n",
              "      fill: #1967D2;\n",
              "      height: 32px;\n",
              "      padding: 0 0 0 0;\n",
              "      width: 32px;\n",
              "    }\n",
              "\n",
              "    .colab-df-convert:hover {\n",
              "      background-color: #E2EBFA;\n",
              "      box-shadow: 0px 1px 2px rgba(60, 64, 67, 0.3), 0px 1px 3px 1px rgba(60, 64, 67, 0.15);\n",
              "      fill: #174EA6;\n",
              "    }\n",
              "\n",
              "    [theme=dark] .colab-df-convert {\n",
              "      background-color: #3B4455;\n",
              "      fill: #D2E3FC;\n",
              "    }\n",
              "\n",
              "    [theme=dark] .colab-df-convert:hover {\n",
              "      background-color: #434B5C;\n",
              "      box-shadow: 0px 1px 3px 1px rgba(0, 0, 0, 0.15);\n",
              "      filter: drop-shadow(0px 1px 2px rgba(0, 0, 0, 0.3));\n",
              "      fill: #FFFFFF;\n",
              "    }\n",
              "  </style>\n",
              "\n",
              "      <script>\n",
              "        const buttonEl =\n",
              "          document.querySelector('#df-f9b2eb4f-74a8-4409-b0d4-ee0d6aa25b29 button.colab-df-convert');\n",
              "        buttonEl.style.display =\n",
              "          google.colab.kernel.accessAllowed ? 'block' : 'none';\n",
              "\n",
              "        async function convertToInteractive(key) {\n",
              "          const element = document.querySelector('#df-f9b2eb4f-74a8-4409-b0d4-ee0d6aa25b29');\n",
              "          const dataTable =\n",
              "            await google.colab.kernel.invokeFunction('convertToInteractive',\n",
              "                                                     [key], {});\n",
              "          if (!dataTable) return;\n",
              "\n",
              "          const docLinkHtml = 'Like what you see? Visit the ' +\n",
              "            '<a target=\"_blank\" href=https://colab.research.google.com/notebooks/data_table.ipynb>data table notebook</a>'\n",
              "            + ' to learn more about interactive tables.';\n",
              "          element.innerHTML = '';\n",
              "          dataTable['output_type'] = 'display_data';\n",
              "          await google.colab.output.renderOutput(dataTable, element);\n",
              "          const docLink = document.createElement('div');\n",
              "          docLink.innerHTML = docLinkHtml;\n",
              "          element.appendChild(docLink);\n",
              "        }\n",
              "      </script>\n",
              "    </div>\n",
              "  </div>\n",
              "  "
            ]
          },
          "metadata": {},
          "execution_count": 74
        }
      ]
    },
    {
      "cell_type": "code",
      "source": [
        "df=df[(z<3).all(axis=1)]"
      ],
      "metadata": {
        "id": "luLbvbRMlaF0"
      },
      "execution_count": 75,
      "outputs": []
    },
    {
      "cell_type": "code",
      "source": [
        "df.shape"
      ],
      "metadata": {
        "colab": {
          "base_uri": "https://localhost:8080/"
        },
        "id": "qW6_fnB6le7Z",
        "outputId": "ab28064d-13bf-49ea-c8b1-0e71c38597fa"
      },
      "execution_count": 76,
      "outputs": [
        {
          "output_type": "execute_result",
          "data": {
            "text/plain": [
              "(18141, 13)"
            ]
          },
          "metadata": {},
          "execution_count": 76
        }
      ]
    },
    {
      "cell_type": "markdown",
      "source": [
        "# Feature Engineering ( Variantion Inflation Factor )"
      ],
      "metadata": {
        "id": "pYRtLXtGlmET"
      }
    },
    {
      "cell_type": "code",
      "source": [
        "from statsmodels.stats.outliers_influence import variance_inflation_factor"
      ],
      "metadata": {
        "id": "yCkdmYXWliex",
        "colab": {
          "base_uri": "https://localhost:8080/"
        },
        "outputId": "efff399c-eab3-4b09-b0b2-be093d62bb05"
      },
      "execution_count": 15,
      "outputs": [
        {
          "output_type": "stream",
          "name": "stderr",
          "text": [
            "/usr/local/lib/python3.7/dist-packages/statsmodels/tools/_testing.py:19: FutureWarning: pandas.util.testing is deprecated. Use the functions in the public API at pandas.testing instead.\n",
            "  import pandas.util.testing as tm\n"
          ]
        }
      ]
    },
    {
      "cell_type": "code",
      "source": [
        "df.corr()"
      ],
      "metadata": {
        "colab": {
          "base_uri": "https://localhost:8080/",
          "height": 488
        },
        "id": "QXrDUPg3lpJ5",
        "outputId": "bbeebfb5-69b7-45fa-83a7-3a70417fb354"
      },
      "execution_count": 16,
      "outputs": [
        {
          "output_type": "execute_result",
          "data": {
            "text/plain": [
              "              Unnamed: 0      Date  AveragePrice  Total Volume      4046  \\\n",
              "Unnamed: 0      1.000000 -0.215331     -0.118143      0.002336  0.019645   \n",
              "Date           -0.215331  1.000000      0.103825      0.081328  0.004060   \n",
              "AveragePrice   -0.118143  0.103825      1.000000     -0.594727 -0.572575   \n",
              "Total Volume    0.002336  0.081328     -0.594727      1.000000  0.895029   \n",
              "4046            0.019645  0.004060     -0.572575      0.895029  1.000000   \n",
              "4225            0.026499  0.001168     -0.470800      0.925835  0.780308   \n",
              "4770            0.033758 -0.046969     -0.516640      0.828491  0.752171   \n",
              "Total Bags     -0.039288  0.209464     -0.578828      0.944776  0.812618   \n",
              "Small Bags     -0.045273  0.185135     -0.505593      0.906207  0.789150   \n",
              "Large Bags     -0.029020  0.185903     -0.494992      0.698497  0.623971   \n",
              "XLarge Bags    -0.054395  0.162338     -0.410881      0.650032  0.598238   \n",
              "type           -0.000277  0.004058      0.621358     -0.799894 -0.727432   \n",
              "year           -0.185504  0.999306      0.097058      0.081997  0.005169   \n",
              "region         -0.001337 -0.002009     -0.019186      0.098126  0.186345   \n",
              "\n",
              "                  4225      4770  Total Bags  Small Bags  Large Bags  \\\n",
              "Unnamed: 0    0.026499  0.033758   -0.039288   -0.045273   -0.029020   \n",
              "Date          0.001168 -0.046969    0.209464    0.185135    0.185903   \n",
              "AveragePrice -0.470800 -0.516640   -0.578828   -0.505593   -0.494992   \n",
              "Total Volume  0.925835  0.828491    0.944776    0.906207    0.698497   \n",
              "4046          0.780308  0.752171    0.812618    0.789150    0.623971   \n",
              "4225          1.000000  0.807398    0.827809    0.789623    0.641157   \n",
              "4770          0.807398  1.000000    0.776598    0.766417    0.573531   \n",
              "Total Bags    0.827809  0.776598    1.000000    0.948344    0.742086   \n",
              "Small Bags    0.789623  0.766417    0.948344    1.000000    0.585215   \n",
              "Large Bags    0.641157  0.573531    0.742086    0.585215    1.000000   \n",
              "XLarge Bags   0.607236  0.638595    0.636068    0.623620    0.483524   \n",
              "type         -0.746177 -0.784117   -0.728460   -0.719945   -0.511120   \n",
              "year          0.002226 -0.045858    0.208983    0.184632    0.185563   \n",
              "region        0.064711  0.065492    0.104244    0.087968    0.124964   \n",
              "\n",
              "              XLarge Bags      type      year    region  \n",
              "Unnamed: 0      -0.054395 -0.000277 -0.185504 -0.001337  \n",
              "Date             0.162338  0.004058  0.999306 -0.002009  \n",
              "AveragePrice    -0.410881  0.621358  0.097058 -0.019186  \n",
              "Total Volume     0.650032 -0.799894  0.081997  0.098126  \n",
              "4046             0.598238 -0.727432  0.005169  0.186345  \n",
              "4225             0.607236 -0.746177  0.002226  0.064711  \n",
              "4770             0.638595 -0.784117 -0.045858  0.065492  \n",
              "Total Bags       0.636068 -0.728460  0.208983  0.104244  \n",
              "Small Bags       0.623620 -0.719945  0.184632  0.087968  \n",
              "Large Bags       0.483524 -0.511120  0.185563  0.124964  \n",
              "XLarge Bags      1.000000 -0.672129  0.160906  0.008648  \n",
              "type            -0.672129  1.000000  0.004092  0.003921  \n",
              "year             0.160906  0.004092  1.000000 -0.002070  \n",
              "region           0.008648  0.003921 -0.002070  1.000000  "
            ],
            "text/html": [
              "\n",
              "  <div id=\"df-d1fdf094-ad20-4f8e-95c5-6b8df4c70f0c\">\n",
              "    <div class=\"colab-df-container\">\n",
              "      <div>\n",
              "<style scoped>\n",
              "    .dataframe tbody tr th:only-of-type {\n",
              "        vertical-align: middle;\n",
              "    }\n",
              "\n",
              "    .dataframe tbody tr th {\n",
              "        vertical-align: top;\n",
              "    }\n",
              "\n",
              "    .dataframe thead th {\n",
              "        text-align: right;\n",
              "    }\n",
              "</style>\n",
              "<table border=\"1\" class=\"dataframe\">\n",
              "  <thead>\n",
              "    <tr style=\"text-align: right;\">\n",
              "      <th></th>\n",
              "      <th>Unnamed: 0</th>\n",
              "      <th>Date</th>\n",
              "      <th>AveragePrice</th>\n",
              "      <th>Total Volume</th>\n",
              "      <th>4046</th>\n",
              "      <th>4225</th>\n",
              "      <th>4770</th>\n",
              "      <th>Total Bags</th>\n",
              "      <th>Small Bags</th>\n",
              "      <th>Large Bags</th>\n",
              "      <th>XLarge Bags</th>\n",
              "      <th>type</th>\n",
              "      <th>year</th>\n",
              "      <th>region</th>\n",
              "    </tr>\n",
              "  </thead>\n",
              "  <tbody>\n",
              "    <tr>\n",
              "      <th>Unnamed: 0</th>\n",
              "      <td>1.000000</td>\n",
              "      <td>-0.215331</td>\n",
              "      <td>-0.118143</td>\n",
              "      <td>0.002336</td>\n",
              "      <td>0.019645</td>\n",
              "      <td>0.026499</td>\n",
              "      <td>0.033758</td>\n",
              "      <td>-0.039288</td>\n",
              "      <td>-0.045273</td>\n",
              "      <td>-0.029020</td>\n",
              "      <td>-0.054395</td>\n",
              "      <td>-0.000277</td>\n",
              "      <td>-0.185504</td>\n",
              "      <td>-0.001337</td>\n",
              "    </tr>\n",
              "    <tr>\n",
              "      <th>Date</th>\n",
              "      <td>-0.215331</td>\n",
              "      <td>1.000000</td>\n",
              "      <td>0.103825</td>\n",
              "      <td>0.081328</td>\n",
              "      <td>0.004060</td>\n",
              "      <td>0.001168</td>\n",
              "      <td>-0.046969</td>\n",
              "      <td>0.209464</td>\n",
              "      <td>0.185135</td>\n",
              "      <td>0.185903</td>\n",
              "      <td>0.162338</td>\n",
              "      <td>0.004058</td>\n",
              "      <td>0.999306</td>\n",
              "      <td>-0.002009</td>\n",
              "    </tr>\n",
              "    <tr>\n",
              "      <th>AveragePrice</th>\n",
              "      <td>-0.118143</td>\n",
              "      <td>0.103825</td>\n",
              "      <td>1.000000</td>\n",
              "      <td>-0.594727</td>\n",
              "      <td>-0.572575</td>\n",
              "      <td>-0.470800</td>\n",
              "      <td>-0.516640</td>\n",
              "      <td>-0.578828</td>\n",
              "      <td>-0.505593</td>\n",
              "      <td>-0.494992</td>\n",
              "      <td>-0.410881</td>\n",
              "      <td>0.621358</td>\n",
              "      <td>0.097058</td>\n",
              "      <td>-0.019186</td>\n",
              "    </tr>\n",
              "    <tr>\n",
              "      <th>Total Volume</th>\n",
              "      <td>0.002336</td>\n",
              "      <td>0.081328</td>\n",
              "      <td>-0.594727</td>\n",
              "      <td>1.000000</td>\n",
              "      <td>0.895029</td>\n",
              "      <td>0.925835</td>\n",
              "      <td>0.828491</td>\n",
              "      <td>0.944776</td>\n",
              "      <td>0.906207</td>\n",
              "      <td>0.698497</td>\n",
              "      <td>0.650032</td>\n",
              "      <td>-0.799894</td>\n",
              "      <td>0.081997</td>\n",
              "      <td>0.098126</td>\n",
              "    </tr>\n",
              "    <tr>\n",
              "      <th>4046</th>\n",
              "      <td>0.019645</td>\n",
              "      <td>0.004060</td>\n",
              "      <td>-0.572575</td>\n",
              "      <td>0.895029</td>\n",
              "      <td>1.000000</td>\n",
              "      <td>0.780308</td>\n",
              "      <td>0.752171</td>\n",
              "      <td>0.812618</td>\n",
              "      <td>0.789150</td>\n",
              "      <td>0.623971</td>\n",
              "      <td>0.598238</td>\n",
              "      <td>-0.727432</td>\n",
              "      <td>0.005169</td>\n",
              "      <td>0.186345</td>\n",
              "    </tr>\n",
              "    <tr>\n",
              "      <th>4225</th>\n",
              "      <td>0.026499</td>\n",
              "      <td>0.001168</td>\n",
              "      <td>-0.470800</td>\n",
              "      <td>0.925835</td>\n",
              "      <td>0.780308</td>\n",
              "      <td>1.000000</td>\n",
              "      <td>0.807398</td>\n",
              "      <td>0.827809</td>\n",
              "      <td>0.789623</td>\n",
              "      <td>0.641157</td>\n",
              "      <td>0.607236</td>\n",
              "      <td>-0.746177</td>\n",
              "      <td>0.002226</td>\n",
              "      <td>0.064711</td>\n",
              "    </tr>\n",
              "    <tr>\n",
              "      <th>4770</th>\n",
              "      <td>0.033758</td>\n",
              "      <td>-0.046969</td>\n",
              "      <td>-0.516640</td>\n",
              "      <td>0.828491</td>\n",
              "      <td>0.752171</td>\n",
              "      <td>0.807398</td>\n",
              "      <td>1.000000</td>\n",
              "      <td>0.776598</td>\n",
              "      <td>0.766417</td>\n",
              "      <td>0.573531</td>\n",
              "      <td>0.638595</td>\n",
              "      <td>-0.784117</td>\n",
              "      <td>-0.045858</td>\n",
              "      <td>0.065492</td>\n",
              "    </tr>\n",
              "    <tr>\n",
              "      <th>Total Bags</th>\n",
              "      <td>-0.039288</td>\n",
              "      <td>0.209464</td>\n",
              "      <td>-0.578828</td>\n",
              "      <td>0.944776</td>\n",
              "      <td>0.812618</td>\n",
              "      <td>0.827809</td>\n",
              "      <td>0.776598</td>\n",
              "      <td>1.000000</td>\n",
              "      <td>0.948344</td>\n",
              "      <td>0.742086</td>\n",
              "      <td>0.636068</td>\n",
              "      <td>-0.728460</td>\n",
              "      <td>0.208983</td>\n",
              "      <td>0.104244</td>\n",
              "    </tr>\n",
              "    <tr>\n",
              "      <th>Small Bags</th>\n",
              "      <td>-0.045273</td>\n",
              "      <td>0.185135</td>\n",
              "      <td>-0.505593</td>\n",
              "      <td>0.906207</td>\n",
              "      <td>0.789150</td>\n",
              "      <td>0.789623</td>\n",
              "      <td>0.766417</td>\n",
              "      <td>0.948344</td>\n",
              "      <td>1.000000</td>\n",
              "      <td>0.585215</td>\n",
              "      <td>0.623620</td>\n",
              "      <td>-0.719945</td>\n",
              "      <td>0.184632</td>\n",
              "      <td>0.087968</td>\n",
              "    </tr>\n",
              "    <tr>\n",
              "      <th>Large Bags</th>\n",
              "      <td>-0.029020</td>\n",
              "      <td>0.185903</td>\n",
              "      <td>-0.494992</td>\n",
              "      <td>0.698497</td>\n",
              "      <td>0.623971</td>\n",
              "      <td>0.641157</td>\n",
              "      <td>0.573531</td>\n",
              "      <td>0.742086</td>\n",
              "      <td>0.585215</td>\n",
              "      <td>1.000000</td>\n",
              "      <td>0.483524</td>\n",
              "      <td>-0.511120</td>\n",
              "      <td>0.185563</td>\n",
              "      <td>0.124964</td>\n",
              "    </tr>\n",
              "    <tr>\n",
              "      <th>XLarge Bags</th>\n",
              "      <td>-0.054395</td>\n",
              "      <td>0.162338</td>\n",
              "      <td>-0.410881</td>\n",
              "      <td>0.650032</td>\n",
              "      <td>0.598238</td>\n",
              "      <td>0.607236</td>\n",
              "      <td>0.638595</td>\n",
              "      <td>0.636068</td>\n",
              "      <td>0.623620</td>\n",
              "      <td>0.483524</td>\n",
              "      <td>1.000000</td>\n",
              "      <td>-0.672129</td>\n",
              "      <td>0.160906</td>\n",
              "      <td>0.008648</td>\n",
              "    </tr>\n",
              "    <tr>\n",
              "      <th>type</th>\n",
              "      <td>-0.000277</td>\n",
              "      <td>0.004058</td>\n",
              "      <td>0.621358</td>\n",
              "      <td>-0.799894</td>\n",
              "      <td>-0.727432</td>\n",
              "      <td>-0.746177</td>\n",
              "      <td>-0.784117</td>\n",
              "      <td>-0.728460</td>\n",
              "      <td>-0.719945</td>\n",
              "      <td>-0.511120</td>\n",
              "      <td>-0.672129</td>\n",
              "      <td>1.000000</td>\n",
              "      <td>0.004092</td>\n",
              "      <td>0.003921</td>\n",
              "    </tr>\n",
              "    <tr>\n",
              "      <th>year</th>\n",
              "      <td>-0.185504</td>\n",
              "      <td>0.999306</td>\n",
              "      <td>0.097058</td>\n",
              "      <td>0.081997</td>\n",
              "      <td>0.005169</td>\n",
              "      <td>0.002226</td>\n",
              "      <td>-0.045858</td>\n",
              "      <td>0.208983</td>\n",
              "      <td>0.184632</td>\n",
              "      <td>0.185563</td>\n",
              "      <td>0.160906</td>\n",
              "      <td>0.004092</td>\n",
              "      <td>1.000000</td>\n",
              "      <td>-0.002070</td>\n",
              "    </tr>\n",
              "    <tr>\n",
              "      <th>region</th>\n",
              "      <td>-0.001337</td>\n",
              "      <td>-0.002009</td>\n",
              "      <td>-0.019186</td>\n",
              "      <td>0.098126</td>\n",
              "      <td>0.186345</td>\n",
              "      <td>0.064711</td>\n",
              "      <td>0.065492</td>\n",
              "      <td>0.104244</td>\n",
              "      <td>0.087968</td>\n",
              "      <td>0.124964</td>\n",
              "      <td>0.008648</td>\n",
              "      <td>0.003921</td>\n",
              "      <td>-0.002070</td>\n",
              "      <td>1.000000</td>\n",
              "    </tr>\n",
              "  </tbody>\n",
              "</table>\n",
              "</div>\n",
              "      <button class=\"colab-df-convert\" onclick=\"convertToInteractive('df-d1fdf094-ad20-4f8e-95c5-6b8df4c70f0c')\"\n",
              "              title=\"Convert this dataframe to an interactive table.\"\n",
              "              style=\"display:none;\">\n",
              "        \n",
              "  <svg xmlns=\"http://www.w3.org/2000/svg\" height=\"24px\"viewBox=\"0 0 24 24\"\n",
              "       width=\"24px\">\n",
              "    <path d=\"M0 0h24v24H0V0z\" fill=\"none\"/>\n",
              "    <path d=\"M18.56 5.44l.94 2.06.94-2.06 2.06-.94-2.06-.94-.94-2.06-.94 2.06-2.06.94zm-11 1L8.5 8.5l.94-2.06 2.06-.94-2.06-.94L8.5 2.5l-.94 2.06-2.06.94zm10 10l.94 2.06.94-2.06 2.06-.94-2.06-.94-.94-2.06-.94 2.06-2.06.94z\"/><path d=\"M17.41 7.96l-1.37-1.37c-.4-.4-.92-.59-1.43-.59-.52 0-1.04.2-1.43.59L10.3 9.45l-7.72 7.72c-.78.78-.78 2.05 0 2.83L4 21.41c.39.39.9.59 1.41.59.51 0 1.02-.2 1.41-.59l7.78-7.78 2.81-2.81c.8-.78.8-2.07 0-2.86zM5.41 20L4 18.59l7.72-7.72 1.47 1.35L5.41 20z\"/>\n",
              "  </svg>\n",
              "      </button>\n",
              "      \n",
              "  <style>\n",
              "    .colab-df-container {\n",
              "      display:flex;\n",
              "      flex-wrap:wrap;\n",
              "      gap: 12px;\n",
              "    }\n",
              "\n",
              "    .colab-df-convert {\n",
              "      background-color: #E8F0FE;\n",
              "      border: none;\n",
              "      border-radius: 50%;\n",
              "      cursor: pointer;\n",
              "      display: none;\n",
              "      fill: #1967D2;\n",
              "      height: 32px;\n",
              "      padding: 0 0 0 0;\n",
              "      width: 32px;\n",
              "    }\n",
              "\n",
              "    .colab-df-convert:hover {\n",
              "      background-color: #E2EBFA;\n",
              "      box-shadow: 0px 1px 2px rgba(60, 64, 67, 0.3), 0px 1px 3px 1px rgba(60, 64, 67, 0.15);\n",
              "      fill: #174EA6;\n",
              "    }\n",
              "\n",
              "    [theme=dark] .colab-df-convert {\n",
              "      background-color: #3B4455;\n",
              "      fill: #D2E3FC;\n",
              "    }\n",
              "\n",
              "    [theme=dark] .colab-df-convert:hover {\n",
              "      background-color: #434B5C;\n",
              "      box-shadow: 0px 1px 3px 1px rgba(0, 0, 0, 0.15);\n",
              "      filter: drop-shadow(0px 1px 2px rgba(0, 0, 0, 0.3));\n",
              "      fill: #FFFFFF;\n",
              "    }\n",
              "  </style>\n",
              "\n",
              "      <script>\n",
              "        const buttonEl =\n",
              "          document.querySelector('#df-d1fdf094-ad20-4f8e-95c5-6b8df4c70f0c button.colab-df-convert');\n",
              "        buttonEl.style.display =\n",
              "          google.colab.kernel.accessAllowed ? 'block' : 'none';\n",
              "\n",
              "        async function convertToInteractive(key) {\n",
              "          const element = document.querySelector('#df-d1fdf094-ad20-4f8e-95c5-6b8df4c70f0c');\n",
              "          const dataTable =\n",
              "            await google.colab.kernel.invokeFunction('convertToInteractive',\n",
              "                                                     [key], {});\n",
              "          if (!dataTable) return;\n",
              "\n",
              "          const docLinkHtml = 'Like what you see? Visit the ' +\n",
              "            '<a target=\"_blank\" href=https://colab.research.google.com/notebooks/data_table.ipynb>data table notebook</a>'\n",
              "            + ' to learn more about interactive tables.';\n",
              "          element.innerHTML = '';\n",
              "          dataTable['output_type'] = 'display_data';\n",
              "          await google.colab.output.renderOutput(dataTable, element);\n",
              "          const docLink = document.createElement('div');\n",
              "          docLink.innerHTML = docLinkHtml;\n",
              "          element.appendChild(docLink);\n",
              "        }\n",
              "      </script>\n",
              "    </div>\n",
              "  </div>\n",
              "  "
            ]
          },
          "metadata": {},
          "execution_count": 16
        }
      ]
    },
    {
      "cell_type": "code",
      "source": [
        "import seaborn as sns\n",
        "plt.figure(figsize=(15,7))\n",
        "sns.heatmap(df.corr(),cmap=\"Blues\",annot=True)"
      ],
      "metadata": {
        "colab": {
          "base_uri": "https://localhost:8080/",
          "height": 506
        },
        "id": "0YnihGcHlrVA",
        "outputId": "19eeaad3-d5db-4c27-c904-60cfbac1ad11"
      },
      "execution_count": null,
      "outputs": [
        {
          "output_type": "execute_result",
          "data": {
            "text/plain": [
              "<matplotlib.axes._subplots.AxesSubplot at 0x7f15a3566290>"
            ]
          },
          "metadata": {},
          "execution_count": 61
        },
        {
          "output_type": "display_data",
          "data": {
            "text/plain": [
              "<Figure size 1080x504 with 2 Axes>"
            ],
            "image/png": "[encoded data removed]"
          },
          "metadata": {
            "needs_background": "light"
          }
        }
      ]
    },
    {
      "cell_type": "code",
      "source": [
        "x1=df.drop('AveragePrice',axis=1)\n",
        "y1=df['AveragePrice']\n",
        "\n",
        "\n",
        "x2=df.drop('region',axis=1)\n",
        "y2=df['region']\n",
        "\n"
      ],
      "metadata": {
        "id": "dZi2CQp7luz6"
      },
      "execution_count": 77,
      "outputs": []
    },
    {
      "cell_type": "code",
      "source": [
        "x1"
      ],
      "metadata": {
        "colab": {
          "base_uri": "https://localhost:8080/",
          "height": 423
        },
        "id": "sOkqyxcqtK54",
        "outputId": "89d4a766-6990-4c7f-e27f-20d3f95f089b"
      },
      "execution_count": 78,
      "outputs": [
        {
          "output_type": "execute_result",
          "data": {
            "text/plain": [
              "               Date  Total Volume      4046      4225      4770  Total Bags  \\\n",
              "0     -2.674527e-13     -0.086605 -0.658619  0.307313 -0.247250   -0.524004   \n",
              "1     -2.674527e-13     -0.155746 -0.776870  0.231647 -0.201041   -0.485890   \n",
              "2     -2.676748e-13      0.179327 -0.731947  0.579503 -0.007072   -0.552018   \n",
              "3     -2.677858e-13      0.003876 -0.634200  0.415100 -0.148322   -0.695449   \n",
              "4     -2.697842e-13     -0.187640 -0.685293  0.224806 -0.137918   -0.669157   \n",
              "...             ...           ...       ...       ...       ...         ...   \n",
              "18244  4.438672e-13     -0.674587 -0.467366 -0.919470 -1.238310   -0.334466   \n",
              "18245  4.419798e-13     -0.767550 -0.619883 -0.665372 -1.238310   -0.496897   \n",
              "18246  4.418688e-13     -0.771505 -0.619831 -0.772496  0.401546   -0.490952   \n",
              "18247  4.416467e-13     -0.698077 -0.550282 -0.710543  0.401246   -0.424252   \n",
              "18248  4.414247e-13     -0.663809 -0.367908 -0.785173  0.122919   -0.384961   \n",
              "\n",
              "       Small Bags  Large Bags  XLarge Bags      type      year  region  \n",
              "0       -0.340627   -0.773351    -0.699849 -0.999836 -1.221895       0  \n",
              "1       -0.306425   -0.763435    -0.699849 -0.999836 -1.221895       0  \n",
              "2       -0.366303   -0.750820    -0.699849 -0.999836 -1.221895       0  \n",
              "3       -0.496853   -0.691865    -0.699849 -0.999836 -1.221895       0  \n",
              "4       -0.477201   -0.600975    -0.699849 -0.999836 -1.221895       0  \n",
              "...           ...         ...          ...       ...       ...     ...  \n",
              "18244   -0.178839   -0.410859    -0.699849  1.000164  1.968548      53  \n",
              "18245   -0.325977   -0.481465    -0.699849  1.000164  1.968548      53  \n",
              "18246   -0.308728   -0.943486    -0.699849  1.000164  1.968548      53  \n",
              "18247   -0.248932   -0.908510    -0.699849  1.000164  1.968548      53  \n",
              "18248   -0.212590   -1.042250    -0.699849  1.000164  1.968548      53  \n",
              "\n",
              "[18141 rows x 12 columns]"
            ],
            "text/html": [
              "\n",
              "  <div id=\"df-bfaf8210-ba6a-4840-acba-dac8b6f8be6a\">\n",
              "    <div class=\"colab-df-container\">\n",
              "      <div>\n",
              "<style scoped>\n",
              "    .dataframe tbody tr th:only-of-type {\n",
              "        vertical-align: middle;\n",
              "    }\n",
              "\n",
              "    .dataframe tbody tr th {\n",
              "        vertical-align: top;\n",
              "    }\n",
              "\n",
              "    .dataframe thead th {\n",
              "        text-align: right;\n",
              "    }\n",
              "</style>\n",
              "<table border=\"1\" class=\"dataframe\">\n",
              "  <thead>\n",
              "    <tr style=\"text-align: right;\">\n",
              "      <th></th>\n",
              "      <th>Date</th>\n",
              "      <th>Total Volume</th>\n",
              "      <th>4046</th>\n",
              "      <th>4225</th>\n",
              "      <th>4770</th>\n",
              "      <th>Total Bags</th>\n",
              "      <th>Small Bags</th>\n",
              "      <th>Large Bags</th>\n",
              "      <th>XLarge Bags</th>\n",
              "      <th>type</th>\n",
              "      <th>year</th>\n",
              "      <th>region</th>\n",
              "    </tr>\n",
              "  </thead>\n",
              "  <tbody>\n",
              "    <tr>\n",
              "      <th>0</th>\n",
              "      <td>-2.674527e-13</td>\n",
              "      <td>-0.086605</td>\n",
              "      <td>-0.658619</td>\n",
              "      <td>0.307313</td>\n",
              "      <td>-0.247250</td>\n",
              "      <td>-0.524004</td>\n",
              "      <td>-0.340627</td>\n",
              "      <td>-0.773351</td>\n",
              "      <td>-0.699849</td>\n",
              "      <td>-0.999836</td>\n",
              "      <td>-1.221895</td>\n",
              "      <td>0</td>\n",
              "    </tr>\n",
              "    <tr>\n",
              "      <th>1</th>\n",
              "      <td>-2.674527e-13</td>\n",
              "      <td>-0.155746</td>\n",
              "      <td>-0.776870</td>\n",
              "      <td>0.231647</td>\n",
              "      <td>-0.201041</td>\n",
              "      <td>-0.485890</td>\n",
              "      <td>-0.306425</td>\n",
              "      <td>-0.763435</td>\n",
              "      <td>-0.699849</td>\n",
              "      <td>-0.999836</td>\n",
              "      <td>-1.221895</td>\n",
              "      <td>0</td>\n",
              "    </tr>\n",
              "    <tr>\n",
              "      <th>2</th>\n",
              "      <td>-2.676748e-13</td>\n",
              "      <td>0.179327</td>\n",
              "      <td>-0.731947</td>\n",
              "      <td>0.579503</td>\n",
              "      <td>-0.007072</td>\n",
              "      <td>-0.552018</td>\n",
              "      <td>-0.366303</td>\n",
              "      <td>-0.750820</td>\n",
              "      <td>-0.699849</td>\n",
              "      <td>-0.999836</td>\n",
              "      <td>-1.221895</td>\n",
              "      <td>0</td>\n",
              "    </tr>\n",
              "    <tr>\n",
              "      <th>3</th>\n",
              "      <td>-2.677858e-13</td>\n",
              "      <td>0.003876</td>\n",
              "      <td>-0.634200</td>\n",
              "      <td>0.415100</td>\n",
              "      <td>-0.148322</td>\n",
              "      <td>-0.695449</td>\n",
              "      <td>-0.496853</td>\n",
              "      <td>-0.691865</td>\n",
              "      <td>-0.699849</td>\n",
              "      <td>-0.999836</td>\n",
              "      <td>-1.221895</td>\n",
              "      <td>0</td>\n",
              "    </tr>\n",
              "    <tr>\n",
              "      <th>4</th>\n",
              "      <td>-2.697842e-13</td>\n",
              "      <td>-0.187640</td>\n",
              "      <td>-0.685293</td>\n",
              "      <td>0.224806</td>\n",
              "      <td>-0.137918</td>\n",
              "      <td>-0.669157</td>\n",
              "      <td>-0.477201</td>\n",
              "      <td>-0.600975</td>\n",
              "      <td>-0.699849</td>\n",
              "      <td>-0.999836</td>\n",
              "      <td>-1.221895</td>\n",
              "      <td>0</td>\n",
              "    </tr>\n",
              "    <tr>\n",
              "      <th>...</th>\n",
              "      <td>...</td>\n",
              "      <td>...</td>\n",
              "      <td>...</td>\n",
              "      <td>...</td>\n",
              "      <td>...</td>\n",
              "      <td>...</td>\n",
              "      <td>...</td>\n",
              "      <td>...</td>\n",
              "      <td>...</td>\n",
              "      <td>...</td>\n",
              "      <td>...</td>\n",
              "      <td>...</td>\n",
              "    </tr>\n",
              "    <tr>\n",
              "      <th>18244</th>\n",
              "      <td>4.438672e-13</td>\n",
              "      <td>-0.674587</td>\n",
              "      <td>-0.467366</td>\n",
              "      <td>-0.919470</td>\n",
              "      <td>-1.238310</td>\n",
              "      <td>-0.334466</td>\n",
              "      <td>-0.178839</td>\n",
              "      <td>-0.410859</td>\n",
              "      <td>-0.699849</td>\n",
              "      <td>1.000164</td>\n",
              "      <td>1.968548</td>\n",
              "      <td>53</td>\n",
              "    </tr>\n",
              "    <tr>\n",
              "      <th>18245</th>\n",
              "      <td>4.419798e-13</td>\n",
              "      <td>-0.767550</td>\n",
              "      <td>-0.619883</td>\n",
              "      <td>-0.665372</td>\n",
              "      <td>-1.238310</td>\n",
              "      <td>-0.496897</td>\n",
              "      <td>-0.325977</td>\n",
              "      <td>-0.481465</td>\n",
              "      <td>-0.699849</td>\n",
              "      <td>1.000164</td>\n",
              "      <td>1.968548</td>\n",
              "      <td>53</td>\n",
              "    </tr>\n",
              "    <tr>\n",
              "      <th>18246</th>\n",
              "      <td>4.418688e-13</td>\n",
              "      <td>-0.771505</td>\n",
              "      <td>-0.619831</td>\n",
              "      <td>-0.772496</td>\n",
              "      <td>0.401546</td>\n",
              "      <td>-0.490952</td>\n",
              "      <td>-0.308728</td>\n",
              "      <td>-0.943486</td>\n",
              "      <td>-0.699849</td>\n",
              "      <td>1.000164</td>\n",
              "      <td>1.968548</td>\n",
              "      <td>53</td>\n",
              "    </tr>\n",
              "    <tr>\n",
              "      <th>18247</th>\n",
              "      <td>4.416467e-13</td>\n",
              "      <td>-0.698077</td>\n",
              "      <td>-0.550282</td>\n",
              "      <td>-0.710543</td>\n",
              "      <td>0.401246</td>\n",
              "      <td>-0.424252</td>\n",
              "      <td>-0.248932</td>\n",
              "      <td>-0.908510</td>\n",
              "      <td>-0.699849</td>\n",
              "      <td>1.000164</td>\n",
              "      <td>1.968548</td>\n",
              "      <td>53</td>\n",
              "    </tr>\n",
              "    <tr>\n",
              "      <th>18248</th>\n",
              "      <td>4.414247e-13</td>\n",
              "      <td>-0.663809</td>\n",
              "      <td>-0.367908</td>\n",
              "      <td>-0.785173</td>\n",
              "      <td>0.122919</td>\n",
              "      <td>-0.384961</td>\n",
              "      <td>-0.212590</td>\n",
              "      <td>-1.042250</td>\n",
              "      <td>-0.699849</td>\n",
              "      <td>1.000164</td>\n",
              "      <td>1.968548</td>\n",
              "      <td>53</td>\n",
              "    </tr>\n",
              "  </tbody>\n",
              "</table>\n",
              "<p>18141 rows × 12 columns</p>\n",
              "</div>\n",
              "      <button class=\"colab-df-convert\" onclick=\"convertToInteractive('df-bfaf8210-ba6a-4840-acba-dac8b6f8be6a')\"\n",
              "              title=\"Convert this dataframe to an interactive table.\"\n",
              "              style=\"display:none;\">\n",
              "        \n",
              "  <svg xmlns=\"http://www.w3.org/2000/svg\" height=\"24px\"viewBox=\"0 0 24 24\"\n",
              "       width=\"24px\">\n",
              "    <path d=\"M0 0h24v24H0V0z\" fill=\"none\"/>\n",
              "    <path d=\"M18.56 5.44l.94 2.06.94-2.06 2.06-.94-2.06-.94-.94-2.06-.94 2.06-2.06.94zm-11 1L8.5 8.5l.94-2.06 2.06-.94-2.06-.94L8.5 2.5l-.94 2.06-2.06.94zm10 10l.94 2.06.94-2.06 2.06-.94-2.06-.94-.94-2.06-.94 2.06-2.06.94z\"/><path d=\"M17.41 7.96l-1.37-1.37c-.4-.4-.92-.59-1.43-.59-.52 0-1.04.2-1.43.59L10.3 9.45l-7.72 7.72c-.78.78-.78 2.05 0 2.83L4 21.41c.39.39.9.59 1.41.59.51 0 1.02-.2 1.41-.59l7.78-7.78 2.81-2.81c.8-.78.8-2.07 0-2.86zM5.41 20L4 18.59l7.72-7.72 1.47 1.35L5.41 20z\"/>\n",
              "  </svg>\n",
              "      </button>\n",
              "      \n",
              "  <style>\n",
              "    .colab-df-container {\n",
              "      display:flex;\n",
              "      flex-wrap:wrap;\n",
              "      gap: 12px;\n",
              "    }\n",
              "\n",
              "    .colab-df-convert {\n",
              "      background-color: #E8F0FE;\n",
              "      border: none;\n",
              "      border-radius: 50%;\n",
              "      cursor: pointer;\n",
              "      display: none;\n",
              "      fill: #1967D2;\n",
              "      height: 32px;\n",
              "      padding: 0 0 0 0;\n",
              "      width: 32px;\n",
              "    }\n",
              "\n",
              "    .colab-df-convert:hover {\n",
              "      background-color: #E2EBFA;\n",
              "      box-shadow: 0px 1px 2px rgba(60, 64, 67, 0.3), 0px 1px 3px 1px rgba(60, 64, 67, 0.15);\n",
              "      fill: #174EA6;\n",
              "    }\n",
              "\n",
              "    [theme=dark] .colab-df-convert {\n",
              "      background-color: #3B4455;\n",
              "      fill: #D2E3FC;\n",
              "    }\n",
              "\n",
              "    [theme=dark] .colab-df-convert:hover {\n",
              "      background-color: #434B5C;\n",
              "      box-shadow: 0px 1px 3px 1px rgba(0, 0, 0, 0.15);\n",
              "      filter: drop-shadow(0px 1px 2px rgba(0, 0, 0, 0.3));\n",
              "      fill: #FFFFFF;\n",
              "    }\n",
              "  </style>\n",
              "\n",
              "      <script>\n",
              "        const buttonEl =\n",
              "          document.querySelector('#df-bfaf8210-ba6a-4840-acba-dac8b6f8be6a button.colab-df-convert');\n",
              "        buttonEl.style.display =\n",
              "          google.colab.kernel.accessAllowed ? 'block' : 'none';\n",
              "\n",
              "        async function convertToInteractive(key) {\n",
              "          const element = document.querySelector('#df-bfaf8210-ba6a-4840-acba-dac8b6f8be6a');\n",
              "          const dataTable =\n",
              "            await google.colab.kernel.invokeFunction('convertToInteractive',\n",
              "                                                     [key], {});\n",
              "          if (!dataTable) return;\n",
              "\n",
              "          const docLinkHtml = 'Like what you see? Visit the ' +\n",
              "            '<a target=\"_blank\" href=https://colab.research.google.com/notebooks/data_table.ipynb>data table notebook</a>'\n",
              "            + ' to learn more about interactive tables.';\n",
              "          element.innerHTML = '';\n",
              "          dataTable['output_type'] = 'display_data';\n",
              "          await google.colab.output.renderOutput(dataTable, element);\n",
              "          const docLink = document.createElement('div');\n",
              "          docLink.innerHTML = docLinkHtml;\n",
              "          element.appendChild(docLink);\n",
              "        }\n",
              "      </script>\n",
              "    </div>\n",
              "  </div>\n",
              "  "
            ]
          },
          "metadata": {},
          "execution_count": 78
        }
      ]
    },
    {
      "cell_type": "code",
      "source": [
        "y1"
      ],
      "metadata": {
        "colab": {
          "base_uri": "https://localhost:8080/"
        },
        "id": "U4_PmRkGtNoX",
        "outputId": "176624f6-38f8-4596-cf06-69ee59e4b0d2"
      },
      "execution_count": 79,
      "outputs": [
        {
          "output_type": "execute_result",
          "data": {
            "text/plain": [
              "0       -0.086248\n",
              "1       -0.034022\n",
              "2       -1.273938\n",
              "3       -0.793421\n",
              "4       -0.219440\n",
              "           ...   \n",
              "18244    0.640729\n",
              "18245    0.816307\n",
              "18246    1.147790\n",
              "18247    1.265876\n",
              "18248    0.618287\n",
              "Name: AveragePrice, Length: 18141, dtype: float64"
            ]
          },
          "metadata": {},
          "execution_count": 79
        }
      ]
    },
    {
      "cell_type": "code",
      "source": [
        "x2"
      ],
      "metadata": {
        "colab": {
          "base_uri": "https://localhost:8080/",
          "height": 423
        },
        "id": "zWJKNEAJtO9W",
        "outputId": "bbfd5fb7-7bfa-4970-ce08-7736de670ad5"
      },
      "execution_count": 80,
      "outputs": [
        {
          "output_type": "execute_result",
          "data": {
            "text/plain": [
              "               Date  AveragePrice  Total Volume      4046      4225      4770  \\\n",
              "0     -2.674527e-13     -0.086248     -0.086605 -0.658619  0.307313 -0.247250   \n",
              "1     -2.674527e-13     -0.034022     -0.155746 -0.776870  0.231647 -0.201041   \n",
              "2     -2.676748e-13     -1.273938      0.179327 -0.731947  0.579503 -0.007072   \n",
              "3     -2.677858e-13     -0.793421      0.003876 -0.634200  0.415100 -0.148322   \n",
              "4     -2.697842e-13     -0.219440     -0.187640 -0.685293  0.224806 -0.137918   \n",
              "...             ...           ...           ...       ...       ...       ...   \n",
              "18244  4.438672e-13      0.640729     -0.674587 -0.467366 -0.919470 -1.238310   \n",
              "18245  4.419798e-13      0.816307     -0.767550 -0.619883 -0.665372 -1.238310   \n",
              "18246  4.418688e-13      1.147790     -0.771505 -0.619831 -0.772496  0.401546   \n",
              "18247  4.416467e-13      1.265876     -0.698077 -0.550282 -0.710543  0.401246   \n",
              "18248  4.414247e-13      0.618287     -0.663809 -0.367908 -0.785173  0.122919   \n",
              "\n",
              "       Total Bags  Small Bags  Large Bags  XLarge Bags      type      year  \n",
              "0       -0.524004   -0.340627   -0.773351    -0.699849 -0.999836 -1.221895  \n",
              "1       -0.485890   -0.306425   -0.763435    -0.699849 -0.999836 -1.221895  \n",
              "2       -0.552018   -0.366303   -0.750820    -0.699849 -0.999836 -1.221895  \n",
              "3       -0.695449   -0.496853   -0.691865    -0.699849 -0.999836 -1.221895  \n",
              "4       -0.669157   -0.477201   -0.600975    -0.699849 -0.999836 -1.221895  \n",
              "...           ...         ...         ...          ...       ...       ...  \n",
              "18244   -0.334466   -0.178839   -0.410859    -0.699849  1.000164  1.968548  \n",
              "18245   -0.496897   -0.325977   -0.481465    -0.699849  1.000164  1.968548  \n",
              "18246   -0.490952   -0.308728   -0.943486    -0.699849  1.000164  1.968548  \n",
              "18247   -0.424252   -0.248932   -0.908510    -0.699849  1.000164  1.968548  \n",
              "18248   -0.384961   -0.212590   -1.042250    -0.699849  1.000164  1.968548  \n",
              "\n",
              "[18141 rows x 12 columns]"
            ],
            "text/html": [
              "\n",
              "  <div id=\"df-6edbb332-6c19-4374-8a04-29c0d6076259\">\n",
              "    <div class=\"colab-df-container\">\n",
              "      <div>\n",
              "<style scoped>\n",
              "    .dataframe tbody tr th:only-of-type {\n",
              "        vertical-align: middle;\n",
              "    }\n",
              "\n",
              "    .dataframe tbody tr th {\n",
              "        vertical-align: top;\n",
              "    }\n",
              "\n",
              "    .dataframe thead th {\n",
              "        text-align: right;\n",
              "    }\n",
              "</style>\n",
              "<table border=\"1\" class=\"dataframe\">\n",
              "  <thead>\n",
              "    <tr style=\"text-align: right;\">\n",
              "      <th></th>\n",
              "      <th>Date</th>\n",
              "      <th>AveragePrice</th>\n",
              "      <th>Total Volume</th>\n",
              "      <th>4046</th>\n",
              "      <th>4225</th>\n",
              "      <th>4770</th>\n",
              "      <th>Total Bags</th>\n",
              "      <th>Small Bags</th>\n",
              "      <th>Large Bags</th>\n",
              "      <th>XLarge Bags</th>\n",
              "      <th>type</th>\n",
              "      <th>year</th>\n",
              "    </tr>\n",
              "  </thead>\n",
              "  <tbody>\n",
              "    <tr>\n",
              "      <th>0</th>\n",
              "      <td>-2.674527e-13</td>\n",
              "      <td>-0.086248</td>\n",
              "      <td>-0.086605</td>\n",
              "      <td>-0.658619</td>\n",
              "      <td>0.307313</td>\n",
              "      <td>-0.247250</td>\n",
              "      <td>-0.524004</td>\n",
              "      <td>-0.340627</td>\n",
              "      <td>-0.773351</td>\n",
              "      <td>-0.699849</td>\n",
              "      <td>-0.999836</td>\n",
              "      <td>-1.221895</td>\n",
              "    </tr>\n",
              "    <tr>\n",
              "      <th>1</th>\n",
              "      <td>-2.674527e-13</td>\n",
              "      <td>-0.034022</td>\n",
              "      <td>-0.155746</td>\n",
              "      <td>-0.776870</td>\n",
              "      <td>0.231647</td>\n",
              "      <td>-0.201041</td>\n",
              "      <td>-0.485890</td>\n",
              "      <td>-0.306425</td>\n",
              "      <td>-0.763435</td>\n",
              "      <td>-0.699849</td>\n",
              "      <td>-0.999836</td>\n",
              "      <td>-1.221895</td>\n",
              "    </tr>\n",
              "    <tr>\n",
              "      <th>2</th>\n",
              "      <td>-2.676748e-13</td>\n",
              "      <td>-1.273938</td>\n",
              "      <td>0.179327</td>\n",
              "      <td>-0.731947</td>\n",
              "      <td>0.579503</td>\n",
              "      <td>-0.007072</td>\n",
              "      <td>-0.552018</td>\n",
              "      <td>-0.366303</td>\n",
              "      <td>-0.750820</td>\n",
              "      <td>-0.699849</td>\n",
              "      <td>-0.999836</td>\n",
              "      <td>-1.221895</td>\n",
              "    </tr>\n",
              "    <tr>\n",
              "      <th>3</th>\n",
              "      <td>-2.677858e-13</td>\n",
              "      <td>-0.793421</td>\n",
              "      <td>0.003876</td>\n",
              "      <td>-0.634200</td>\n",
              "      <td>0.415100</td>\n",
              "      <td>-0.148322</td>\n",
              "      <td>-0.695449</td>\n",
              "      <td>-0.496853</td>\n",
              "      <td>-0.691865</td>\n",
              "      <td>-0.699849</td>\n",
              "      <td>-0.999836</td>\n",
              "      <td>-1.221895</td>\n",
              "    </tr>\n",
              "    <tr>\n",
              "      <th>4</th>\n",
              "      <td>-2.697842e-13</td>\n",
              "      <td>-0.219440</td>\n",
              "      <td>-0.187640</td>\n",
              "      <td>-0.685293</td>\n",
              "      <td>0.224806</td>\n",
              "      <td>-0.137918</td>\n",
              "      <td>-0.669157</td>\n",
              "      <td>-0.477201</td>\n",
              "      <td>-0.600975</td>\n",
              "      <td>-0.699849</td>\n",
              "      <td>-0.999836</td>\n",
              "      <td>-1.221895</td>\n",
              "    </tr>\n",
              "    <tr>\n",
              "      <th>...</th>\n",
              "      <td>...</td>\n",
              "      <td>...</td>\n",
              "      <td>...</td>\n",
              "      <td>...</td>\n",
              "      <td>...</td>\n",
              "      <td>...</td>\n",
              "      <td>...</td>\n",
              "      <td>...</td>\n",
              "      <td>...</td>\n",
              "      <td>...</td>\n",
              "      <td>...</td>\n",
              "      <td>...</td>\n",
              "    </tr>\n",
              "    <tr>\n",
              "      <th>18244</th>\n",
              "      <td>4.438672e-13</td>\n",
              "      <td>0.640729</td>\n",
              "      <td>-0.674587</td>\n",
              "      <td>-0.467366</td>\n",
              "      <td>-0.919470</td>\n",
              "      <td>-1.238310</td>\n",
              "      <td>-0.334466</td>\n",
              "      <td>-0.178839</td>\n",
              "      <td>-0.410859</td>\n",
              "      <td>-0.699849</td>\n",
              "      <td>1.000164</td>\n",
              "      <td>1.968548</td>\n",
              "    </tr>\n",
              "    <tr>\n",
              "      <th>18245</th>\n",
              "      <td>4.419798e-13</td>\n",
              "      <td>0.816307</td>\n",
              "      <td>-0.767550</td>\n",
              "      <td>-0.619883</td>\n",
              "      <td>-0.665372</td>\n",
              "      <td>-1.238310</td>\n",
              "      <td>-0.496897</td>\n",
              "      <td>-0.325977</td>\n",
              "      <td>-0.481465</td>\n",
              "      <td>-0.699849</td>\n",
              "      <td>1.000164</td>\n",
              "      <td>1.968548</td>\n",
              "    </tr>\n",
              "    <tr>\n",
              "      <th>18246</th>\n",
              "      <td>4.418688e-13</td>\n",
              "      <td>1.147790</td>\n",
              "      <td>-0.771505</td>\n",
              "      <td>-0.619831</td>\n",
              "      <td>-0.772496</td>\n",
              "      <td>0.401546</td>\n",
              "      <td>-0.490952</td>\n",
              "      <td>-0.308728</td>\n",
              "      <td>-0.943486</td>\n",
              "      <td>-0.699849</td>\n",
              "      <td>1.000164</td>\n",
              "      <td>1.968548</td>\n",
              "    </tr>\n",
              "    <tr>\n",
              "      <th>18247</th>\n",
              "      <td>4.416467e-13</td>\n",
              "      <td>1.265876</td>\n",
              "      <td>-0.698077</td>\n",
              "      <td>-0.550282</td>\n",
              "      <td>-0.710543</td>\n",
              "      <td>0.401246</td>\n",
              "      <td>-0.424252</td>\n",
              "      <td>-0.248932</td>\n",
              "      <td>-0.908510</td>\n",
              "      <td>-0.699849</td>\n",
              "      <td>1.000164</td>\n",
              "      <td>1.968548</td>\n",
              "    </tr>\n",
              "    <tr>\n",
              "      <th>18248</th>\n",
              "      <td>4.414247e-13</td>\n",
              "      <td>0.618287</td>\n",
              "      <td>-0.663809</td>\n",
              "      <td>-0.367908</td>\n",
              "      <td>-0.785173</td>\n",
              "      <td>0.122919</td>\n",
              "      <td>-0.384961</td>\n",
              "      <td>-0.212590</td>\n",
              "      <td>-1.042250</td>\n",
              "      <td>-0.699849</td>\n",
              "      <td>1.000164</td>\n",
              "      <td>1.968548</td>\n",
              "    </tr>\n",
              "  </tbody>\n",
              "</table>\n",
              "<p>18141 rows × 12 columns</p>\n",
              "</div>\n",
              "      <button class=\"colab-df-convert\" onclick=\"convertToInteractive('df-6edbb332-6c19-4374-8a04-29c0d6076259')\"\n",
              "              title=\"Convert this dataframe to an interactive table.\"\n",
              "              style=\"display:none;\">\n",
              "        \n",
              "  <svg xmlns=\"http://www.w3.org/2000/svg\" height=\"24px\"viewBox=\"0 0 24 24\"\n",
              "       width=\"24px\">\n",
              "    <path d=\"M0 0h24v24H0V0z\" fill=\"none\"/>\n",
              "    <path d=\"M18.56 5.44l.94 2.06.94-2.06 2.06-.94-2.06-.94-.94-2.06-.94 2.06-2.06.94zm-11 1L8.5 8.5l.94-2.06 2.06-.94-2.06-.94L8.5 2.5l-.94 2.06-2.06.94zm10 10l.94 2.06.94-2.06 2.06-.94-2.06-.94-.94-2.06-.94 2.06-2.06.94z\"/><path d=\"M17.41 7.96l-1.37-1.37c-.4-.4-.92-.59-1.43-.59-.52 0-1.04.2-1.43.59L10.3 9.45l-7.72 7.72c-.78.78-.78 2.05 0 2.83L4 21.41c.39.39.9.59 1.41.59.51 0 1.02-.2 1.41-.59l7.78-7.78 2.81-2.81c.8-.78.8-2.07 0-2.86zM5.41 20L4 18.59l7.72-7.72 1.47 1.35L5.41 20z\"/>\n",
              "  </svg>\n",
              "      </button>\n",
              "      \n",
              "  <style>\n",
              "    .colab-df-container {\n",
              "      display:flex;\n",
              "      flex-wrap:wrap;\n",
              "      gap: 12px;\n",
              "    }\n",
              "\n",
              "    .colab-df-convert {\n",
              "      background-color: #E8F0FE;\n",
              "      border: none;\n",
              "      border-radius: 50%;\n",
              "      cursor: pointer;\n",
              "      display: none;\n",
              "      fill: #1967D2;\n",
              "      height: 32px;\n",
              "      padding: 0 0 0 0;\n",
              "      width: 32px;\n",
              "    }\n",
              "\n",
              "    .colab-df-convert:hover {\n",
              "      background-color: #E2EBFA;\n",
              "      box-shadow: 0px 1px 2px rgba(60, 64, 67, 0.3), 0px 1px 3px 1px rgba(60, 64, 67, 0.15);\n",
              "      fill: #174EA6;\n",
              "    }\n",
              "\n",
              "    [theme=dark] .colab-df-convert {\n",
              "      background-color: #3B4455;\n",
              "      fill: #D2E3FC;\n",
              "    }\n",
              "\n",
              "    [theme=dark] .colab-df-convert:hover {\n",
              "      background-color: #434B5C;\n",
              "      box-shadow: 0px 1px 3px 1px rgba(0, 0, 0, 0.15);\n",
              "      filter: drop-shadow(0px 1px 2px rgba(0, 0, 0, 0.3));\n",
              "      fill: #FFFFFF;\n",
              "    }\n",
              "  </style>\n",
              "\n",
              "      <script>\n",
              "        const buttonEl =\n",
              "          document.querySelector('#df-6edbb332-6c19-4374-8a04-29c0d6076259 button.colab-df-convert');\n",
              "        buttonEl.style.display =\n",
              "          google.colab.kernel.accessAllowed ? 'block' : 'none';\n",
              "\n",
              "        async function convertToInteractive(key) {\n",
              "          const element = document.querySelector('#df-6edbb332-6c19-4374-8a04-29c0d6076259');\n",
              "          const dataTable =\n",
              "            await google.colab.kernel.invokeFunction('convertToInteractive',\n",
              "                                                     [key], {});\n",
              "          if (!dataTable) return;\n",
              "\n",
              "          const docLinkHtml = 'Like what you see? Visit the ' +\n",
              "            '<a target=\"_blank\" href=https://colab.research.google.com/notebooks/data_table.ipynb>data table notebook</a>'\n",
              "            + ' to learn more about interactive tables.';\n",
              "          element.innerHTML = '';\n",
              "          dataTable['output_type'] = 'display_data';\n",
              "          await google.colab.output.renderOutput(dataTable, element);\n",
              "          const docLink = document.createElement('div');\n",
              "          docLink.innerHTML = docLinkHtml;\n",
              "          element.appendChild(docLink);\n",
              "        }\n",
              "      </script>\n",
              "    </div>\n",
              "  </div>\n",
              "  "
            ]
          },
          "metadata": {},
          "execution_count": 80
        }
      ]
    },
    {
      "cell_type": "code",
      "source": [
        "y2"
      ],
      "metadata": {
        "colab": {
          "base_uri": "https://localhost:8080/"
        },
        "id": "1ech7D4MBX6W",
        "outputId": "e31ce8a0-dfc8-41eb-c3aa-0c9b68bbd4f5"
      },
      "execution_count": 81,
      "outputs": [
        {
          "output_type": "execute_result",
          "data": {
            "text/plain": [
              "0         0\n",
              "1         0\n",
              "2         0\n",
              "3         0\n",
              "4         0\n",
              "         ..\n",
              "18244    53\n",
              "18245    53\n",
              "18246    53\n",
              "18247    53\n",
              "18248    53\n",
              "Name: region, Length: 18141, dtype: int64"
            ]
          },
          "metadata": {},
          "execution_count": 81
        }
      ]
    },
    {
      "cell_type": "code",
      "source": [
        "def vif_calc1():\n",
        "  vif=pd.DataFrame()\n",
        "  vif[\"VIF Factor\"]=[variance_inflation_factor(x1.values,i) for i in range(x1.shape[1])]\n",
        "  vif[\"features\"]=x1.columns\n",
        "  print(vif)"
      ],
      "metadata": {
        "id": "pgViC9ZqtUQG"
      },
      "execution_count": 82,
      "outputs": []
    },
    {
      "cell_type": "code",
      "source": [
        "vif_calc1()"
      ],
      "metadata": {
        "colab": {
          "base_uri": "https://localhost:8080/"
        },
        "id": "8YPN8IbXtt6s",
        "outputId": "5995477f-8058-450f-d3a9-c360756f6d35"
      },
      "execution_count": 23,
      "outputs": [
        {
          "output_type": "stream",
          "name": "stdout",
          "text": [
            "    VIF Factor      features\n",
            "0   735.851458          Date\n",
            "1    52.554489  Total Volume\n",
            "2     7.235918          4046\n",
            "3    11.020681          4225\n",
            "4     4.212463          4770\n",
            "5    34.524486    Total Bags\n",
            "6    15.167281    Small Bags\n",
            "7     3.433310    Large Bags\n",
            "8     2.143959   XLarge Bags\n",
            "9     3.696515          type\n",
            "10  732.237404          year\n",
            "11    1.099649        region\n"
          ]
        }
      ]
    },
    {
      "cell_type": "code",
      "source": [
        "x1.drop(['Date','Total Volume'],axis=1,inplace=True)"
      ],
      "metadata": {
        "id": "KV89JPy5ujSs"
      },
      "execution_count": 83,
      "outputs": []
    },
    {
      "cell_type": "code",
      "source": [
        "vif_calc1()"
      ],
      "metadata": {
        "colab": {
          "base_uri": "https://localhost:8080/"
        },
        "id": "MP6IqxhPurd2",
        "outputId": "85be8d01-5b3a-4873-95df-0f4207e8b01e"
      },
      "execution_count": 84,
      "outputs": [
        {
          "output_type": "stream",
          "name": "stdout",
          "text": [
            "   VIF Factor     features\n",
            "0    3.791907         4046\n",
            "1    4.474450         4225\n",
            "2    4.178119         4770\n",
            "3   22.906914   Total Bags\n",
            "4   15.150413   Small Bags\n",
            "5    3.359140   Large Bags\n",
            "6    2.111625  XLarge Bags\n",
            "7    3.388675         type\n",
            "8    1.316685         year\n",
            "9    1.019806       region\n"
          ]
        }
      ]
    },
    {
      "cell_type": "code",
      "source": [
        "def vif_calc2():\n",
        "  vif=pd.DataFrame()\n",
        "  vif[\"VIF Factor\"]=[variance_inflation_factor(x2.values,i) for i in range(x2.shape[1])]\n",
        "  vif[\"features\"]=x2.columns\n",
        "  print(vif)"
      ],
      "metadata": {
        "id": "x_SBp3YEthlx"
      },
      "execution_count": 85,
      "outputs": []
    },
    {
      "cell_type": "code",
      "source": [
        "vif_calc2()"
      ],
      "metadata": {
        "colab": {
          "base_uri": "https://localhost:8080/"
        },
        "id": "-BdDtmemtvrV",
        "outputId": "e4bdb478-2157-49f1-b8b5-df6f52158ab3"
      },
      "execution_count": 86,
      "outputs": [
        {
          "output_type": "stream",
          "name": "stdout",
          "text": [
            "    VIF Factor      features\n",
            "0   801.245766          Date\n",
            "1     2.331132  AveragePrice\n",
            "2    53.154599  Total Volume\n",
            "3     6.866865          4046\n",
            "4    11.966929          4225\n",
            "5     4.222883          4770\n",
            "6    35.394887    Total Bags\n",
            "7    15.703994    Small Bags\n",
            "8     3.456836    Large Bags\n",
            "9     2.137647   XLarge Bags\n",
            "10    4.150690          type\n",
            "11  792.327943          year\n"
          ]
        }
      ]
    },
    {
      "cell_type": "code",
      "source": [
        "x2.drop(['Date','Total Volume'],axis=1,inplace=True)"
      ],
      "metadata": {
        "id": "xjN0S_3wtigL"
      },
      "execution_count": 87,
      "outputs": []
    },
    {
      "cell_type": "code",
      "source": [
        "vif_calc2()"
      ],
      "metadata": {
        "colab": {
          "base_uri": "https://localhost:8080/"
        },
        "id": "Bp9kTlavBroY",
        "outputId": "5670d961-e19a-4613-df44-8cf608502ae6"
      },
      "execution_count": 88,
      "outputs": [
        {
          "output_type": "stream",
          "name": "stdout",
          "text": [
            "   VIF Factor      features\n",
            "0    2.096113  AveragePrice\n",
            "1    3.811771          4046\n",
            "2    4.783053          4225\n",
            "3    4.184450          4770\n",
            "4   24.697225    Total Bags\n",
            "5   15.684991    Small Bags\n",
            "6    3.370362    Large Bags\n",
            "7    2.113063   XLarge Bags\n",
            "8    3.907367          type\n",
            "9    1.405089          year\n"
          ]
        }
      ]
    },
    {
      "cell_type": "markdown",
      "source": [
        "# Scaling the Data"
      ],
      "metadata": {
        "id": "Da4-jETXvFsa"
      }
    },
    {
      "cell_type": "code",
      "source": [
        "from sklearn.preprocessing import StandardScaler\n",
        "sc=StandardScaler()\n",
        "x1=sc.fit_transform(x1)\n",
        "x1"
      ],
      "metadata": {
        "colab": {
          "base_uri": "https://localhost:8080/"
        },
        "id": "6lXNWcmsubNA",
        "outputId": "9bf453c6-6476-4ee4-bc3c-f1b427bfa6f1"
      },
      "execution_count": 89,
      "outputs": [
        {
          "output_type": "execute_result",
          "data": {
            "text/plain": [
              "array([[-6.56409482e-01,  3.20489894e-01, -2.43508356e-01, ...,\n",
              "        -1.00159987e+00, -1.22148450e+00, -1.69790913e+00],\n",
              "       [-7.75819072e-01,  2.43895931e-01, -1.97027784e-01, ...,\n",
              "        -1.00159987e+00, -1.22148450e+00, -1.69790913e+00],\n",
              "       [-7.30455796e-01,  5.96020061e-01, -1.92087031e-03, ...,\n",
              "        -1.00159987e+00, -1.22148450e+00, -1.69790913e+00],\n",
              "       ...,\n",
              "       [-6.17241535e-01, -7.72568488e-01,  4.09095799e-01, ...,\n",
              "         9.98402687e-01,  1.97022938e+00,  1.71311816e+00],\n",
              "       [-5.47010629e-01, -7.09855298e-01,  4.08793826e-01, ...,\n",
              "         9.98402687e-01,  1.97022938e+00,  1.71311816e+00],\n",
              "       [-3.62849339e-01, -7.85400905e-01,  1.28833238e-01, ...,\n",
              "         9.98402687e-01,  1.97022938e+00,  1.71311816e+00]])"
            ]
          },
          "metadata": {},
          "execution_count": 89
        }
      ]
    },
    {
      "cell_type": "code",
      "source": [
        "from sklearn.preprocessing import StandardScaler\n",
        "sc=StandardScaler()\n",
        "x2=sc.fit_transform(x2)\n",
        "x2"
      ],
      "metadata": {
        "colab": {
          "base_uri": "https://localhost:8080/"
        },
        "id": "hZdYUYw4tygT",
        "outputId": "6e6333f3-89d2-451d-cc05-a82395c2dfd4"
      },
      "execution_count": 90,
      "outputs": [
        {
          "output_type": "execute_result",
          "data": {
            "text/plain": [
              "array([[-0.08785853, -0.65640948,  0.32048989, ..., -0.69702769,\n",
              "        -1.00159987, -1.2214845 ],\n",
              "       [-0.03546672, -0.77581907,  0.24389593, ..., -0.69702769,\n",
              "        -1.00159987, -1.2214845 ],\n",
              "       [-1.27931307, -0.7304558 ,  0.59602006, ..., -0.69702769,\n",
              "        -1.00159987, -1.2214845 ],\n",
              "       ...,\n",
              "       [ 1.15009185, -0.61724153, -0.77256849, ..., -0.69702769,\n",
              "         0.99840269,  1.97022938],\n",
              "       [ 1.26855203, -0.54701063, -0.7098553 , ..., -0.69702769,\n",
              "         0.99840269,  1.97022938],\n",
              "       [ 0.61891043, -0.36284934, -0.78540091, ..., -0.69702769,\n",
              "         0.99840269,  1.97022938]])"
            ]
          },
          "metadata": {},
          "execution_count": 90
        }
      ]
    },
    {
      "cell_type": "markdown",
      "source": [
        "# Using Linear Regression Model"
      ],
      "metadata": {
        "id": "VKM99g3irqPU"
      }
    },
    {
      "cell_type": "code",
      "source": [
        "from sklearn.linear_model import LinearRegression\n",
        "from sklearn.model_selection import train_test_split\n",
        "from sklearn.metrics import mean_absolute_error,mean_squared_error\n",
        "from sklearn.metrics import r2_score\n",
        "\n",
        "\n",
        "for i in range(1,100):\n",
        "  x_train,x_test,y_train,y_test=train_test_split(x1,y1,test_size=.20,random_state=i)\n",
        "  lr=LinearRegression()\n",
        "  lr.fit(x_train,y_train)\n",
        "  pred_train=lr.predict(x_train)\n",
        "  pred_test=lr.predict(x_test)\n",
        "  print(f\"At random state {i},the training accuracy is :- {r2_score(y_train,pred_train)*100}\")\n",
        "  print(f\"At random state {i},the testing accuracy is :- {r2_score(y_test,pred_test)*100}\")\n",
        "  print(\"\\n\")"
      ],
      "metadata": {
        "colab": {
          "base_uri": "https://localhost:8080/"
        },
        "id": "tzVmr4fovMI2",
        "outputId": "630486b9-5864-48aa-89e0-0c91a0df65c9"
      },
      "execution_count": 91,
      "outputs": [
        {
          "output_type": "stream",
          "name": "stdout",
          "text": [
            "At random state 1,the training accuracy is :- 52.82013764858764\n",
            "At random state 1,the testing accuracy is :- 51.27039357670462\n",
            "\n",
            "\n",
            "At random state 2,the training accuracy is :- 53.33247542790404\n",
            "At random state 2,the testing accuracy is :- 49.137416763111915\n",
            "\n",
            "\n",
            "At random state 3,the training accuracy is :- 52.77730902256399\n",
            "At random state 3,the testing accuracy is :- 51.4454754007174\n",
            "\n",
            "\n",
            "At random state 4,the training accuracy is :- 52.50983122868431\n",
            "At random state 4,the testing accuracy is :- 52.57019555383589\n",
            "\n",
            "\n",
            "At random state 5,the training accuracy is :- 52.401102549036494\n",
            "At random state 5,the testing accuracy is :- 53.009245143147844\n",
            "\n",
            "\n",
            "At random state 6,the training accuracy is :- 52.392569712626425\n",
            "At random state 6,the testing accuracy is :- 53.04823079022795\n",
            "\n",
            "\n",
            "At random state 7,the training accuracy is :- 52.17598159144876\n",
            "At random state 7,the testing accuracy is :- 53.847604423856744\n",
            "\n",
            "\n",
            "At random state 8,the training accuracy is :- 52.27435200908622\n",
            "At random state 8,the testing accuracy is :- 53.467246463804564\n",
            "\n",
            "\n",
            "At random state 9,the training accuracy is :- 52.42542352269677\n",
            "At random state 9,the testing accuracy is :- 52.87867149033322\n",
            "\n",
            "\n",
            "At random state 10,the training accuracy is :- 52.619795728911825\n",
            "At random state 10,the testing accuracy is :- 52.14587695000888\n",
            "\n",
            "\n",
            "At random state 11,the training accuracy is :- 52.562648751916875\n",
            "At random state 11,the testing accuracy is :- 52.36512500802411\n",
            "\n",
            "\n",
            "At random state 12,the training accuracy is :- 52.75011659984421\n",
            "At random state 12,the testing accuracy is :- 51.58217371581746\n",
            "\n",
            "\n",
            "At random state 13,the training accuracy is :- 52.54415581755272\n",
            "At random state 13,the testing accuracy is :- 52.4582967974869\n",
            "\n",
            "\n",
            "At random state 14,the training accuracy is :- 51.9917959421865\n",
            "At random state 14,the testing accuracy is :- 54.712957217541216\n",
            "\n",
            "\n",
            "At random state 15,the training accuracy is :- 52.62549138772011\n",
            "At random state 15,the testing accuracy is :- 52.08150212213929\n",
            "\n",
            "\n",
            "At random state 16,the training accuracy is :- 52.761866468743236\n",
            "At random state 16,the testing accuracy is :- 51.55187339027384\n",
            "\n",
            "\n",
            "At random state 17,the training accuracy is :- 52.387719922594655\n",
            "At random state 17,the testing accuracy is :- 53.06043887586049\n",
            "\n",
            "\n",
            "At random state 18,the training accuracy is :- 52.612815650823016\n",
            "At random state 18,the testing accuracy is :- 52.13401884086524\n",
            "\n",
            "\n",
            "At random state 19,the training accuracy is :- 52.48055561131153\n",
            "At random state 19,the testing accuracy is :- 52.68586263593077\n",
            "\n",
            "\n",
            "At random state 20,the training accuracy is :- 52.432249462583826\n",
            "At random state 20,the testing accuracy is :- 52.862056839248254\n",
            "\n",
            "\n",
            "At random state 21,the training accuracy is :- 52.431370313692625\n",
            "At random state 21,the testing accuracy is :- 52.88540621253206\n",
            "\n",
            "\n",
            "At random state 22,the training accuracy is :- 52.31738891778801\n",
            "At random state 22,the testing accuracy is :- 53.3316258297891\n",
            "\n",
            "\n",
            "At random state 23,the training accuracy is :- 52.46596646190718\n",
            "At random state 23,the testing accuracy is :- 52.735615438744944\n",
            "\n",
            "\n",
            "At random state 24,the training accuracy is :- 52.943066150606754\n",
            "At random state 24,the testing accuracy is :- 50.843187444370606\n",
            "\n",
            "\n",
            "At random state 25,the training accuracy is :- 52.42876411192504\n",
            "At random state 25,the testing accuracy is :- 52.89957126601224\n",
            "\n",
            "\n",
            "At random state 26,the training accuracy is :- 52.29109503266807\n",
            "At random state 26,the testing accuracy is :- 53.44007786653038\n",
            "\n",
            "\n",
            "At random state 27,the training accuracy is :- 52.289653784325466\n",
            "At random state 27,the testing accuracy is :- 53.43884770559768\n",
            "\n",
            "\n",
            "At random state 28,the training accuracy is :- 52.3833984337419\n",
            "At random state 28,the testing accuracy is :- 53.052859754679524\n",
            "\n",
            "\n",
            "At random state 29,the training accuracy is :- 52.47279192696108\n",
            "At random state 29,the testing accuracy is :- 52.711735814928595\n",
            "\n",
            "\n",
            "At random state 30,the training accuracy is :- 52.38395512926986\n",
            "At random state 30,the testing accuracy is :- 53.04937374672119\n",
            "\n",
            "\n",
            "At random state 31,the training accuracy is :- 52.028466965263355\n",
            "At random state 31,the testing accuracy is :- 54.41687688618675\n",
            "\n",
            "\n",
            "At random state 32,the training accuracy is :- 52.32840883049184\n",
            "At random state 32,the testing accuracy is :- 53.28677566173741\n",
            "\n",
            "\n",
            "At random state 33,the training accuracy is :- 52.10377304063319\n",
            "At random state 33,the testing accuracy is :- 54.12617174723546\n",
            "\n",
            "\n",
            "At random state 34,the training accuracy is :- 53.071600447523636\n",
            "At random state 34,the testing accuracy is :- 50.35160414984432\n",
            "\n",
            "\n",
            "At random state 35,the training accuracy is :- 53.0633741193532\n",
            "At random state 35,the testing accuracy is :- 50.17119574030839\n",
            "\n",
            "\n",
            "At random state 36,the training accuracy is :- 52.43695633809041\n",
            "At random state 36,the testing accuracy is :- 52.8273886435593\n",
            "\n",
            "\n",
            "At random state 37,the training accuracy is :- 52.7131350327474\n",
            "At random state 37,the testing accuracy is :- 51.76025237483772\n",
            "\n",
            "\n",
            "At random state 38,the training accuracy is :- 52.43353283464306\n",
            "At random state 38,the testing accuracy is :- 52.830119306615565\n",
            "\n",
            "\n",
            "At random state 39,the training accuracy is :- 52.68212353781212\n",
            "At random state 39,the testing accuracy is :- 51.80859785390935\n",
            "\n",
            "\n",
            "At random state 40,the training accuracy is :- 52.699180586944216\n",
            "At random state 40,the testing accuracy is :- 51.78042727781329\n",
            "\n",
            "\n",
            "At random state 41,the training accuracy is :- 52.583963965445555\n",
            "At random state 41,the testing accuracy is :- 52.29189766506253\n",
            "\n",
            "\n",
            "At random state 42,the training accuracy is :- 52.71163463721828\n",
            "At random state 42,the testing accuracy is :- 51.78212560180454\n",
            "\n",
            "\n",
            "At random state 43,the training accuracy is :- 52.907897892411704\n",
            "At random state 43,the testing accuracy is :- 50.93636115043956\n",
            "\n",
            "\n",
            "At random state 44,the training accuracy is :- 52.763961191563794\n",
            "At random state 44,the testing accuracy is :- 51.52474538476517\n",
            "\n",
            "\n",
            "At random state 45,the training accuracy is :- 52.49792065200369\n",
            "At random state 45,the testing accuracy is :- 52.58298117009298\n",
            "\n",
            "\n",
            "At random state 46,the training accuracy is :- 52.51955431313073\n",
            "At random state 46,the testing accuracy is :- 52.55457598812403\n",
            "\n",
            "\n",
            "At random state 47,the training accuracy is :- 52.770407713761244\n",
            "At random state 47,the testing accuracy is :- 51.5586515600589\n",
            "\n",
            "\n",
            "At random state 48,the training accuracy is :- 52.43147683461986\n",
            "At random state 48,the testing accuracy is :- 52.77808930109469\n",
            "\n",
            "\n",
            "At random state 49,the training accuracy is :- 52.582753830094234\n",
            "At random state 49,the testing accuracy is :- 52.29519991488345\n",
            "\n",
            "\n",
            "At random state 50,the training accuracy is :- 52.65236469686623\n",
            "At random state 50,the testing accuracy is :- 51.974318895421135\n",
            "\n",
            "\n",
            "At random state 51,the training accuracy is :- 52.530438989710085\n",
            "At random state 51,the testing accuracy is :- 52.495418255183694\n",
            "\n",
            "\n",
            "At random state 52,the training accuracy is :- 52.60315308822066\n",
            "At random state 52,the testing accuracy is :- 52.17649633291636\n",
            "\n",
            "\n",
            "At random state 53,the training accuracy is :- 52.250862804240086\n",
            "At random state 53,the testing accuracy is :- 53.555539126460594\n",
            "\n",
            "\n",
            "At random state 54,the training accuracy is :- 52.32441514667616\n",
            "At random state 54,the testing accuracy is :- 53.262882736758144\n",
            "\n",
            "\n",
            "At random state 55,the training accuracy is :- 52.63595729193364\n",
            "At random state 55,the testing accuracy is :- 52.062925986693884\n",
            "\n",
            "\n",
            "At random state 56,the training accuracy is :- 52.603524646974954\n",
            "At random state 56,the testing accuracy is :- 52.12705193707842\n",
            "\n",
            "\n",
            "At random state 57,the training accuracy is :- 52.821287637116754\n",
            "At random state 57,the testing accuracy is :- 51.27929298720173\n",
            "\n",
            "\n",
            "At random state 58,the training accuracy is :- 52.67517292535435\n",
            "At random state 58,the testing accuracy is :- 51.90689838191018\n",
            "\n",
            "\n",
            "At random state 59,the training accuracy is :- 52.49634856597094\n",
            "At random state 59,the testing accuracy is :- 52.61656974306575\n",
            "\n",
            "\n",
            "At random state 60,the training accuracy is :- 52.499759770291085\n",
            "At random state 60,the testing accuracy is :- 52.604410847081226\n",
            "\n",
            "\n",
            "At random state 61,the training accuracy is :- 52.05454782931829\n",
            "At random state 61,the testing accuracy is :- 54.384061601195555\n",
            "\n",
            "\n",
            "At random state 62,the training accuracy is :- 52.54153888348091\n",
            "At random state 62,the testing accuracy is :- 52.445723481406816\n",
            "\n",
            "\n",
            "At random state 63,the training accuracy is :- 52.56743893829206\n",
            "At random state 63,the testing accuracy is :- 52.31316071977925\n",
            "\n",
            "\n",
            "At random state 64,the training accuracy is :- 52.340645568015546\n",
            "At random state 64,the testing accuracy is :- 53.252779340284675\n",
            "\n",
            "\n",
            "At random state 65,the training accuracy is :- 52.618334688506266\n",
            "At random state 65,the testing accuracy is :- 52.09565576700632\n",
            "\n",
            "\n",
            "At random state 66,the training accuracy is :- 52.46528294663367\n",
            "At random state 66,the testing accuracy is :- 52.74090669884583\n",
            "\n",
            "\n",
            "At random state 67,the training accuracy is :- 52.62009178595197\n",
            "At random state 67,the testing accuracy is :- 52.09428075113745\n",
            "\n",
            "\n",
            "At random state 68,the training accuracy is :- 52.56115270583817\n",
            "At random state 68,the testing accuracy is :- 52.337819897623596\n",
            "\n",
            "\n",
            "At random state 69,the training accuracy is :- 52.50844151210414\n",
            "At random state 69,the testing accuracy is :- 52.53322346105197\n",
            "\n",
            "\n",
            "At random state 70,the training accuracy is :- 52.48718879064344\n",
            "At random state 70,the testing accuracy is :- 52.687435798787696\n",
            "\n",
            "\n",
            "At random state 71,the training accuracy is :- 52.263833384962325\n",
            "At random state 71,the testing accuracy is :- 53.55511666837326\n",
            "\n",
            "\n",
            "At random state 72,the training accuracy is :- 52.86818300704626\n",
            "At random state 72,the testing accuracy is :- 51.19282268774772\n",
            "\n",
            "\n",
            "At random state 73,the training accuracy is :- 52.849647851033986\n",
            "At random state 73,the testing accuracy is :- 51.17578260644768\n",
            "\n",
            "\n",
            "At random state 74,the training accuracy is :- 53.11371828379815\n",
            "At random state 74,the testing accuracy is :- 49.96552531658751\n",
            "\n",
            "\n",
            "At random state 75,the training accuracy is :- 52.1478218039237\n",
            "At random state 75,the testing accuracy is :- 53.890920296618674\n",
            "\n",
            "\n",
            "At random state 76,the training accuracy is :- 52.30520977143207\n",
            "At random state 76,the testing accuracy is :- 53.31405193718878\n",
            "\n",
            "\n",
            "At random state 77,the training accuracy is :- 52.5265388486944\n",
            "At random state 77,the testing accuracy is :- 52.48774613812206\n",
            "\n",
            "\n",
            "At random state 78,the training accuracy is :- 52.110188215957066\n",
            "At random state 78,the testing accuracy is :- 54.09246663948437\n",
            "\n",
            "\n",
            "At random state 79,the training accuracy is :- 51.85866176285408\n",
            "At random state 79,the testing accuracy is :- 55.06927148229639\n",
            "\n",
            "\n",
            "At random state 80,the training accuracy is :- 52.44676276236828\n",
            "At random state 80,the testing accuracy is :- 52.80464998131782\n",
            "\n",
            "\n",
            "At random state 81,the training accuracy is :- 52.39135463146847\n",
            "At random state 81,the testing accuracy is :- 53.03744740421061\n",
            "\n",
            "\n",
            "At random state 82,the training accuracy is :- 52.61529373098111\n",
            "At random state 82,the testing accuracy is :- 52.12079173593131\n",
            "\n",
            "\n",
            "At random state 83,the training accuracy is :- 52.71901441566771\n",
            "At random state 83,the testing accuracy is :- 51.66414363392382\n",
            "\n",
            "\n",
            "At random state 84,the training accuracy is :- 52.65758539953246\n",
            "At random state 84,the testing accuracy is :- 51.94907027534131\n",
            "\n",
            "\n",
            "At random state 85,the training accuracy is :- 52.52737015538165\n",
            "At random state 85,the testing accuracy is :- 52.48692253441236\n",
            "\n",
            "\n",
            "At random state 86,the training accuracy is :- 52.23619305453246\n",
            "At random state 86,the testing accuracy is :- 53.62711358123502\n",
            "\n",
            "\n",
            "At random state 87,the training accuracy is :- 52.066909124763924\n",
            "At random state 87,the testing accuracy is :- 54.237275501830986\n",
            "\n",
            "\n",
            "At random state 88,the training accuracy is :- 52.931157940375485\n",
            "At random state 88,the testing accuracy is :- 50.79419553885103\n",
            "\n",
            "\n",
            "At random state 89,the training accuracy is :- 52.41814951569975\n",
            "At random state 89,the testing accuracy is :- 52.93032270497022\n",
            "\n",
            "\n",
            "At random state 90,the training accuracy is :- 52.586945968064235\n",
            "At random state 90,the testing accuracy is :- 52.28785728548533\n",
            "\n",
            "\n",
            "At random state 91,the training accuracy is :- 52.278422158615754\n",
            "At random state 91,the testing accuracy is :- 53.53707005227153\n",
            "\n",
            "\n",
            "At random state 92,the training accuracy is :- 52.40158542298088\n",
            "At random state 92,the testing accuracy is :- 52.99527299425073\n",
            "\n",
            "\n",
            "At random state 93,the training accuracy is :- 52.52017669295086\n",
            "At random state 93,the testing accuracy is :- 52.516003999779784\n",
            "\n",
            "\n",
            "At random state 94,the training accuracy is :- 52.67406119659505\n",
            "At random state 94,the testing accuracy is :- 51.919025674830024\n",
            "\n",
            "\n",
            "At random state 95,the training accuracy is :- 52.74071654721191\n",
            "At random state 95,the testing accuracy is :- 51.620883908647585\n",
            "\n",
            "\n",
            "At random state 96,the training accuracy is :- 52.54202929648362\n",
            "At random state 96,the testing accuracy is :- 52.41729298063169\n",
            "\n",
            "\n",
            "At random state 97,the training accuracy is :- 52.7736597440015\n",
            "At random state 97,the testing accuracy is :- 51.430541122447885\n",
            "\n",
            "\n",
            "At random state 98,the training accuracy is :- 53.00216275228862\n",
            "At random state 98,the testing accuracy is :- 50.635277213248074\n",
            "\n",
            "\n",
            "At random state 99,the training accuracy is :- 52.28453771077477\n",
            "At random state 99,the testing accuracy is :- 53.40452594177136\n",
            "\n",
            "\n"
          ]
        }
      ]
    },
    {
      "cell_type": "code",
      "source": [
        "x_train,x_test,y_train,y_test=train_test_split(x1,y1,test_size=.20,random_state=41)"
      ],
      "metadata": {
        "id": "YRRKPL3VvSze"
      },
      "execution_count": 92,
      "outputs": []
    },
    {
      "cell_type": "code",
      "source": [
        "pred=lr.predict(x1)\n",
        "print(\"predicted result \",pred)\n",
        "print('actual result',y_test)"
      ],
      "metadata": {
        "colab": {
          "base_uri": "https://localhost:8080/"
        },
        "id": "C6zfDK3Ovq1v",
        "outputId": "9d0e0ba3-814d-4618-9e1c-a6a0fdec6d2e"
      },
      "execution_count": 93,
      "outputs": [
        {
          "output_type": "stream",
          "name": "stdout",
          "text": [
            "predicted result  [-0.23777922 -0.26058883 -0.08892245 ...  1.17045123  1.14614855\n",
            "  1.05504975]\n",
            "actual result 2670    -0.793421\n",
            "10435    0.794735\n",
            "16349    0.773059\n",
            "9195     0.411093\n",
            "16061   -0.356539\n",
            "           ...   \n",
            "6928     0.816307\n",
            "3906    -0.732807\n",
            "10486    0.640729\n",
            "9385     1.067243\n",
            "5091    -1.108448\n",
            "Name: AveragePrice, Length: 3629, dtype: float64\n"
          ]
        }
      ]
    },
    {
      "cell_type": "markdown",
      "source": [
        "# DEcission Tree Regression"
      ],
      "metadata": {
        "id": "UTKOgWk9rzde"
      }
    },
    {
      "cell_type": "code",
      "source": [
        "from sklearn.tree import DecisionTreeRegressor\n",
        "dtr=DecisionTreeRegressor()\n",
        "dtr.fit(x_train,y_train)"
      ],
      "metadata": {
        "colab": {
          "base_uri": "https://localhost:8080/"
        },
        "id": "Z-mmmCXvwCMe",
        "outputId": "68883225-8037-4135-b8fc-f4931fe924e4"
      },
      "execution_count": 94,
      "outputs": [
        {
          "output_type": "execute_result",
          "data": {
            "text/plain": [
              "DecisionTreeRegressor()"
            ]
          },
          "metadata": {},
          "execution_count": 94
        }
      ]
    },
    {
      "cell_type": "code",
      "source": [
        "pred=dtr.predict(x_test)\n",
        "print(\"predicted result \",pred)\n",
        "print('actual result',y_test)"
      ],
      "metadata": {
        "colab": {
          "base_uri": "https://localhost:8080/"
        },
        "id": "4G92mtuTwRF9",
        "outputId": "70cd2475-8c25-4321-853b-9c9516895ce2"
      },
      "execution_count": 95,
      "outputs": [
        {
          "output_type": "stream",
          "name": "stdout",
          "text": [
            "predicted result  [-0.85480848  0.90155342  0.90155342 ...  0.61828746  1.28524746\n",
            " -0.94837748]\n",
            "actual result 2670    -0.793421\n",
            "10435    0.794735\n",
            "16349    0.773059\n",
            "9195     0.411093\n",
            "16061   -0.356539\n",
            "           ...   \n",
            "6928     0.816307\n",
            "3906    -0.732807\n",
            "10486    0.640729\n",
            "9385     1.067243\n",
            "5091    -1.108448\n",
            "Name: AveragePrice, Length: 3629, dtype: float64\n"
          ]
        }
      ]
    },
    {
      "cell_type": "code",
      "source": [
        "print('Error:')\n",
        "print('Mean Absolute Error :',mean_absolute_error(y_test,pred))\n",
        "print('Mean Squared Error :',mean_squared_error(y_test,pred))\n",
        "print('Root mean Squared Error',np.sqrt(mean_squared_error(y_test,pred)))\n",
        "print('r2 score :',r2_score(y_test,pred)*100)"
      ],
      "metadata": {
        "colab": {
          "base_uri": "https://localhost:8080/"
        },
        "id": "M4YH0brDwUSe",
        "outputId": "54869ec0-06bf-4c7b-ab23-47701b39472e"
      },
      "execution_count": 96,
      "outputs": [
        {
          "output_type": "stream",
          "name": "stdout",
          "text": [
            "Error:\n",
            "Mean Absolute Error : 0.3602869611612667\n",
            "Mean Squared Error : 0.29862686645776476\n",
            "Root mean Squared Error 0.546467626175389\n",
            "r2 score : 70.28376659734491\n"
          ]
        }
      ]
    },
    {
      "cell_type": "code",
      "source": [
        "from sklearn.linear_model import Lasso\n",
        "from sklearn.model_selection import GridSearchCV\n",
        "\n",
        "parameters = {'alpha':[.0001,.001,.01,.1,1,10],'random_state':list(range(0,10))}\n",
        "ls=Lasso()\n",
        "clf=GridSearchCV(ls,parameters)\n",
        "clf.fit(x_train,y_train)\n",
        "\n",
        "print(clf.best_params_)"
      ],
      "metadata": {
        "colab": {
          "base_uri": "https://localhost:8080/"
        },
        "id": "f3nxsBUFwXJ-",
        "outputId": "48754a44-1c24-488f-de77-5f3152d605c8"
      },
      "execution_count": 43,
      "outputs": [
        {
          "output_type": "stream",
          "name": "stdout",
          "text": [
            "{'alpha': 0.0001, 'random_state': 0}\n"
          ]
        }
      ]
    },
    {
      "cell_type": "code",
      "source": [
        "ls=Lasso(alpha=0.0001,random_state=0)\n",
        "ls.fit(x_train,y_train)\n",
        "ls_score_training=ls.score(x_train,y_train)\n",
        "pred_ls = ls.predict(x_test)\n",
        "ls_score_training*100"
      ],
      "metadata": {
        "colab": {
          "base_uri": "https://localhost:8080/"
        },
        "id": "BeBCKW5Bwcl2",
        "outputId": "9f00d932-936d-4500-f7ac-9de04ab48811"
      },
      "execution_count": 44,
      "outputs": [
        {
          "output_type": "execute_result",
          "data": {
            "text/plain": [
              "52.5639454536305"
            ]
          },
          "metadata": {},
          "execution_count": 44
        }
      ]
    },
    {
      "cell_type": "code",
      "source": [
        "from sklearn.ensemble import RandomForestRegressor\n",
        "Rrf=RandomForestRegressor()\n",
        "\n",
        "parameters = {'criterion':['mse','mae'],'max_features':[\"auto\",\"sqrt\",\"log2\"]}\n",
        "clf = GridSearchCV(Rrf,parameters)\n",
        "clf.fit(x_train,y_train)\n",
        "\n",
        "print(clf.best_params_)"
      ],
      "metadata": {
        "colab": {
          "base_uri": "https://localhost:8080/"
        },
        "id": "bAB9I4KzwhIe",
        "outputId": "037cdcbc-ed71-4aec-e5ab-87d7f21cbe45"
      },
      "execution_count": 45,
      "outputs": [
        {
          "output_type": "stream",
          "name": "stderr",
          "text": [
            "/usr/local/lib/python3.7/dist-packages/sklearn/ensemble/_forest.py:400: FutureWarning: Criterion 'mse' was deprecated in v1.0 and will be removed in version 1.2. Use `criterion='squared_error'` which is equivalent.\n",
            "  FutureWarning,\n",
            "/usr/local/lib/python3.7/dist-packages/sklearn/ensemble/_forest.py:400: FutureWarning: Criterion 'mse' was deprecated in v1.0 and will be removed in version 1.2. Use `criterion='squared_error'` which is equivalent.\n",
            "  FutureWarning,\n",
            "/usr/local/lib/python3.7/dist-packages/sklearn/ensemble/_forest.py:400: FutureWarning: Criterion 'mse' was deprecated in v1.0 and will be removed in version 1.2. Use `criterion='squared_error'` which is equivalent.\n",
            "  FutureWarning,\n",
            "/usr/local/lib/python3.7/dist-packages/sklearn/ensemble/_forest.py:400: FutureWarning: Criterion 'mse' was deprecated in v1.0 and will be removed in version 1.2. Use `criterion='squared_error'` which is equivalent.\n",
            "  FutureWarning,\n",
            "/usr/local/lib/python3.7/dist-packages/sklearn/ensemble/_forest.py:400: FutureWarning: Criterion 'mse' was deprecated in v1.0 and will be removed in version 1.2. Use `criterion='squared_error'` which is equivalent.\n",
            "  FutureWarning,\n",
            "/usr/local/lib/python3.7/dist-packages/sklearn/ensemble/_forest.py:400: FutureWarning: Criterion 'mse' was deprecated in v1.0 and will be removed in version 1.2. Use `criterion='squared_error'` which is equivalent.\n",
            "  FutureWarning,\n",
            "/usr/local/lib/python3.7/dist-packages/sklearn/ensemble/_forest.py:400: FutureWarning: Criterion 'mse' was deprecated in v1.0 and will be removed in version 1.2. Use `criterion='squared_error'` which is equivalent.\n",
            "  FutureWarning,\n",
            "/usr/local/lib/python3.7/dist-packages/sklearn/ensemble/_forest.py:400: FutureWarning: Criterion 'mse' was deprecated in v1.0 and will be removed in version 1.2. Use `criterion='squared_error'` which is equivalent.\n",
            "  FutureWarning,\n",
            "/usr/local/lib/python3.7/dist-packages/sklearn/ensemble/_forest.py:400: FutureWarning: Criterion 'mse' was deprecated in v1.0 and will be removed in version 1.2. Use `criterion='squared_error'` which is equivalent.\n",
            "  FutureWarning,\n",
            "/usr/local/lib/python3.7/dist-packages/sklearn/ensemble/_forest.py:400: FutureWarning: Criterion 'mse' was deprecated in v1.0 and will be removed in version 1.2. Use `criterion='squared_error'` which is equivalent.\n",
            "  FutureWarning,\n",
            "/usr/local/lib/python3.7/dist-packages/sklearn/ensemble/_forest.py:400: FutureWarning: Criterion 'mse' was deprecated in v1.0 and will be removed in version 1.2. Use `criterion='squared_error'` which is equivalent.\n",
            "  FutureWarning,\n",
            "/usr/local/lib/python3.7/dist-packages/sklearn/ensemble/_forest.py:400: FutureWarning: Criterion 'mse' was deprecated in v1.0 and will be removed in version 1.2. Use `criterion='squared_error'` which is equivalent.\n",
            "  FutureWarning,\n",
            "/usr/local/lib/python3.7/dist-packages/sklearn/ensemble/_forest.py:400: FutureWarning: Criterion 'mse' was deprecated in v1.0 and will be removed in version 1.2. Use `criterion='squared_error'` which is equivalent.\n",
            "  FutureWarning,\n",
            "/usr/local/lib/python3.7/dist-packages/sklearn/ensemble/_forest.py:400: FutureWarning: Criterion 'mse' was deprecated in v1.0 and will be removed in version 1.2. Use `criterion='squared_error'` which is equivalent.\n",
            "  FutureWarning,\n",
            "/usr/local/lib/python3.7/dist-packages/sklearn/ensemble/_forest.py:400: FutureWarning: Criterion 'mse' was deprecated in v1.0 and will be removed in version 1.2. Use `criterion='squared_error'` which is equivalent.\n",
            "  FutureWarning,\n",
            "/usr/local/lib/python3.7/dist-packages/sklearn/ensemble/_forest.py:407: FutureWarning: Criterion 'mae' was deprecated in v1.0 and will be removed in version 1.2. Use `criterion='absolute_error'` which is equivalent.\n",
            "  FutureWarning,\n",
            "/usr/local/lib/python3.7/dist-packages/sklearn/ensemble/_forest.py:407: FutureWarning: Criterion 'mae' was deprecated in v1.0 and will be removed in version 1.2. Use `criterion='absolute_error'` which is equivalent.\n",
            "  FutureWarning,\n",
            "/usr/local/lib/python3.7/dist-packages/sklearn/ensemble/_forest.py:407: FutureWarning: Criterion 'mae' was deprecated in v1.0 and will be removed in version 1.2. Use `criterion='absolute_error'` which is equivalent.\n",
            "  FutureWarning,\n",
            "/usr/local/lib/python3.7/dist-packages/sklearn/ensemble/_forest.py:407: FutureWarning: Criterion 'mae' was deprecated in v1.0 and will be removed in version 1.2. Use `criterion='absolute_error'` which is equivalent.\n",
            "  FutureWarning,\n",
            "/usr/local/lib/python3.7/dist-packages/sklearn/ensemble/_forest.py:407: FutureWarning: Criterion 'mae' was deprecated in v1.0 and will be removed in version 1.2. Use `criterion='absolute_error'` which is equivalent.\n",
            "  FutureWarning,\n",
            "/usr/local/lib/python3.7/dist-packages/sklearn/ensemble/_forest.py:407: FutureWarning: Criterion 'mae' was deprecated in v1.0 and will be removed in version 1.2. Use `criterion='absolute_error'` which is equivalent.\n",
            "  FutureWarning,\n",
            "/usr/local/lib/python3.7/dist-packages/sklearn/ensemble/_forest.py:407: FutureWarning: Criterion 'mae' was deprecated in v1.0 and will be removed in version 1.2. Use `criterion='absolute_error'` which is equivalent.\n",
            "  FutureWarning,\n",
            "/usr/local/lib/python3.7/dist-packages/sklearn/ensemble/_forest.py:407: FutureWarning: Criterion 'mae' was deprecated in v1.0 and will be removed in version 1.2. Use `criterion='absolute_error'` which is equivalent.\n",
            "  FutureWarning,\n",
            "/usr/local/lib/python3.7/dist-packages/sklearn/ensemble/_forest.py:407: FutureWarning: Criterion 'mae' was deprecated in v1.0 and will be removed in version 1.2. Use `criterion='absolute_error'` which is equivalent.\n",
            "  FutureWarning,\n",
            "/usr/local/lib/python3.7/dist-packages/sklearn/ensemble/_forest.py:407: FutureWarning: Criterion 'mae' was deprecated in v1.0 and will be removed in version 1.2. Use `criterion='absolute_error'` which is equivalent.\n",
            "  FutureWarning,\n",
            "/usr/local/lib/python3.7/dist-packages/sklearn/ensemble/_forest.py:407: FutureWarning: Criterion 'mae' was deprecated in v1.0 and will be removed in version 1.2. Use `criterion='absolute_error'` which is equivalent.\n",
            "  FutureWarning,\n",
            "/usr/local/lib/python3.7/dist-packages/sklearn/ensemble/_forest.py:407: FutureWarning: Criterion 'mae' was deprecated in v1.0 and will be removed in version 1.2. Use `criterion='absolute_error'` which is equivalent.\n",
            "  FutureWarning,\n",
            "/usr/local/lib/python3.7/dist-packages/sklearn/ensemble/_forest.py:407: FutureWarning: Criterion 'mae' was deprecated in v1.0 and will be removed in version 1.2. Use `criterion='absolute_error'` which is equivalent.\n",
            "  FutureWarning,\n",
            "/usr/local/lib/python3.7/dist-packages/sklearn/ensemble/_forest.py:407: FutureWarning: Criterion 'mae' was deprecated in v1.0 and will be removed in version 1.2. Use `criterion='absolute_error'` which is equivalent.\n",
            "  FutureWarning,\n",
            "/usr/local/lib/python3.7/dist-packages/sklearn/ensemble/_forest.py:407: FutureWarning: Criterion 'mae' was deprecated in v1.0 and will be removed in version 1.2. Use `criterion='absolute_error'` which is equivalent.\n",
            "  FutureWarning,\n",
            "/usr/local/lib/python3.7/dist-packages/sklearn/ensemble/_forest.py:400: FutureWarning: Criterion 'mse' was deprecated in v1.0 and will be removed in version 1.2. Use `criterion='squared_error'` which is equivalent.\n",
            "  FutureWarning,\n"
          ]
        },
        {
          "output_type": "stream",
          "name": "stdout",
          "text": [
            "{'criterion': 'mse', 'max_features': 'log2'}\n"
          ]
        }
      ]
    },
    {
      "cell_type": "code",
      "source": [
        "from sklearn.model_selection import cross_val_score\n",
        "\n",
        "Rrf= RandomForestRegressor(criterion=\"mse\",max_features=\"log2\")\n",
        "Rrf.fit(x_train,y_train)\n",
        "Rrf.score(x_train,y_train)\n",
        "pred_decession = Rrf.predict(x_test)\n",
        "\n",
        "rfs = r2_score(y_test,pred_decession)\n",
        "print('R2 Score :',rfs*100)\n",
        "\n",
        "rfscore = cross_val_score(Rrf,x1,y1,cv=5)\n",
        "rfc=rfscore.mean()\n",
        "print('cross Val Score :',rfc*100)  "
      ],
      "metadata": {
        "id": "WwlmMla1wkMe",
        "colab": {
          "base_uri": "https://localhost:8080/"
        },
        "outputId": "2c20e949-a196-46cf-fc64-63ab004fa53e"
      },
      "execution_count": 47,
      "outputs": [
        {
          "output_type": "stream",
          "name": "stderr",
          "text": [
            "/usr/local/lib/python3.7/dist-packages/sklearn/ensemble/_forest.py:400: FutureWarning: Criterion 'mse' was deprecated in v1.0 and will be removed in version 1.2. Use `criterion='squared_error'` which is equivalent.\n",
            "  FutureWarning,\n"
          ]
        },
        {
          "output_type": "stream",
          "name": "stdout",
          "text": [
            "R2 Score : 86.70678824365828\n"
          ]
        },
        {
          "output_type": "stream",
          "name": "stderr",
          "text": [
            "/usr/local/lib/python3.7/dist-packages/sklearn/ensemble/_forest.py:400: FutureWarning: Criterion 'mse' was deprecated in v1.0 and will be removed in version 1.2. Use `criterion='squared_error'` which is equivalent.\n",
            "  FutureWarning,\n",
            "/usr/local/lib/python3.7/dist-packages/sklearn/ensemble/_forest.py:400: FutureWarning: Criterion 'mse' was deprecated in v1.0 and will be removed in version 1.2. Use `criterion='squared_error'` which is equivalent.\n",
            "  FutureWarning,\n",
            "/usr/local/lib/python3.7/dist-packages/sklearn/ensemble/_forest.py:400: FutureWarning: Criterion 'mse' was deprecated in v1.0 and will be removed in version 1.2. Use `criterion='squared_error'` which is equivalent.\n",
            "  FutureWarning,\n",
            "/usr/local/lib/python3.7/dist-packages/sklearn/ensemble/_forest.py:400: FutureWarning: Criterion 'mse' was deprecated in v1.0 and will be removed in version 1.2. Use `criterion='squared_error'` which is equivalent.\n",
            "  FutureWarning,\n",
            "/usr/local/lib/python3.7/dist-packages/sklearn/ensemble/_forest.py:400: FutureWarning: Criterion 'mse' was deprecated in v1.0 and will be removed in version 1.2. Use `criterion='squared_error'` which is equivalent.\n",
            "  FutureWarning,\n"
          ]
        },
        {
          "output_type": "stream",
          "name": "stdout",
          "text": [
            "cross Val Score : 35.276976733649704\n"
          ]
        }
      ]
    },
    {
      "cell_type": "markdown",
      "source": [
        "# Saving the best Regression Model"
      ],
      "metadata": {
        "id": "q-nBofDDwS9T"
      }
    },
    {
      "cell_type": "markdown",
      "source": [
        "as the r2 score of the random forest is max 82% we consider it as the best model"
      ],
      "metadata": {
        "id": "XvZrF3hGDYOl"
      }
    },
    {
      "cell_type": "code",
      "source": [
        "import pickle\n",
        "filename = 'Avocado Average Price.pkl'\n",
        "pickle.dump(Rrf,open(filename,'wb'))"
      ],
      "metadata": {
        "id": "6oIU_CJKu3gv"
      },
      "execution_count": 49,
      "outputs": []
    },
    {
      "cell_type": "markdown",
      "source": [
        "# Classification Model"
      ],
      "metadata": {
        "id": "n0tjqak1walZ"
      }
    },
    {
      "cell_type": "code",
      "source": [
        "from sklearn.linear_model import LogisticRegression\n",
        "from sklearn.metrics import accuracy_score\n",
        "from sklearn.metrics import confusion_matrix,classification_report\n",
        "from sklearn.model_selection import train_test_split\n",
        "\n",
        "maxAcc=0\n",
        "maxRs=0\n",
        "\n",
        "for i in range(1,200):\n",
        "  x_train,x_test,y_train,y_test=train_test_split(x2,y2,test_size=.20,random_state=i)\n",
        "  lr=LogisticRegression()\n",
        "  lr.fit(x_train,y_train)\n",
        "  predrf=lr.predict(x_test)\n",
        "  acc=accuracy_score(y_test,predrf)\n",
        "  if acc>maxAcc:\n",
        "    maxAcc=acc\n",
        "    maxRs=i\n",
        "\n",
        "print(\"Best Accuracy is\",maxAcc*100,\"on Random State\",maxRs)    "
      ],
      "metadata": {
        "colab": {
          "base_uri": "https://localhost:8080/"
        },
        "id": "8hL41AHsDyMP",
        "outputId": "b4e9b5d4-e6a1-43b1-aafc-65dbaafa848b"
      },
      "execution_count": 98,
      "outputs": [
        {
          "output_type": "stream",
          "name": "stdout",
          "text": [
            "Best Accuracy is 55.166712593000824 on Random State 183\n"
          ]
        }
      ]
    },
    {
      "cell_type": "code",
      "source": [
        "x_train,x_test,y_train,y_test=train_test_split(x2,y2,test_size=.20,random_state=44)"
      ],
      "metadata": {
        "id": "-jZTjOADu8LH"
      },
      "execution_count": 100,
      "outputs": []
    },
    {
      "cell_type": "markdown",
      "source": [
        "# Logistic Regression"
      ],
      "metadata": {
        "id": "okNOGHhKvAVH"
      }
    },
    {
      "cell_type": "code",
      "source": [
        "Lr=LogisticRegression()\n",
        "Lr.fit(x_train,y_train)\n",
        "predlr=Lr.predict(x_test)\n",
        "print(\"Accuracy\",accuracy_score(y_test,predlr)*100)\n",
        "print(confusion_matrix(y_test,predlr))\n",
        "print(classification_report(y_test,predlr))"
      ],
      "metadata": {
        "colab": {
          "base_uri": "https://localhost:8080/"
        },
        "id": "PF3FAkfxu8P_",
        "outputId": "90ee9733-636d-403d-a03f-82018c344bc1"
      },
      "execution_count": 101,
      "outputs": [
        {
          "output_type": "stream",
          "name": "stdout",
          "text": [
            "Accuracy 52.934692752824475\n",
            "[[46  0  0 ...  0  0  0]\n",
            " [ 0 27  0 ...  0  0  0]\n",
            " [ 0  0 36 ...  0  0  4]\n",
            " ...\n",
            " [ 0  0  0 ... 58  1  0]\n",
            " [ 0  0  0 ...  1 66  0]\n",
            " [ 0  7  2 ...  0  0 10]]\n",
            "              precision    recall  f1-score   support\n",
            "\n",
            "           0       0.67      0.59      0.63        78\n",
            "           1       0.26      0.39      0.31        70\n",
            "           2       0.71      0.52      0.60        69\n",
            "           3       0.45      0.41      0.43        61\n",
            "           4       0.39      0.43      0.41        61\n",
            "           5       0.50      0.45      0.47        67\n",
            "           6       0.70      0.88      0.78        59\n",
            "           7       0.55      0.73      0.62        55\n",
            "           8       0.57      0.76      0.65        66\n",
            "           9       0.42      0.80      0.56        56\n",
            "          10       0.49      0.40      0.44        62\n",
            "          11       0.59      0.65      0.62        60\n",
            "          12       0.46      0.48      0.47        67\n",
            "          13       0.23      0.20      0.21        66\n",
            "          14       0.61      0.56      0.58        79\n",
            "          15       0.69      0.78      0.73        73\n",
            "          16       0.57      0.57      0.57        70\n",
            "          17       0.49      0.52      0.51        67\n",
            "          18       0.45      0.57      0.50        69\n",
            "          19       0.49      0.63      0.55        71\n",
            "          20       0.43      0.55      0.48        64\n",
            "          21       0.29      0.19      0.23        73\n",
            "          22       0.70      0.68      0.69        78\n",
            "          23       0.65      0.72      0.68        78\n",
            "          24       0.00      0.00      0.00        68\n",
            "          25       0.64      0.64      0.64        73\n",
            "          26       0.19      0.08      0.11        86\n",
            "          27       0.29      0.54      0.38        61\n",
            "          28       0.72      0.63      0.67        86\n",
            "          29       0.77      0.90      0.83        70\n",
            "          30       0.51      0.45      0.48        60\n",
            "          31       0.42      0.42      0.42        71\n",
            "          32       0.56      0.56      0.56        64\n",
            "          33       0.36      0.31      0.33        65\n",
            "          34       0.20      0.19      0.19        59\n",
            "          35       0.74      0.57      0.64        69\n",
            "          36       0.53      0.23      0.32        74\n",
            "          37       0.57      0.48      0.52        60\n",
            "          38       0.68      0.49      0.57        70\n",
            "          39       0.42      0.48      0.45        69\n",
            "          40       0.60      0.90      0.72        62\n",
            "          41       0.46      0.48      0.47        65\n",
            "          42       0.82      0.79      0.81        58\n",
            "          43       0.46      0.60      0.52        63\n",
            "          44       0.41      0.48      0.44        66\n",
            "          45       0.83      0.88      0.86        74\n",
            "          46       0.73      0.65      0.69        68\n",
            "          47       0.54      0.67      0.60        57\n",
            "          48       0.18      0.06      0.10        62\n",
            "          49       0.58      0.72      0.64        60\n",
            "          50       0.12      0.09      0.10        68\n",
            "          51       0.98      0.98      0.98        59\n",
            "          52       0.79      0.87      0.82        76\n",
            "          53       0.29      0.15      0.20        67\n",
            "\n",
            "    accuracy                           0.53      3629\n",
            "   macro avg       0.51      0.53      0.51      3629\n",
            "weighted avg       0.52      0.53      0.51      3629\n",
            "\n"
          ]
        }
      ]
    },
    {
      "cell_type": "markdown",
      "source": [
        "# Decission tree Classifier"
      ],
      "metadata": {
        "id": "uuSD_I_rvIHT"
      }
    },
    {
      "cell_type": "code",
      "source": [
        "from sklearn.tree import DecisionTreeClassifier\n",
        "\n",
        "dtr=DecisionTreeClassifier()\n",
        "dtr.fit(x_train,y_train)\n",
        "preddtr=dtr.predict(x_test)\n",
        "print(\"Accuracy\",accuracy_score(y_test,preddtr)*100)\n",
        "print(confusion_matrix(y_test,preddtr))\n",
        "print(classification_report(y_test,preddtr))"
      ],
      "metadata": {
        "colab": {
          "base_uri": "https://localhost:8080/"
        },
        "id": "HaShzjeYvMqU",
        "outputId": "dae38716-2872-4cfb-a126-c0e7a91af2b2"
      },
      "execution_count": 102,
      "outputs": [
        {
          "output_type": "stream",
          "name": "stdout",
          "text": [
            "Accuracy 80.27004684486084\n",
            "[[59  0  0 ...  0  0  0]\n",
            " [ 0 48  0 ...  0  0  0]\n",
            " [ 0  0 63 ...  0  0  1]\n",
            " ...\n",
            " [ 0  0  0 ... 59  0  0]\n",
            " [ 0  0  0 ...  0 71  0]\n",
            " [ 0  2  1 ...  0  0 34]]\n",
            "              precision    recall  f1-score   support\n",
            "\n",
            "           0       0.73      0.76      0.74        78\n",
            "           1       0.77      0.69      0.73        70\n",
            "           2       0.88      0.91      0.89        69\n",
            "           3       0.78      0.82      0.80        61\n",
            "           4       0.87      0.89      0.88        61\n",
            "           5       0.71      0.79      0.75        67\n",
            "           6       1.00      0.93      0.96        59\n",
            "           7       0.81      0.87      0.84        55\n",
            "           8       0.95      0.86      0.90        66\n",
            "           9       0.75      0.84      0.79        56\n",
            "          10       0.61      0.71      0.66        62\n",
            "          11       0.88      0.87      0.87        60\n",
            "          12       0.92      0.90      0.91        67\n",
            "          13       0.70      0.71      0.71        66\n",
            "          14       0.83      0.75      0.79        79\n",
            "          15       0.96      0.96      0.96        73\n",
            "          16       0.90      0.89      0.89        70\n",
            "          17       0.75      0.81      0.78        67\n",
            "          18       0.86      0.90      0.88        69\n",
            "          19       0.83      0.76      0.79        71\n",
            "          20       0.82      0.86      0.84        64\n",
            "          21       0.72      0.64      0.68        73\n",
            "          22       0.99      0.90      0.94        78\n",
            "          23       0.83      0.79      0.81        78\n",
            "          24       0.72      0.68      0.70        68\n",
            "          25       0.95      0.95      0.95        73\n",
            "          26       0.65      0.70      0.67        86\n",
            "          27       0.81      0.79      0.80        61\n",
            "          28       0.96      0.83      0.89        86\n",
            "          29       0.90      0.93      0.92        70\n",
            "          30       0.88      0.88      0.88        60\n",
            "          31       0.65      0.75      0.70        71\n",
            "          32       0.81      0.78      0.79        64\n",
            "          33       0.66      0.78      0.72        65\n",
            "          34       0.78      0.76      0.77        59\n",
            "          35       0.88      0.94      0.91        69\n",
            "          36       0.68      0.69      0.68        74\n",
            "          37       0.80      0.75      0.78        60\n",
            "          38       0.82      0.86      0.84        70\n",
            "          39       0.90      0.87      0.88        69\n",
            "          40       0.74      0.74      0.74        62\n",
            "          41       0.72      0.72      0.72        65\n",
            "          42       0.85      0.76      0.80        58\n",
            "          43       0.63      0.71      0.67        63\n",
            "          44       0.81      0.82      0.81        66\n",
            "          45       0.92      0.95      0.93        74\n",
            "          46       0.87      0.87      0.87        68\n",
            "          47       0.73      0.65      0.69        57\n",
            "          48       0.64      0.63      0.63        62\n",
            "          49       0.78      0.77      0.77        60\n",
            "          50       0.51      0.56      0.54        68\n",
            "          51       0.98      1.00      0.99        59\n",
            "          52       0.91      0.93      0.92        76\n",
            "          53       0.67      0.51      0.58        67\n",
            "\n",
            "    accuracy                           0.80      3629\n",
            "   macro avg       0.80      0.80      0.80      3629\n",
            "weighted avg       0.81      0.80      0.80      3629\n",
            "\n"
          ]
        }
      ]
    },
    {
      "cell_type": "markdown",
      "source": [
        "# Support Vector Classifier"
      ],
      "metadata": {
        "id": "z8jYfeGhvQk4"
      }
    },
    {
      "cell_type": "code",
      "source": [
        "from sklearn.svm import SVC\n",
        "\n",
        "svc=SVC()\n",
        "svc.fit(x_train,y_train)\n",
        "\n",
        "ad_pred=svc.predict(x_test)\n",
        "\n",
        "print(\"Accuracy\",accuracy_score(y_test,ad_pred)*100)\n",
        "print(confusion_matrix(y_test,ad_pred))\n",
        "print(classification_report(y_test,ad_pred))"
      ],
      "metadata": {
        "colab": {
          "base_uri": "https://localhost:8080/"
        },
        "id": "_JCouhDVvSCu",
        "outputId": "e7a6f4ad-ead0-48ae-f3cb-32dd3bd9d633"
      },
      "execution_count": 103,
      "outputs": [
        {
          "output_type": "stream",
          "name": "stdout",
          "text": [
            "Accuracy 81.64783686966106\n",
            "[[68  0  0 ...  0  0  0]\n",
            " [ 0 45  0 ...  0  0  0]\n",
            " [ 0  0 68 ...  0  0  0]\n",
            " ...\n",
            " [ 0  0  0 ... 59  0  0]\n",
            " [ 0  0  0 ...  0 72  0]\n",
            " [ 0  2  1 ...  0  0 45]]\n",
            "              precision    recall  f1-score   support\n",
            "\n",
            "           0       0.76      0.87      0.81        78\n",
            "           1       0.58      0.64      0.61        70\n",
            "           2       0.99      0.99      0.99        69\n",
            "           3       0.85      0.77      0.81        61\n",
            "           4       0.89      0.89      0.89        61\n",
            "           5       0.88      0.88      0.88        67\n",
            "           6       0.95      0.95      0.95        59\n",
            "           7       0.73      0.84      0.78        55\n",
            "           8       0.97      0.95      0.96        66\n",
            "           9       0.66      0.93      0.77        56\n",
            "          10       0.67      0.74      0.70        62\n",
            "          11       0.83      0.92      0.87        60\n",
            "          12       0.94      0.94      0.94        67\n",
            "          13       0.60      0.56      0.58        66\n",
            "          14       0.86      0.89      0.87        79\n",
            "          15       0.97      1.00      0.99        73\n",
            "          16       0.98      0.90      0.94        70\n",
            "          17       0.86      0.90      0.88        67\n",
            "          18       0.81      0.87      0.84        69\n",
            "          19       0.78      0.80      0.79        71\n",
            "          20       0.98      0.86      0.92        64\n",
            "          21       0.64      0.60      0.62        73\n",
            "          22       0.99      0.96      0.97        78\n",
            "          23       0.86      0.83      0.84        78\n",
            "          24       0.67      0.46      0.54        68\n",
            "          25       0.96      0.93      0.94        73\n",
            "          26       0.71      0.51      0.59        86\n",
            "          27       0.64      0.75      0.69        61\n",
            "          28       1.00      0.94      0.97        86\n",
            "          29       0.95      1.00      0.97        70\n",
            "          30       0.89      0.80      0.84        60\n",
            "          31       0.58      0.62      0.60        71\n",
            "          32       0.84      0.84      0.84        64\n",
            "          33       0.83      0.68      0.75        65\n",
            "          34       0.65      0.78      0.71        59\n",
            "          35       0.91      1.00      0.95        69\n",
            "          36       0.82      0.74      0.78        74\n",
            "          37       0.75      0.78      0.76        60\n",
            "          38       0.76      0.73      0.74        70\n",
            "          39       0.70      0.72      0.71        69\n",
            "          40       0.76      0.98      0.86        62\n",
            "          41       0.78      0.80      0.79        65\n",
            "          42       0.91      0.90      0.90        58\n",
            "          43       0.81      0.76      0.79        63\n",
            "          44       0.67      0.74      0.71        66\n",
            "          45       0.95      0.93      0.94        74\n",
            "          46       0.94      0.93      0.93        68\n",
            "          47       0.71      0.81      0.75        57\n",
            "          48       0.82      0.76      0.79        62\n",
            "          49       0.82      0.90      0.86        60\n",
            "          50       0.34      0.25      0.29        68\n",
            "          51       1.00      1.00      1.00        59\n",
            "          52       0.97      0.95      0.96        76\n",
            "          53       0.88      0.67      0.76        67\n",
            "\n",
            "    accuracy                           0.82      3629\n",
            "   macro avg       0.82      0.82      0.81      3629\n",
            "weighted avg       0.82      0.82      0.81      3629\n",
            "\n"
          ]
        }
      ]
    },
    {
      "cell_type": "markdown",
      "source": [
        "# Random Forest Classifier"
      ],
      "metadata": {
        "id": "64GKG8qfvXO8"
      }
    },
    {
      "cell_type": "code",
      "source": [
        "from sklearn.ensemble import RandomForestClassifier\n",
        "\n",
        "\n",
        "Rrf=RandomForestClassifier()\n",
        "Rrf.fit(x_train,y_train)\n",
        "\n",
        "Rrf_pred=Rrf.predict(x_test)\n",
        "\n",
        "print(\"Accuracy\",accuracy_score(y_test,Rrf_pred)*100)\n",
        "print(confusion_matrix(y_test,Rrf_pred))\n",
        "print(classification_report(y_test,Rrf_pred))\n"
      ],
      "metadata": {
        "colab": {
          "base_uri": "https://localhost:8080/"
        },
        "id": "MFZrXfotvZ5v",
        "outputId": "12cb3835-d999-4d44-ec5a-ad68178f8963"
      },
      "execution_count": 104,
      "outputs": [
        {
          "output_type": "stream",
          "name": "stdout",
          "text": [
            "Accuracy 91.54036924772664\n",
            "[[68  0  0 ...  0  0  0]\n",
            " [ 0 60  0 ...  0  0  0]\n",
            " [ 0  0 69 ...  0  0  0]\n",
            " ...\n",
            " [ 0  0  0 ... 59  0  0]\n",
            " [ 0  0  0 ...  0 76  0]\n",
            " [ 0  1  1 ...  0  0 52]]\n",
            "              precision    recall  f1-score   support\n",
            "\n",
            "           0       0.87      0.87      0.87        78\n",
            "           1       0.86      0.86      0.86        70\n",
            "           2       0.96      1.00      0.98        69\n",
            "           3       0.90      0.89      0.89        61\n",
            "           4       0.94      1.00      0.97        61\n",
            "           5       0.86      0.88      0.87        67\n",
            "           6       0.98      1.00      0.99        59\n",
            "           7       0.95      0.95      0.95        55\n",
            "           8       0.97      0.97      0.97        66\n",
            "           9       0.88      0.95      0.91        56\n",
            "          10       0.82      0.90      0.86        62\n",
            "          11       0.94      0.97      0.95        60\n",
            "          12       0.98      0.97      0.98        67\n",
            "          13       0.81      0.83      0.82        66\n",
            "          14       0.91      0.87      0.89        79\n",
            "          15       1.00      1.00      1.00        73\n",
            "          16       0.98      0.93      0.96        70\n",
            "          17       0.85      0.91      0.88        67\n",
            "          18       0.93      0.93      0.93        69\n",
            "          19       0.87      0.93      0.90        71\n",
            "          20       0.98      0.95      0.97        64\n",
            "          21       0.86      0.81      0.83        73\n",
            "          22       1.00      0.99      0.99        78\n",
            "          23       0.89      0.92      0.91        78\n",
            "          24       0.80      0.78      0.79        68\n",
            "          25       1.00      1.00      1.00        73\n",
            "          26       0.90      0.85      0.87        86\n",
            "          27       0.87      0.90      0.89        61\n",
            "          28       0.98      0.98      0.98        86\n",
            "          29       1.00      0.97      0.99        70\n",
            "          30       0.98      0.90      0.94        60\n",
            "          31       0.78      0.87      0.82        71\n",
            "          32       0.95      0.91      0.93        64\n",
            "          33       0.90      0.88      0.89        65\n",
            "          34       0.95      0.93      0.94        59\n",
            "          35       0.96      1.00      0.98        69\n",
            "          36       0.92      0.88      0.90        74\n",
            "          37       0.90      0.90      0.90        60\n",
            "          38       0.99      0.94      0.96        70\n",
            "          39       0.95      0.88      0.92        69\n",
            "          40       0.84      0.98      0.90        62\n",
            "          41       0.95      0.89      0.92        65\n",
            "          42       0.92      0.95      0.93        58\n",
            "          43       0.86      0.89      0.88        63\n",
            "          44       0.82      0.94      0.87        66\n",
            "          45       0.97      0.97      0.97        74\n",
            "          46       0.96      0.97      0.96        68\n",
            "          47       0.98      0.82      0.90        57\n",
            "          48       0.86      0.87      0.86        62\n",
            "          49       0.87      0.90      0.89        60\n",
            "          50       0.73      0.63      0.68        68\n",
            "          51       1.00      1.00      1.00        59\n",
            "          52       1.00      1.00      1.00        76\n",
            "          53       0.93      0.78      0.85        67\n",
            "\n",
            "    accuracy                           0.92      3629\n",
            "   macro avg       0.92      0.92      0.92      3629\n",
            "weighted avg       0.92      0.92      0.92      3629\n",
            "\n"
          ]
        }
      ]
    },
    {
      "cell_type": "markdown",
      "source": [
        "# Hypere Parameter Tuning"
      ],
      "metadata": {
        "id": "WXyYIRBJvhwl"
      }
    },
    {
      "cell_type": "code",
      "source": [
        "from sklearn.model_selection import GridSearchCV\n",
        "\n",
        "# Creating Parameter List to pass in Grid SearchCV\n",
        "\n",
        "parameters = {'max_features': ['auto','sqrt','log2'],\n",
        "              'max_depth' : [4,5,6,7,8],\n",
        "              'criterion' :['gini','entropy']}"
      ],
      "metadata": {
        "id": "nE3--rZpvkc2"
      },
      "execution_count": 105,
      "outputs": []
    },
    {
      "cell_type": "code",
      "source": [
        "gcv=GridSearchCV(RandomForestClassifier(),parameters,cv=5,scoring=\"accuracy\")\n",
        "gcv.fit(x_train,y_train)\n",
        "gcv.best_params_"
      ],
      "metadata": {
        "colab": {
          "base_uri": "https://localhost:8080/"
        },
        "id": "skD3QQ-9vnm3",
        "outputId": "33f770de-a6b9-42e3-dc52-32494f37fb5b"
      },
      "execution_count": 106,
      "outputs": [
        {
          "output_type": "execute_result",
          "data": {
            "text/plain": [
              "{'criterion': 'entropy', 'max_depth': 8, 'max_features': 'log2'}"
            ]
          },
          "metadata": {},
          "execution_count": 106
        }
      ]
    },
    {
      "cell_type": "code",
      "source": [
        "gcv_pred=gcv.best_estimator_.predict(x_test)\n",
        "accuracy_score(y_test,gcv_pred)"
      ],
      "metadata": {
        "colab": {
          "base_uri": "https://localhost:8080/"
        },
        "id": "R8HRn9emvnx2",
        "outputId": "e3a1db14-dab9-4d2c-ca0e-e2b6a7367cb5"
      },
      "execution_count": 107,
      "outputs": [
        {
          "output_type": "execute_result",
          "data": {
            "text/plain": [
              "0.8004960044089281"
            ]
          },
          "metadata": {},
          "execution_count": 107
        }
      ]
    },
    {
      "cell_type": "markdown",
      "source": [
        "# Saving the Best Model"
      ],
      "metadata": {
        "id": "8NdN8tOgvy-9"
      }
    },
    {
      "cell_type": "markdown",
      "source": [
        "since the accuracy score of Random forest classifier is 92 % we save it "
      ],
      "metadata": {
        "id": "ef180KQDO3YV"
      }
    },
    {
      "cell_type": "code",
      "source": [
        "import pickle\n",
        "filename = 'Avocado Region.pkl'\n",
        "pickle.dump(Rrf,open(filename,'wb'))"
      ],
      "metadata": {
        "id": "codSPxR8v1cV"
      },
      "execution_count": 110,
      "outputs": []
    }
  ]
}